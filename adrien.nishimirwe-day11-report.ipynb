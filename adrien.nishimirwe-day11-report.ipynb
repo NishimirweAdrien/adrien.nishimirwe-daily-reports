{
 "cells": [
  {
   "cell_type": "markdown",
   "id": "b510ff73-048b-4701-9685-7e3aa8d00a90",
   "metadata": {},
   "source": [
    "Practical_6: Numpy"
   ]
  },
  {
   "cell_type": "markdown",
   "id": "75983813-b899-42dd-ab0d-272d199328bf",
   "metadata": {},
   "source": [
    "Exercise 1:\n",
    "Create a NumPy array of integers from 1 to 10."
   ]
  },
  {
   "cell_type": "code",
   "execution_count": 2,
   "id": "6613bae2-6e65-4e6d-9133-173e49a0a7a6",
   "metadata": {},
   "outputs": [],
   "source": [
    "import numpy as np"
   ]
  },
  {
   "cell_type": "code",
   "execution_count": 12,
   "id": "3011d15c-7b8a-4d01-9af4-ffcf5630fdc3",
   "metadata": {},
   "outputs": [
    {
     "data": {
      "text/plain": [
       "array([ 1,  2,  3,  4,  5,  6,  7,  8,  9, 10])"
      ]
     },
     "execution_count": 12,
     "metadata": {},
     "output_type": "execute_result"
    }
   ],
   "source": [
    "my_int=np.arange(1,11)\n",
    "my_int"
   ]
  },
  {
   "cell_type": "markdown",
   "id": "e48cac2a-9cb3-4ad8-89be-b37381c16921",
   "metadata": {},
   "source": [
    "Exercise 2:\n",
    "Create a 3x3 NumPy array filled with zeros."
   ]
  },
  {
   "cell_type": "code",
   "execution_count": 64,
   "id": "98c05794-d2b3-40c3-9e9f-5280e62ec8bf",
   "metadata": {},
   "outputs": [
    {
     "data": {
      "text/plain": [
       "array([[0, 0, 0],\n",
       "       [0, 0, 0],\n",
       "       [0, 0, 0]])"
      ]
     },
     "execution_count": 64,
     "metadata": {},
     "output_type": "execute_result"
    }
   ],
   "source": [
    "my_array = np.zeros((3,3))\n",
    "my_array.astype(int)"
   ]
  },
  {
   "cell_type": "markdown",
   "id": "d22df8ae-a695-4695-b93a-8e09f58a012d",
   "metadata": {},
   "source": [
    "Exercise 3:\n",
    "Create a NumPy array of 10 evenly spaced numbers between 0 and 5."
   ]
  },
  {
   "cell_type": "code",
   "execution_count": 14,
   "id": "7aa00768-6379-4426-a733-9927b462ccb7",
   "metadata": {},
   "outputs": [
    {
     "name": "stdout",
     "output_type": "stream",
     "text": [
      "[0.         0.55555556 1.11111111 1.66666667 2.22222222 2.77777778\n",
      " 3.33333333 3.88888889 4.44444444 5.        ]\n"
     ]
    }
   ],
   "source": [
    "my_evenly = np.linspace(0, 5, 10)\n",
    "print(my_evenly)"
   ]
  },
  {
   "cell_type": "markdown",
   "id": "ff2c8a15-0899-4396-af22-dda23d26406a",
   "metadata": {},
   "source": [
    "Exercise 4:\n",
    "Create a 5x5 identity matrix using NumPy."
   ]
  },
  {
   "cell_type": "code",
   "execution_count": 24,
   "id": "c664cec1-f0bc-4612-8a67-e69e31a35376",
   "metadata": {},
   "outputs": [
    {
     "data": {
      "text/plain": [
       "array([[1, 0, 0, 0, 0],\n",
       "       [0, 1, 0, 0, 0],\n",
       "       [0, 0, 1, 0, 0],\n",
       "       [0, 0, 0, 1, 0],\n",
       "       [0, 0, 0, 0, 1]])"
      ]
     },
     "execution_count": 24,
     "metadata": {},
     "output_type": "execute_result"
    }
   ],
   "source": [
    "my_five = np.array([[1,0,0,0,0], [0,1,0,0,0], [0,0,1,0,0],[0,0,0,1,0], [0,0,0,0,1]])\n",
    "my_five"
   ]
  },
  {
   "cell_type": "markdown",
   "id": "f7c7a683-b6e9-4b9b-b5ea-55016b0c5d44",
   "metadata": {},
   "source": [
    "Exercise 5:\n",
    "Create a 4x4 matrix with random values between 0 and 1."
   ]
  },
  {
   "cell_type": "code",
   "execution_count": 19,
   "id": "05d32f2b-8342-4e63-b360-49cb37b4f14f",
   "metadata": {},
   "outputs": [
    {
     "data": {
      "text/plain": [
       "array([[0.93711163, 0.15623631, 0.84303857, 0.15524518],\n",
       "       [0.77326055, 0.01054402, 0.64864639, 0.37636548],\n",
       "       [0.40858546, 0.31339509, 0.18992873, 0.56441552],\n",
       "       [0.49713107, 0.39625419, 0.08598607, 0.36775246]])"
      ]
     },
     "execution_count": 19,
     "metadata": {},
     "output_type": "execute_result"
    }
   ],
   "source": [
    "matrix = np.random.rand(4, 4)  \n",
    "matrix"
   ]
  },
  {
   "cell_type": "markdown",
   "id": "ea64b510-4898-40a8-9e83-1cd714f38c69",
   "metadata": {},
   "source": [
    "Exercise 6:\n",
    "Find the shape of a NumPy array."
   ]
  },
  {
   "cell_type": "code",
   "execution_count": 20,
   "id": "9925a61a-b735-4389-9570-e59c6418aa9d",
   "metadata": {},
   "outputs": [
    {
     "name": "stdout",
     "output_type": "stream",
     "text": [
      "matrix shape: (4, 4)\n"
     ]
    }
   ],
   "source": [
    "print(\"matrix shape:\", matrix.shape)"
   ]
  },
  {
   "cell_type": "markdown",
   "id": "9bbd20cd-441e-4cd5-b817-a4802fbdadab",
   "metadata": {},
   "source": [
    "Exercise 7:\n",
    "Reshape a 1D NumPy array of 16 elements into a 4x4 matrix."
   ]
  },
  {
   "cell_type": "code",
   "execution_count": 35,
   "id": "95fa6914-b838-47d4-9061-4eb4582dce94",
   "metadata": {},
   "outputs": [
    {
     "data": {
      "text/plain": [
       "array([[ 0,  1,  2,  3],\n",
       "       [ 4,  5,  6,  7],\n",
       "       [ 8,  9, 10, 11],\n",
       "       [12, 13, 14, 15]])"
      ]
     },
     "execution_count": 35,
     "metadata": {},
     "output_type": "execute_result"
    }
   ],
   "source": [
    "array_1d = np.arange(16)  \n",
    "matrix_4 = array_1d.reshape(4, 4)  \n",
    "my_A=array_1d\n",
    "my_A\n",
    "matrix_4"
   ]
  },
  {
   "cell_type": "code",
   "execution_count": 29,
   "id": "22fd9e33-9230-47c0-b2af-0a0fd35ed368",
   "metadata": {},
   "outputs": [
    {
     "data": {
      "text/plain": [
       "array([[0.77132064, 0.02075195, 0.63364823, 0.74880388],\n",
       "       [0.49850701, 0.22479665, 0.19806286, 0.76053071],\n",
       "       [0.16911084, 0.08833981, 0.68535982, 0.95339335],\n",
       "       [0.00394827, 0.51219226, 0.81262096, 0.61252607]])"
      ]
     },
     "execution_count": 29,
     "metadata": {},
     "output_type": "execute_result"
    }
   ],
   "source": [
    "np.random.seed(10)\n",
    "A=np.random.rand(4,4)\n",
    "A"
   ]
  },
  {
   "cell_type": "code",
   "execution_count": 30,
   "id": "64cbd55f-2716-49d9-8bfc-a438d32bff8c",
   "metadata": {},
   "outputs": [
    {
     "data": {
      "text/plain": [
       "array([[0.77132064, 0.02075195, 0.63364823, 0.74880388],\n",
       "       [0.49850701, 0.22479665, 0.19806286, 0.76053071],\n",
       "       [0.16911084, 0.08833981, 0.68535982, 0.95339335],\n",
       "       [0.00394827, 0.51219226, 0.81262096, 0.61252607]])"
      ]
     },
     "execution_count": 30,
     "metadata": {},
     "output_type": "execute_result"
    }
   ],
   "source": [
    "np.random.seed(10)\n",
    "A=np.random.rand(4,4)\n",
    "A\n"
   ]
  },
  {
   "cell_type": "markdown",
   "id": "70e75092-6976-4199-aaee-5bfba0e1a59b",
   "metadata": {},
   "source": [
    "Exercise 8:\n",
    "Find the data type of the elements in a NumPy array."
   ]
  },
  {
   "cell_type": "code",
   "execution_count": 36,
   "id": "fd5144cb-b109-4457-94c1-855021d3f9ce",
   "metadata": {},
   "outputs": [
    {
     "data": {
      "text/plain": [
       "dtype('float64')"
      ]
     },
     "execution_count": 36,
     "metadata": {},
     "output_type": "execute_result"
    }
   ],
   "source": [
    "A.dtype"
   ]
  },
  {
   "cell_type": "markdown",
   "id": "f1101523-c053-4f5f-a1c7-379d08fc436a",
   "metadata": {},
   "source": [
    "Exercise 9:\n",
    "Create a NumPy array of integers from 1 to 100 and find all even numbers in the array."
   ]
  },
  {
   "cell_type": "code",
   "execution_count": 44,
   "id": "986afb6c-8345-4c52-be6b-9be8dc737281",
   "metadata": {},
   "outputs": [
    {
     "data": {
      "text/plain": [
       "array([  2,   4,   6,   8,  10,  12,  14,  16,  18,  20,  22,  24,  26,\n",
       "        28,  30,  32,  34,  36,  38,  40,  42,  44,  46,  48,  50,  52,\n",
       "        54,  56,  58,  60,  62,  64,  66,  68,  70,  72,  74,  76,  78,\n",
       "        80,  82,  84,  86,  88,  90,  92,  94,  96,  98, 100])"
      ]
     },
     "execution_count": 44,
     "metadata": {},
     "output_type": "execute_result"
    }
   ],
   "source": [
    "A=np.arange(2,101,2)\n",
    "A"
   ]
  },
  {
   "cell_type": "markdown",
   "id": "0b4c723c-1b1b-4fa6-b75d-bf5898090df5",
   "metadata": {},
   "source": [
    "Exercise 10:\n",
    "Generate a 6x6 matrix of random integers between 10 and 50."
   ]
  },
  {
   "cell_type": "code",
   "execution_count": 48,
   "id": "e4e8119c-36ac-46bc-ac95-40105cff0361",
   "metadata": {},
   "outputs": [
    {
     "data": {
      "text/plain": [
       "array([[22, 15, 49, 18, 47, 47],\n",
       "       [19, 46, 16, 31, 11, 16],\n",
       "       [12, 43, 46, 39, 34, 28],\n",
       "       [46, 12, 19, 45, 27, 46],\n",
       "       [38, 29, 12, 10, 41, 13],\n",
       "       [20, 45, 17, 18, 38, 47]])"
      ]
     },
     "execution_count": 48,
     "metadata": {},
     "output_type": "execute_result"
    }
   ],
   "source": [
    "A=np.random.randint(10,50,(6,6))\n",
    "A"
   ]
  },
  {
   "cell_type": "markdown",
   "id": "61afc82e-da05-4776-8591-732e97e5217f",
   "metadata": {},
   "source": [
    "Exercise 11:\n",
    "Slice a 2D NumPy array to extract a submatrix."
   ]
  },
  {
   "cell_type": "code",
   "execution_count": 56,
   "id": "33baccdb-7569-45a2-838c-0a27ca080687",
   "metadata": {},
   "outputs": [
    {
     "name": "stdout",
     "output_type": "stream",
     "text": [
      "[[ 1  2  3  4]\n",
      " [ 5  6  7  8]\n",
      " [ 9 10 11 12]\n",
      " [13 14 15 16]]\n",
      "\n",
      "Extracted Submatrix:\n",
      "[[ 6  7]\n",
      " [10 11]]\n"
     ]
    }
   ],
   "source": [
    "import numpy as np  \n",
    "A = np.array([[1, 2, 3, 4],  \n",
    "              [5, 6, 7, 8],  \n",
    "              [9, 10, 11, 12],  \n",
    "              [13, 14, 15, 16]])   \n",
    "submatrix = A[1:3, 1:3] \n",
    "print(A)  \n",
    "\n",
    "print(\"\\nExtracted Submatrix:\")  \n",
    "print(submatrix)"
   ]
  },
  {
   "cell_type": "markdown",
   "id": "34aff2c7-be95-4a81-98b3-da90f567b71e",
   "metadata": {},
   "source": [
    "Exercise 12:\n",
    "Calculate the sum of all elements in a NumPy array."
   ]
  },
  {
   "cell_type": "code",
   "execution_count": 57,
   "id": "9354344a-c6e5-4975-9dca-e9a2d0bc9d2d",
   "metadata": {},
   "outputs": [
    {
     "data": {
      "text/plain": [
       "15"
      ]
     },
     "execution_count": 57,
     "metadata": {},
     "output_type": "execute_result"
    }
   ],
   "source": [
    "A=np.array([1,2,3,4,5])\n",
    "np.sum(A)"
   ]
  },
  {
   "cell_type": "markdown",
   "id": "8631a7cf-42f7-4fea-8d1e-029cf8b4a170",
   "metadata": {},
   "source": [
    "Exercise 13:\n",
    "Calculate the mean, median, and standard deviation of a NumPy array."
   ]
  },
  {
   "cell_type": "code",
   "execution_count": 58,
   "id": "331f7b2f-27f1-4443-a0c6-7e46fd14b1d5",
   "metadata": {},
   "outputs": [
    {
     "data": {
      "text/plain": [
       "3.0"
      ]
     },
     "execution_count": 58,
     "metadata": {},
     "output_type": "execute_result"
    }
   ],
   "source": [
    "A=np.array([1,2,3,4,5])\n",
    "np.mean(A)"
   ]
  },
  {
   "cell_type": "code",
   "execution_count": 64,
   "id": "9916e960-7750-4d64-a45b-2d8b7945d754",
   "metadata": {},
   "outputs": [
    {
     "name": "stdout",
     "output_type": "stream",
     "text": [
      "Median is  3.0\n"
     ]
    }
   ],
   "source": [
    "A=np.array([5,3,1,4,2])\n",
    "B=np.sort(A)\n",
    "C=len(B)\n",
    "if(C%2==0):\n",
    "    print(\"Median is \", C/2)\n",
    "else:\n",
    "    print(\"Median is \",(C+1)/2)"
   ]
  },
  {
   "cell_type": "code",
   "execution_count": 69,
   "id": "8d0fd29e-e3a4-477c-be90-7af3f43dbb5f",
   "metadata": {},
   "outputs": [
    {
     "data": {
      "text/plain": [
       "1.4142135623730951"
      ]
     },
     "execution_count": 69,
     "metadata": {},
     "output_type": "execute_result"
    }
   ],
   "source": [
    "A=np.array([5,3,1,4,2])\n",
    "np.std(A,ddof=0)"
   ]
  },
  {
   "cell_type": "code",
   "execution_count": 66,
   "id": "4dbfe323-caa1-4af9-ba64-fc0106d15d4c",
   "metadata": {},
   "outputs": [
    {
     "name": "stdout",
     "output_type": "stream",
     "text": [
      "Help on _ArrayFunctionDispatcher in module numpy:\n",
      "\n",
      "std(a, axis=None, dtype=None, out=None, ddof=0, keepdims=<no value>, *, where=<no value>)\n",
      "    Compute the standard deviation along the specified axis.\n",
      "\n",
      "    Returns the standard deviation, a measure of the spread of a distribution,\n",
      "    of the array elements. The standard deviation is computed for the\n",
      "    flattened array by default, otherwise over the specified axis.\n",
      "\n",
      "    Parameters\n",
      "    ----------\n",
      "    a : array_like\n",
      "        Calculate the standard deviation of these values.\n",
      "    axis : None or int or tuple of ints, optional\n",
      "        Axis or axes along which the standard deviation is computed. The\n",
      "        default is to compute the standard deviation of the flattened array.\n",
      "\n",
      "        .. versionadded:: 1.7.0\n",
      "\n",
      "        If this is a tuple of ints, a standard deviation is performed over\n",
      "        multiple axes, instead of a single axis or all the axes as before.\n",
      "    dtype : dtype, optional\n",
      "        Type to use in computing the standard deviation. For arrays of\n",
      "        integer type the default is float64, for arrays of float types it is\n",
      "        the same as the array type.\n",
      "    out : ndarray, optional\n",
      "        Alternative output array in which to place the result. It must have\n",
      "        the same shape as the expected output but the type (of the calculated\n",
      "        values) will be cast if necessary.\n",
      "    ddof : int, optional\n",
      "        Means Delta Degrees of Freedom.  The divisor used in calculations\n",
      "        is ``N - ddof``, where ``N`` represents the number of elements.\n",
      "        By default `ddof` is zero.\n",
      "    keepdims : bool, optional\n",
      "        If this is set to True, the axes which are reduced are left\n",
      "        in the result as dimensions with size one. With this option,\n",
      "        the result will broadcast correctly against the input array.\n",
      "\n",
      "        If the default value is passed, then `keepdims` will not be\n",
      "        passed through to the `std` method of sub-classes of\n",
      "        `ndarray`, however any non-default value will be.  If the\n",
      "        sub-class' method does not implement `keepdims` any\n",
      "        exceptions will be raised.\n",
      "\n",
      "    where : array_like of bool, optional\n",
      "        Elements to include in the standard deviation.\n",
      "        See `~numpy.ufunc.reduce` for details.\n",
      "\n",
      "        .. versionadded:: 1.20.0\n",
      "\n",
      "    Returns\n",
      "    -------\n",
      "    standard_deviation : ndarray, see dtype parameter above.\n",
      "        If `out` is None, return a new array containing the standard deviation,\n",
      "        otherwise return a reference to the output array.\n",
      "\n",
      "    See Also\n",
      "    --------\n",
      "    var, mean, nanmean, nanstd, nanvar\n",
      "    :ref:`ufuncs-output-type`\n",
      "\n",
      "    Notes\n",
      "    -----\n",
      "    The standard deviation is the square root of the average of the squared\n",
      "    deviations from the mean, i.e., ``std = sqrt(mean(x))``, where\n",
      "    ``x = abs(a - a.mean())**2``.\n",
      "\n",
      "    The average squared deviation is typically calculated as ``x.sum() / N``,\n",
      "    where ``N = len(x)``. If, however, `ddof` is specified, the divisor\n",
      "    ``N - ddof`` is used instead. In standard statistical practice, ``ddof=1``\n",
      "    provides an unbiased estimator of the variance of the infinite population.\n",
      "    ``ddof=0`` provides a maximum likelihood estimate of the variance for\n",
      "    normally distributed variables. The standard deviation computed in this\n",
      "    function is the square root of the estimated variance, so even with\n",
      "    ``ddof=1``, it will not be an unbiased estimate of the standard deviation\n",
      "    per se.\n",
      "\n",
      "    Note that, for complex numbers, `std` takes the absolute\n",
      "    value before squaring, so that the result is always real and nonnegative.\n",
      "\n",
      "    For floating-point input, the *std* is computed using the same\n",
      "    precision the input has. Depending on the input data, this can cause\n",
      "    the results to be inaccurate, especially for float32 (see example below).\n",
      "    Specifying a higher-accuracy accumulator using the `dtype` keyword can\n",
      "    alleviate this issue.\n",
      "\n",
      "    Examples\n",
      "    --------\n",
      "    >>> a = np.array([[1, 2], [3, 4]])\n",
      "    >>> np.std(a)\n",
      "    1.1180339887498949 # may vary\n",
      "    >>> np.std(a, axis=0)\n",
      "    array([1.,  1.])\n",
      "    >>> np.std(a, axis=1)\n",
      "    array([0.5,  0.5])\n",
      "\n",
      "    In single precision, std() can be inaccurate:\n",
      "\n",
      "    >>> a = np.zeros((2, 512*512), dtype=np.float32)\n",
      "    >>> a[0, :] = 1.0\n",
      "    >>> a[1, :] = 0.1\n",
      "    >>> np.std(a)\n",
      "    0.45000005\n",
      "\n",
      "    Computing the standard deviation in float64 is more accurate:\n",
      "\n",
      "    >>> np.std(a, dtype=np.float64)\n",
      "    0.44999999925494177 # may vary\n",
      "\n",
      "    Specifying a where argument:\n",
      "\n",
      "    >>> a = np.array([[14, 8, 11, 10], [7, 9, 10, 11], [10, 15, 5, 10]])\n",
      "    >>> np.std(a)\n",
      "    2.614064523559687 # may vary\n",
      "    >>> np.std(a, where=[[True], [True], [False]])\n",
      "    2.0\n",
      "\n"
     ]
    }
   ],
   "source": [
    "help(np.std)"
   ]
  },
  {
   "cell_type": "markdown",
   "id": "17f8dabf-6f56-4b11-ad20-63607fe1d57a",
   "metadata": {},
   "source": [
    "Exercise 14:\n",
    "Find the maximum and minimum values in a NumPy array."
   ]
  },
  {
   "cell_type": "code",
   "execution_count": 71,
   "id": "0d698134-2c82-4ec9-bdc6-0343d2b75015",
   "metadata": {},
   "outputs": [
    {
     "name": "stdout",
     "output_type": "stream",
     "text": [
      "The maximum is :  5\n",
      "The minimum is :  1\n"
     ]
    }
   ],
   "source": [
    "A=np.array([5,3,1,4,2])\n",
    "print(\"The maximum is : \",np.max(A))\n",
    "print(\"The minimum is : \",np.min(A))"
   ]
  },
  {
   "cell_type": "markdown",
   "id": "9206c3c0-4373-4d5c-ab29-f02d9ea68efa",
   "metadata": {},
   "source": [
    "Exercise 15:\n",
    "Create a NumPy array of 20 random integers and find the index of the maximum value."
   ]
  },
  {
   "cell_type": "code",
   "execution_count": 22,
   "id": "5b550167-d715-4250-b143-db4251a0ead3",
   "metadata": {},
   "outputs": [
    {
     "name": "stdout",
     "output_type": "stream",
     "text": [
      "[99 82 14 75 54 51 16 15 19 32 17 76 53  7  9 23 14 11 92 62]\n",
      "0\n"
     ]
    }
   ],
   "source": [
    "A = np.random.randint(0, 100, size=20)  \n",
    "print(A)\n",
    "maxvalue=np.argmax(A)\n",
    "print(maxvalue)"
   ]
  },
  {
   "cell_type": "markdown",
   "id": "36a7f0d1-6400-4f77-8d55-c69daf44c4dc",
   "metadata": {},
   "source": [
    "Exercise 16:\n",
    "Create a NumPy array and reverse its elements."
   ]
  },
  {
   "cell_type": "code",
   "execution_count": 81,
   "id": "527938e5-557f-4122-8467-f730de2c9022",
   "metadata": {},
   "outputs": [
    {
     "data": {
      "text/plain": [
       "array([8, 7, 6, 5, 4, 2, 1])"
      ]
     },
     "execution_count": 81,
     "metadata": {},
     "output_type": "execute_result"
    }
   ],
   "source": [
    "A=np.array([1,2,4,5,6,7,8])\n",
    "A[::-1]"
   ]
  },
  {
   "cell_type": "markdown",
   "id": "26d33bc9-1694-42b3-a947-a59de5281475",
   "metadata": {},
   "source": [
    "Exercise 17:\n",
    "Create a 3x3 matrix and multiply it element-wise by another 3x3 matrix."
   ]
  },
  {
   "cell_type": "code",
   "execution_count": 20,
   "id": "d67ec3e3-4038-42c1-83f8-b259c9b7f4c7",
   "metadata": {},
   "outputs": [
    {
     "data": {
      "text/plain": [
       "array([[ 10,  22,  36],\n",
       "       [ 52,  70,  90],\n",
       "       [112, 136, 171]])"
      ]
     },
     "execution_count": 20,
     "metadata": {},
     "output_type": "execute_result"
    }
   ],
   "source": [
    "x = np.array([[1,2,3]\n",
    "              ,[4,5,6],\n",
    "              [7,8,9]])\n",
    "y=np.array([[10,11,12]\n",
    "              ,[13,14,15],\n",
    "              [16,17,19]])\n",
    "x*y"
   ]
  },
  {
   "cell_type": "markdown",
   "id": "f4c5752b-d3ad-4596-b2ed-0f7f07ec0fb8",
   "metadata": {},
   "source": [
    "Exercise 18:\n",
    "Create a diagonal matrix from a given 1D array."
   ]
  },
  {
   "cell_type": "code",
   "execution_count": 92,
   "id": "0f46afd3-2fd7-4a24-9bd9-ad79a5c16821",
   "metadata": {},
   "outputs": [
    {
     "data": {
      "text/plain": [
       "array([[1, 0, 0, 0],\n",
       "       [0, 2, 0, 0],\n",
       "       [0, 0, 3, 0],\n",
       "       [0, 0, 0, 4]])"
      ]
     },
     "execution_count": 92,
     "metadata": {},
     "output_type": "execute_result"
    }
   ],
   "source": [
    "A = np.array([1, 2, 3, 4])  \n",
    "np.diag(A) "
   ]
  },
  {
   "cell_type": "markdown",
   "id": "9da205ff-a8de-4504-9b5b-c56f2fa40181",
   "metadata": {},
   "source": [
    "Exercise 19:\n",
    "Perform matrix multiplication on two 2D NumPy arrays."
   ]
  },
  {
   "cell_type": "code",
   "execution_count": 19,
   "id": "099f3e2a-8c06-48b4-8a07-a14dbdabc27c",
   "metadata": {},
   "outputs": [
    {
     "data": {
      "text/plain": [
       "array([[19, 22],\n",
       "       [43, 50]])"
      ]
     },
     "execution_count": 19,
     "metadata": {},
     "output_type": "execute_result"
    }
   ],
   "source": [
    "x = np.array([[1,2]\n",
    "              ,[3,4]])\n",
    "y=np.array([[5,6]\n",
    "              ,[7,8]])\n",
    "np.dot(x,y)"
   ]
  },
  {
   "cell_type": "markdown",
   "id": "cac440e7-c97e-46b1-8790-7666a7a358ab",
   "metadata": {},
   "source": [
    "Exercise 20:\n",
    "Flatten a 2D NumPy array into a 1D array."
   ]
  },
  {
   "cell_type": "code",
   "execution_count": 103,
   "id": "ece03131-7c0e-4e63-acc2-4598eb7cc4cf",
   "metadata": {},
   "outputs": [
    {
     "data": {
      "text/plain": [
       "array([1, 2, 3, 4])"
      ]
     },
     "execution_count": 103,
     "metadata": {},
     "output_type": "execute_result"
    }
   ],
   "source": [
    "x = np.array([[1,2]\n",
    "              ,[3,4]])\n",
    "x.flatten()"
   ]
  },
  {
   "cell_type": "markdown",
   "id": "26479cc8-8ad5-45f7-bbc5-e484b28b63d7",
   "metadata": {},
   "source": [
    "Exercise 21:\n",
    "Stack two NumPy arrays vertically."
   ]
  },
  {
   "cell_type": "code",
   "execution_count": 118,
   "id": "b4c25a06-53f6-48ab-889c-356aedccd8f0",
   "metadata": {},
   "outputs": [
    {
     "data": {
      "text/plain": [
       "array([[1, 2],\n",
       "       [3, 4],\n",
       "       [5, 6],\n",
       "       [7, 8]])"
      ]
     },
     "execution_count": 118,
     "metadata": {},
     "output_type": "execute_result"
    }
   ],
   "source": [
    "x = np.array([[1,2]\n",
    "              ,[3,4]])\n",
    "y=np.array([[5,6]\n",
    "              ,[7,8]])\n",
    "np.vstack((x,y))"
   ]
  },
  {
   "cell_type": "markdown",
   "id": "35270b6c-f3bf-4839-9b05-1183d102d74d",
   "metadata": {},
   "source": [
    "Exercise 22:\n",
    "Stack two NumPy arrays horizontally."
   ]
  },
  {
   "cell_type": "code",
   "execution_count": 119,
   "id": "72088a77-fbb3-4791-aa08-985f7fed21c4",
   "metadata": {},
   "outputs": [
    {
     "data": {
      "text/plain": [
       "array([[1, 2, 5, 6],\n",
       "       [3, 4, 7, 8]])"
      ]
     },
     "execution_count": 119,
     "metadata": {},
     "output_type": "execute_result"
    }
   ],
   "source": [
    "x = np.array([[1,2]\n",
    "              ,[3,4]])\n",
    "y=np.array([[5,6]\n",
    "              ,[7,8]])\n",
    "np.hstack((x,y))"
   ]
  },
  {
   "cell_type": "markdown",
   "id": "a60ed6fe-7ef3-40f2-a273-af0b2659118a",
   "metadata": {},
   "source": [
    "Exercise 23:\n",
    "Split a NumPy array into multiple sub-arrays."
   ]
  },
  {
   "cell_type": "code",
   "execution_count": 18,
   "id": "232a1428-e8d3-406e-a708-67467e141ede",
   "metadata": {},
   "outputs": [
    {
     "data": {
      "text/plain": [
       "[array([1, 2, 3]), array([4, 5, 6]), array([7, 8, 9])]"
      ]
     },
     "execution_count": 18,
     "metadata": {},
     "output_type": "execute_result"
    }
   ],
   "source": [
    "A = np.array([1, 2, 3, 4, 5, 6, 7, 8, 9])  \n",
    "A_subs = np.split(A, 3)  \n",
    "A_subs"
   ]
  },
  {
   "cell_type": "markdown",
   "id": "cd406923-19c3-49ca-8778-135f8e9bea1f",
   "metadata": {},
   "source": [
    "Exercise 24:\n",
    "Generate a random NumPy array and round each element to two decimal places."
   ]
  },
  {
   "cell_type": "code",
   "execution_count": 17,
   "id": "b4fb08f9-e48a-418f-9a09-8480bd9759f4",
   "metadata": {},
   "outputs": [
    {
     "data": {
      "text/plain": [
       "array([[0.  , 0.08, 0.18, 0.14],\n",
       "       [0.41, 0.96, 0.74, 0.66],\n",
       "       [0.17, 0.59, 0.44, 0.12]])"
      ]
     },
     "execution_count": 17,
     "metadata": {},
     "output_type": "execute_result"
    }
   ],
   "source": [
    "A = np.random.rand(3, 4)  \n",
    "rounded_A = np.round(A, 2)  \n",
    "rounded_A"
   ]
  },
  {
   "cell_type": "markdown",
   "id": "34df7b53-3785-4ef4-a589-32bc882137b5",
   "metadata": {},
   "source": [
    "Exercise 25:\n",
    "Find the unique elements of a NumPy array"
   ]
  },
  {
   "cell_type": "code",
   "execution_count": 16,
   "id": "b3192914-e1f0-438d-bbea-d86aa0d2573f",
   "metadata": {},
   "outputs": [
    {
     "data": {
      "text/plain": [
       "array([1, 2, 3, 4, 5, 6])"
      ]
     },
     "execution_count": 16,
     "metadata": {},
     "output_type": "execute_result"
    }
   ],
   "source": [
    "A = np.array([1, 2, 2, 3, 4, 4, 5, 6, 1])   \n",
    "unique_A = np.unique(A)  \n",
    "unique_A"
   ]
  },
  {
   "cell_type": "markdown",
   "id": "5a9ed2de-9271-46d3-a61b-33d21884f628",
   "metadata": {},
   "source": [
    "Exercise 26:\n",
    "Replace all elements in a NumPy array that are less than a specific value with that value."
   ]
  },
  {
   "cell_type": "code",
   "execution_count": 15,
   "id": "65bdcead-5514-4fd5-95a3-d89440699cc9",
   "metadata": {},
   "outputs": [
    {
     "data": {
      "text/plain": [
       "array([3, 5, 3, 7, 3, 8, 3, 4])"
      ]
     },
     "execution_count": 15,
     "metadata": {},
     "output_type": "execute_result"
    }
   ],
   "source": [
    "A = np.array([1, 5, 3, 7, 2, 8, 0, 4])  \n",
    "my_value = 3   \n",
    "A[A < my_value] = my_value\n",
    "A"
   ]
  },
  {
   "cell_type": "markdown",
   "id": "1998e54d-4413-4e55-9c6c-95d9125c72be",
   "metadata": {},
   "source": [
    "Exercise 27:\n",
    "Find the cumulative sum of the elements in a NumPy array."
   ]
  },
  {
   "cell_type": "code",
   "execution_count": 14,
   "id": "e26f03b2-f893-40be-88f9-664c8641e35e",
   "metadata": {},
   "outputs": [
    {
     "data": {
      "text/plain": [
       "array([ 1,  3,  6, 10, 15])"
      ]
     },
     "execution_count": 14,
     "metadata": {},
     "output_type": "execute_result"
    }
   ],
   "source": [
    "A = np.array([1, 2, 3, 4, 5])  \n",
    "A_cumulative_sum = np.cumsum(A)  \n",
    "A_cumulative_sum"
   ]
  },
  {
   "cell_type": "markdown",
   "id": "7a307b4e-07bf-460e-81e0-465c012f43cd",
   "metadata": {},
   "source": [
    "Exercise 28:\n",
    "Create a NumPy array and find the number of non-zero elements in it."
   ]
  },
  {
   "cell_type": "code",
   "execution_count": 13,
   "id": "6683241a-b36d-483e-81f2-d8b7ecd8fb1a",
   "metadata": {},
   "outputs": [
    {
     "data": {
      "text/plain": [
       "5"
      ]
     },
     "execution_count": 13,
     "metadata": {},
     "output_type": "execute_result"
    }
   ],
   "source": [
    "A = np.array([1, 0, 3, 4, 0, 5, 0, 7, 0])  \n",
    "non_zero_element = np.count_nonzero(A)  \n",
    "non_zero_element"
   ]
  },
  {
   "cell_type": "markdown",
   "id": "da83e8dd-a42f-4ba7-911f-4035742a2004",
   "metadata": {},
   "source": [
    "Exercise 29:\n",
    "Create a NumPy array of random integers and sort it in ascending order."
   ]
  },
  {
   "cell_type": "code",
   "execution_count": 12,
   "id": "7638bbf8-1b29-4dbe-92ce-fd37a68bd916",
   "metadata": {},
   "outputs": [
    {
     "data": {
      "text/plain": [
       "array([ 3,  6, 17, 21, 47, 48, 57, 72, 79, 89])"
      ]
     },
     "execution_count": 12,
     "metadata": {},
     "output_type": "execute_result"
    }
   ],
   "source": [
    "A = np.random.randint(0, 100, size=10) \n",
    "sorted_A = np.sort(A)  \n",
    "sorted_A"
   ]
  },
  {
   "cell_type": "markdown",
   "id": "bc0b426a-9b3e-4766-aaf1-a149567c6f15",
   "metadata": {},
   "source": [
    "Exercise 30:\n",
    "Find the row-wise and column-wise sum of a 3x3 matrix."
   ]
  },
  {
   "cell_type": "code",
   "execution_count": 26,
   "id": "d61db850-b379-451a-9f18-33ac39c250c8",
   "metadata": {},
   "outputs": [
    {
     "name": "stdout",
     "output_type": "stream",
     "text": [
      "\n",
      "Row-wise Sum:\n",
      "[ 6 15 24]\n",
      "\n",
      "Column-wise Sum:\n",
      "[12 15 18]\n"
     ]
    }
   ],
   "source": [
    "A = np.array([[1, 2, 3],  \n",
    "              [4, 5, 6],  \n",
    "              [7, 8, 9]])   \n",
    "row_wise_sum = np.sum(A, axis=1)   \n",
    "column_wise_sum = np.sum(A, axis=0)  \n",
    "print(\"\\nRow-wise Sum:\")  \n",
    "print(row_wise_sum)  \n",
    "\n",
    "print(\"\\nColumn-wise Sum:\")  \n",
    "print(column_wise_sum)"
   ]
  },
  {
   "cell_type": "markdown",
   "id": "0cfb5ae7-cc85-406d-9590-777cf9dbb10f",
   "metadata": {},
   "source": [
    "Exercise 31:\n",
    "Generate a 2D NumPy array with random values and normalize it (scale the values between 0 and 1)."
   ]
  },
  {
   "cell_type": "code",
   "execution_count": 30,
   "id": "996deace-5e88-477f-9ece-99f0cdf87048",
   "metadata": {},
   "outputs": [
    {
     "name": "stdout",
     "output_type": "stream",
     "text": [
      "\n",
      "Normalized Array:\n"
     ]
    },
    {
     "data": {
      "text/plain": [
       "array([[0.56196831, 0.54651302, 0.48243909, 1.        , 0.8418586 ],\n",
       "       [0.11888224, 0.25154797, 0.90505447, 0.23504893, 0.35557122],\n",
       "       [0.12315184, 0.16182845, 0.34891927, 0.4445257 , 0.64785566],\n",
       "       [0.36081541, 0.42568221, 0.7729847 , 0.        , 0.99991415],\n",
       "       [0.83258919, 0.9050272 , 0.46814711, 0.39546932, 0.97347375]])"
      ]
     },
     "execution_count": 30,
     "metadata": {},
     "output_type": "execute_result"
    }
   ],
   "source": [
    "A = np.random.rand(5, 5) * 100  \n",
    "min_value = np.min(A)  \n",
    "max_value = np.max(A)  \n",
    "normalized_array = (A - min_value) / (max_value - min_value)   \n",
    "print(\"\\nNormalized Array:\")  \n",
    "normalized_array"
   ]
  },
  {
   "cell_type": "markdown",
   "id": "f4cc94b5-401a-4dd8-b1cb-81e09a8b721b",
   "metadata": {},
   "source": [
    "Exercise 32:\n",
    "Create two NumPy arrays and find the dot product."
   ]
  },
  {
   "cell_type": "code",
   "execution_count": 33,
   "id": "954ed514-b904-4bc3-8c7f-ca0836abdd83",
   "metadata": {},
   "outputs": [
    {
     "name": "stdout",
     "output_type": "stream",
     "text": [
      "The dot product is :  32\n"
     ]
    }
   ],
   "source": [
    "A = np.array([1, 2, 3])  \n",
    "B = np.array([4, 5, 6])   \n",
    "dot_AB = np.dot(A, B)   \n",
    "print(\"The dot product is : \",dot_AB)"
   ]
  },
  {
   "cell_type": "markdown",
   "id": "9101c72c-5acc-4b61-b80b-793244dde22b",
   "metadata": {},
   "source": [
    "Exercise 33:\n",
    "Find the trace of a square NumPy matrix."
   ]
  },
  {
   "cell_type": "code",
   "execution_count": 34,
   "id": "2ddf2b46-4a7b-4b21-b2b0-cc33be9cf449",
   "metadata": {},
   "outputs": [
    {
     "data": {
      "text/plain": [
       "15"
      ]
     },
     "execution_count": 34,
     "metadata": {},
     "output_type": "execute_result"
    }
   ],
   "source": [
    "A = np.array([[1, 2, 3],  \n",
    "                   [4, 5, 6],  \n",
    "                   [7, 8, 9]])  \n",
    "\n",
    "trace_A = np.trace(A)  \n",
    "trace_A"
   ]
  },
  {
   "cell_type": "markdown",
   "id": "6fc477fe-bd92-44b1-8322-ed6710cb02c4",
   "metadata": {},
   "source": [
    "Exercise 34:\n",
    "Create a 2D array and swap two rows."
   ]
  },
  {
   "cell_type": "code",
   "execution_count": 63,
   "id": "ce4cccfe-e90a-4278-8861-090ac730939f",
   "metadata": {},
   "outputs": [
    {
     "name": "stdout",
     "output_type": "stream",
     "text": [
      "Before swap:\n",
      "[[1 2 3]\n",
      " [4 5 6]\n",
      " [7 8 9]]\n",
      "\n",
      "Matrix After Swapping Row 0 and Row 2:\n",
      "[[7 8 9]\n",
      " [4 5 6]\n",
      " [1 2 3]]\n"
     ]
    }
   ],
   "source": [
    "import numpy as np\n",
    "\n",
    "# Create a 2D NumPy array\n",
    "A = np.array([[1, 2, 3], \n",
    "                   [4, 5, 6], \n",
    "                   [7, 8, 9]])\n",
    "\n",
    "print(\"Before swap:\") \n",
    "print(A)\n",
    "A[[0, 2]] = A[[2, 0]]\n",
    "\n",
    "print(\"\\nMatrix After Swapping Row 0 and Row 2:\")\n",
    "print(A)\n",
    "\n"
   ]
  },
  {
   "cell_type": "markdown",
   "id": "766a2304-2695-4568-93b9-c8f0bd048417",
   "metadata": {},
   "source": [
    "Exercise 35:\n",
    "Create a 1D NumPy array and convert it into a column vector."
   ]
  },
  {
   "cell_type": "code",
   "execution_count": 38,
   "id": "1be50696-0860-4b25-a65f-19966ccb34d7",
   "metadata": {},
   "outputs": [
    {
     "name": "stdout",
     "output_type": "stream",
     "text": [
      "\n",
      "Column Vector:\n"
     ]
    },
    {
     "data": {
      "text/plain": [
       "array([[1],\n",
       "       [2],\n",
       "       [3],\n",
       "       [4],\n",
       "       [5]])"
      ]
     },
     "execution_count": 38,
     "metadata": {},
     "output_type": "execute_result"
    }
   ],
   "source": [
    "A = np.array([1, 2, 3, 4, 5])\n",
    "col_A = A.reshape(-1, 1)\n",
    "print(\"\\nColumn Vector:\")\n",
    "col_A\n"
   ]
  },
  {
   "cell_type": "markdown",
   "id": "53e21592-9637-434c-ae85-72d770599d86",
   "metadata": {},
   "source": [
    "Exercise 36:\n",
    "Find the determinant of a 3x3 matrix."
   ]
  },
  {
   "cell_type": "code",
   "execution_count": 50,
   "id": "6ce817b9-2ef5-4a1c-8307-1de7c1b0fe1c",
   "metadata": {},
   "outputs": [
    {
     "name": "stdout",
     "output_type": "stream",
     "text": [
      "Determinant of A is : 1.0\n"
     ]
    }
   ],
   "source": [
    "A = np.array([[1, 0, 5],\n",
    "                   [0, 1, 8],\n",
    "                   [0, 0, 1]])\n",
    "det_A = np.linalg.det(A)\n",
    "print(f\"Determinant of A is : {det_A}\")\n"
   ]
  },
  {
   "cell_type": "markdown",
   "id": "220fb503-dbcb-4579-acd6-bd37ff16c23d",
   "metadata": {},
   "source": [
    "Exercise 37:\n",
    "Find the eigenvalues and eigenvectors of a 2x2 matrix."
   ]
  },
  {
   "cell_type": "code",
   "execution_count": 51,
   "id": "cfaa0818-49c1-4929-a366-6cde6c9301f3",
   "metadata": {},
   "outputs": [
    {
     "name": "stdout",
     "output_type": "stream",
     "text": [
      "Eigenvalues: [5. 2.]\n",
      "Eigenvectors:\n",
      " [[ 0.89442719 -0.70710678]\n",
      " [ 0.4472136   0.70710678]]\n"
     ]
    }
   ],
   "source": [
    "A = np.array([[4, 2],\n",
    "                   [1, 3]])\n",
    "eigenvalues, eigenvectors = np.linalg.eig(A)\n",
    "print(\"Eigenvalues:\", eigenvalues)\n",
    "print(\"Eigenvectors:\\n\", eigenvectors)\n"
   ]
  },
  {
   "cell_type": "markdown",
   "id": "2f12db5f-fd48-4fec-863b-c995ce65500b",
   "metadata": {},
   "source": [
    "Exercise 38:\n",
    "Solve a system of linear equations using NumPy."
   ]
  },
  {
   "cell_type": "code",
   "execution_count": 52,
   "id": "51533a05-6ca9-4a5e-a24d-38c9b1410983",
   "metadata": {},
   "outputs": [
    {
     "name": "stdout",
     "output_type": "stream",
     "text": [
      "(x, y): [1.2 2.6]\n"
     ]
    }
   ],
   "source": [
    "A = np.array([[2, 1], \n",
    "              [1, 3]])\n",
    "\n",
    "# Constants\n",
    "B = np.array([5, 9])\n",
    "solved = np.linalg.solve(A, B)\n",
    "print(\"(x, y):\", solved)\n"
   ]
  },
  {
   "cell_type": "markdown",
   "id": "f4c5163c-3de8-4063-9d54-7756a38d4d3c",
   "metadata": {},
   "source": [
    "Exercise 39:\n",
    "Add Gaussian noise to a NumPy array."
   ]
  },
  {
   "cell_type": "code",
   "execution_count": 56,
   "id": "23204209-0d59-4e57-a2ee-7d9437587cec",
   "metadata": {},
   "outputs": [
    {
     "name": "stdout",
     "output_type": "stream",
     "text": [
      "[1 2 3 4 5]\n",
      "=================================================================\n"
     ]
    },
    {
     "data": {
      "text/plain": [
       "array([1.04373909, 1.88365062, 3.04441355, 3.86381739, 4.96101287])"
      ]
     },
     "execution_count": 56,
     "metadata": {},
     "output_type": "execute_result"
    }
   ],
   "source": [
    "A = np.array([1, 2, 3, 4, 5])\n",
    "mean = 0\n",
    "std_dev = 0.1\n",
    "noise = np.random.normal(mean, std_dev, A.shape)\n",
    "noisy = A + noise\n",
    "print(A)\n",
    "print(\"=================================================================\")\n",
    "noisy\n"
   ]
  },
  {
   "cell_type": "markdown",
   "id": "c36b2dcc-af83-4a20-a861-a0e39376d168",
   "metadata": {},
   "source": [
    "Exercise 40:\n",
    "Create a 4x4 matrix and extract the diagonal elements."
   ]
  },
  {
   "cell_type": "code",
   "execution_count": 57,
   "id": "0f2e387b-4398-4ba9-9058-b6e790832d05",
   "metadata": {},
   "outputs": [
    {
     "data": {
      "text/plain": [
       "array([ 1,  6, 11, 16])"
      ]
     },
     "execution_count": 57,
     "metadata": {},
     "output_type": "execute_result"
    }
   ],
   "source": [
    "A = np.array([[1, 2, 3, 4],\n",
    "                   [5, 6, 7, 8],\n",
    "                   [9, 10, 11, 12],\n",
    "                   [13, 14, 15, 16]])\n",
    "diagonal_A = np.diag(A)\n",
    "diagonal_A\n"
   ]
  },
  {
   "cell_type": "markdown",
   "id": "2e35f7a3-93fa-45a6-b67b-d9912915ff22",
   "metadata": {},
   "source": [
    "Exercise 41:\n",
    "Generate a NumPy array of 100 random values and clip the values to a range between 10 and 50."
   ]
  },
  {
   "cell_type": "code",
   "execution_count": 59,
   "id": "49c4fa81-a6d9-4368-9b53-197c932c515b",
   "metadata": {},
   "outputs": [
    {
     "data": {
      "text/plain": [
       "array([50.        , 40.16474172, 50.        , 35.68402134, 50.        ,\n",
       "       20.13291321, 18.80730271, 14.27659548, 50.        , 50.        ,\n",
       "       12.00650365, 13.85496226, 12.88066338, 50.        , 50.        ,\n",
       "       50.        , 10.        , 33.95592457, 10.        , 50.        ,\n",
       "       50.        , 35.39928349, 16.42511882, 24.47197683, 50.        ,\n",
       "       32.15447654, 13.12917283, 50.        , 50.        , 33.56909396,\n",
       "       10.        , 25.88706247, 14.07668786, 50.        , 20.77285028,\n",
       "       14.52617725, 44.09455589, 38.54795453, 18.08318358, 23.471765  ,\n",
       "       26.44114841, 45.6303942 , 50.        , 50.        , 24.22900004,\n",
       "       50.        , 50.        , 50.        , 34.37490996, 50.        ,\n",
       "       50.        , 42.86443618, 42.52641337, 50.        , 10.        ,\n",
       "       50.        , 10.        , 10.        , 45.15795884, 20.90413687,\n",
       "       10.        , 11.48594434, 50.        , 50.        , 10.        ,\n",
       "       50.        , 50.        , 40.86488679, 50.        , 12.96783788,\n",
       "       50.        , 10.        , 12.99453256, 50.        , 19.00737719,\n",
       "       34.48833493, 41.90927106, 50.        , 50.        , 50.        ,\n",
       "       50.        , 31.25954145, 50.        , 50.        , 10.        ,\n",
       "       10.        , 50.        , 10.        , 50.        , 10.        ,\n",
       "       22.20614769, 50.        , 50.        , 48.84056282, 50.        ,\n",
       "       40.8497849 , 50.        , 10.        , 12.41506512, 50.        ])"
      ]
     },
     "execution_count": 59,
     "metadata": {},
     "output_type": "execute_result"
    }
   ],
   "source": [
    "A = np.random.rand(100) * 100\n",
    "clipped_A = np.clip(A, 10, 50)\n",
    "clipped_A\n"
   ]
  },
  {
   "cell_type": "markdown",
   "id": "96fd2fba-1456-4737-b83f-72b9cb3489cb",
   "metadata": {},
   "source": [
    "Exercise 42:\n",
    "Create a 2D NumPy array and replace all negative values with zero."
   ]
  },
  {
   "cell_type": "code",
   "execution_count": 61,
   "id": "b3c60c37-9602-44e5-bee7-505febd3b078",
   "metadata": {},
   "outputs": [
    {
     "data": {
      "text/plain": [
       "array([[4, 0, 7],\n",
       "       [0, 3, 0],\n",
       "       [6, 0, 9]])"
      ]
     },
     "execution_count": 61,
     "metadata": {},
     "output_type": "execute_result"
    }
   ],
   "source": [
    "A = np.array([[4, -2, 7], \n",
    "              [-5, 3, -8], \n",
    "              [6, -1, 9]])\n",
    "A[A < 0] = 0\n",
    "A\n"
   ]
  },
  {
   "cell_type": "markdown",
   "id": "04320c4d-1e62-4ac2-bd6a-b51edc73ad92",
   "metadata": {},
   "source": [
    "Exercise 43:\n",
    "Find the inner and outer products of two NumPy arrays."
   ]
  },
  {
   "cell_type": "code",
   "execution_count": 65,
   "id": "e8cd94eb-ca0d-4654-b9a7-f60ba8043122",
   "metadata": {},
   "outputs": [
    {
     "name": "stdout",
     "output_type": "stream",
     "text": [
      "Inner Product: 32\n",
      "Outer Product:\n",
      " [[ 4  5  6]\n",
      " [ 8 10 12]\n",
      " [12 15 18]]\n"
     ]
    }
   ],
   "source": [
    "array_a = np.array([1, 2, 3])\n",
    "array_b = np.array([4, 5, 6])\n",
    "inner_product = np.inner(array_a, array_b)\n",
    "outer_product = np.outer(array_a, array_b)\n",
    "print(\"Inner Product:\", inner_product)\n",
    "print(\"Outer Product:\\n\", outer_product)\n"
   ]
  },
  {
   "cell_type": "markdown",
   "id": "e33ab8e9-9e0e-4207-98bd-f0559e932920",
   "metadata": {},
   "source": [
    "Exercise 44:\n",
    "Calculate the pairwise distances between points in a NumPy array."
   ]
  },
  {
   "cell_type": "code",
   "execution_count": 73,
   "id": "8b2b9e4f-97bf-4b81-a2cf-8f758647a6b5",
   "metadata": {},
   "outputs": [
    {
     "name": "stdout",
     "output_type": "stream",
     "text": [
      "Pairwise Distances:\n",
      " [[0.         2.82842712 5.65685425]\n",
      " [2.82842712 0.         2.82842712]\n",
      " [5.65685425 2.82842712 0.        ]]\n"
     ]
    }
   ],
   "source": [
    "points = np.array([[1, 2],\n",
    "                   [3, 4],\n",
    "                   [5, 6]])\n",
    "pairwise_distances = pdist(points)\n",
    "distance_matrix = squareform(pairwise_distances)\n",
    "print(\"Pairwise Distances:\\n\", distance_matrix)\n"
   ]
  },
  {
   "cell_type": "markdown",
   "id": "08a302d1-5f3d-4aef-a26d-0c1a6805ee82",
   "metadata": {},
   "source": [
    "Exercise 45:\n",
    "Create a structured NumPy array with fields for name, age, and height."
   ]
  },
  {
   "cell_type": "code",
   "execution_count": 79,
   "id": "9d6e3ab4-e4bc-45a6-9d1d-517bd9f27bb5",
   "metadata": {},
   "outputs": [
    {
     "name": "stdout",
     "output_type": "stream",
     "text": [
      "[('Alice', 25, 5.5) ('Bob', 30, 6. ) ('Charlie', 22, 5.8)]\n"
     ]
    }
   ],
   "source": [
    "A = np.dtype([\n",
    "    ('name', 'U20'),   \n",
    "    ('age', 'i4'),     \n",
    "    ('height', 'f4')   \n",
    "])\n",
    "structured_A = np.array([\n",
    "    ('Alice', 25, 5.5),\n",
    "    ('Bob', 30, 6.0),\n",
    "    ('Charlie', 22, 5.8)\n",
    "], dtype=A)\n",
    "print(structured_A)\n"
   ]
  },
  {
   "cell_type": "markdown",
   "id": "cffbd5ff-582a-4681-b64f-68328d0bf20c",
   "metadata": {},
   "source": [
    "Exercise 46:\n",
    "Create a 5x5 matrix of random integers and count the occurrences of each unique value."
   ]
  },
  {
   "cell_type": "code",
   "execution_count": 80,
   "id": "1dc08fb7-afb8-4484-9211-d9ec1661825f",
   "metadata": {},
   "outputs": [
    {
     "name": "stdout",
     "output_type": "stream",
     "text": [
      "[[2 9 2 1 3]\n",
      " [1 5 5 5 6]\n",
      " [3 6 1 6 5]\n",
      " [3 9 6 2 3]\n",
      " [6 0 4 9 8]]\n",
      "\n",
      "Occurrences of each unique value:\n",
      "Value 1: 1 times\n",
      "Value 2: 1 times\n",
      "Value 3: 1 times\n",
      "Value 4: 1 times\n",
      "Value 5: 1 times\n",
      "Value 6: 1 times\n",
      "Value 7: 1 times\n",
      "Value 8: 1 times\n",
      "Value 9: 1 times\n"
     ]
    }
   ],
   "source": [
    "A = np.random.randint(0, 10, size=(5, 5))\n",
    "print(A)\n",
    "unique, counts = np.unique(matrix, return_counts=True)\n",
    "occurrences = dict(zip(unique, counts))\n",
    "print(\"\\nOccurrences of each unique value:\")\n",
    "for value, count in occurrences.items():\n",
    "    print(f\"Value {value}: {count} times\")\n"
   ]
  },
  {
   "cell_type": "markdown",
   "id": "99f15b49-3159-4930-8523-8138376f4108",
   "metadata": {},
   "source": [
    "Exercise 47:\n",
    "Generate a random 3x3 NumPy array and subtract the mean of each row from the corresponding row."
   ]
  },
  {
   "cell_type": "code",
   "execution_count": 81,
   "id": "6d565a7e-0186-4663-90eb-f7193ea53266",
   "metadata": {},
   "outputs": [
    {
     "name": "stdout",
     "output_type": "stream",
     "text": [
      "Before Subtracting Row\n",
      "[[0.64721017 0.48075374 0.57259226]\n",
      " [0.84307969 0.41962686 0.85247131]\n",
      " [0.76811856 0.46515235 0.22870865]]\n",
      "\n",
      "Array After Subtracting Row Means:\n",
      "[[ 0.08035812 -0.08609832  0.0057402 ]\n",
      " [ 0.1380204  -0.28543242  0.14741202]\n",
      " [ 0.28079204 -0.02217417 -0.25861787]]\n"
     ]
    }
   ],
   "source": [
    "A = np.random.rand(3, 3)\n",
    "print(\"Before Subtracting Row\")\n",
    "print(A)\n",
    "subtracted_A = A - A.mean(axis=1, keepdims=True)\n",
    "print(\"\\nArray After Subtracting Row Means:\")\n",
    "print(subtracted_A)\n"
   ]
  },
  {
   "cell_type": "markdown",
   "id": "579c6873-56f7-47b2-ae4c-df37d5e436d4",
   "metadata": {},
   "source": [
    "Exercise 48:\n",
    "Create a NumPy array of random integers and check if any of the values are greater than 50."
   ]
  },
  {
   "cell_type": "code",
   "execution_count": 83,
   "id": "02bb75f2-68ea-498e-8d01-5495fb9ee756",
   "metadata": {},
   "outputs": [
    {
     "name": "stdout",
     "output_type": "stream",
     "text": [
      "Random Array:\n",
      "[74 69 59 50 43 97 90 44 68 81]\n",
      "\n",
      "Any value greater than 50: True\n"
     ]
    }
   ],
   "source": [
    "A = np.random.randint(0, 100, size=(10,))\n",
    "print(\"Random Array:\")\n",
    "print(A)\n",
    "any_greater_than_50 = np.any(A > 50)\n",
    "print(\"\\nAny value greater than 50:\", any_greater_than_50)\n"
   ]
  },
  {
   "cell_type": "markdown",
   "id": "6c5bcdac-0c2a-406e-8e85-568806da73d3",
   "metadata": {},
   "source": [
    "Exercise 50:\n",
    "Find the Pearson correlation coefficient between two NumPy arrays."
   ]
  },
  {
   "cell_type": "code",
   "execution_count": 85,
   "id": "48d665b9-8f7d-4afb-a8a9-869649bd2566",
   "metadata": {},
   "outputs": [
    {
     "name": "stdout",
     "output_type": "stream",
     "text": [
      "Pearson Correlation Coefficient: 0.9999999999999999\n"
     ]
    }
   ],
   "source": [
    "A = np.array([1, 2, 3, 4, 5])\n",
    "B = np.array([2, 4, 6, 8, 10])\n",
    "correlation_AB = np.corrcoef(A, B)\n",
    "pearson_correlation = correlation_AB[0, 1]\n",
    "print(\"Pearson Correlation Coefficient:\", pearson_correlation)\n"
   ]
  }
 ],
 "metadata": {
  "kernelspec": {
   "display_name": "Python 3 (ipykernel)",
   "language": "python",
   "name": "python3"
  },
  "language_info": {
   "codemirror_mode": {
    "name": "ipython",
    "version": 3
   },
   "file_extension": ".py",
   "mimetype": "text/x-python",
   "name": "python",
   "nbconvert_exporter": "python",
   "pygments_lexer": "ipython3",
   "version": "3.12.4"
  }
 },
 "nbformat": 4,
 "nbformat_minor": 5
}
