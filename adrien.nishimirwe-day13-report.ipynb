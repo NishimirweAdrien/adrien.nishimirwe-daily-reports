{
 "cells": [
  {
   "cell_type": "markdown",
   "id": "047f0218-632b-49e0-8e84-f793314528ac",
   "metadata": {},
   "source": [
    "PyPro Challenges"
   ]
  },
  {
   "cell_type": "markdown",
   "id": "6dfbbbef-99ed-4e2d-93b7-6a53e4c2875a",
   "metadata": {},
   "source": [
    "1. Perfect Numbers Calculation\n",
    "By definition, a natural number is called a perfect number if its value is equal to the sum of its divisors. For example, 6 and 28 are perfect numbers:\n",
    "\n",
    "1 + 2 + 3 = 6\n",
    "\n",
    "\r\n",
    "1 + 2 + 4 + 7 + 14 = 2\n",
    "\n",
    "Write a function calc_perfect_numbers(max_exclusive) that calculates all perfect numbers up to a maximum value, such as 10,000.8"
   ]
  },
  {
   "cell_type": "code",
   "execution_count": 14,
   "id": "8ac91638-97e3-4e75-ae60-713794291798",
   "metadata": {},
   "outputs": [
    {
     "name": "stdout",
     "output_type": "stream",
     "text": [
      "[6, 28, 496, 8128]\n"
     ]
    }
   ],
   "source": [
    "def calc_perfect_numbers(max_exclusive):  \n",
    "    def is_perfect(n):  \n",
    "        if n < 2:  \n",
    "            return False  \n",
    "        div_s = 1   \n",
    "        for i in range(2, n):  \n",
    "            if n % i == 0:\n",
    "                div_s+=i\n",
    "        if div_s == n:\n",
    "            return n  \n",
    "\n",
    "    perfect_numbers = []  \n",
    "    for num in range(2, max_exclusive):  \n",
    "        if is_perfect(num):  \n",
    "            perfect_numbers.append(num)  \n",
    "\n",
    "    return perfect_numbers\n",
    "perfect_numbers_up_to_10000 = calc_perfect_numbers(10000)  \n",
    "print(perfect_numbers_up_to_10000)"
   ]
  },
  {
   "cell_type": "markdown",
   "id": "3faf4ac0-5735-44d6-aaab-41c1ece59abd",
   "metadata": {},
   "source": [
    "2. Prime Numbers Calculation\n",
    "\n",
    "Write a function calc_primes_up_to(max_value) to compute all prime numbers up to a given value. A prime number is a natural number greater than 1 that is only divisible by 1 and itself. The Sieve of Eratosthenes is a useful algorithm for this task.\r\n",
    "Test your algorithm with the following values:\r\n"
   ]
  },
  {
   "cell_type": "code",
   "execution_count": 32,
   "id": "3477cdb4-774d-4b24-b05d-746f02edf4f5",
   "metadata": {},
   "outputs": [
    {
     "name": "stdout",
     "output_type": "stream",
     "text": [
      "[2, 3, 5, 7, 11, 13]\n",
      "[2, 3, 5, 7, 11, 13, 17, 19, 23]\n",
      "[2, 3, 5, 7, 11, 13, 17, 19, 23, 29, 31, 37, 41, 43, 47]\n"
     ]
    }
   ],
   "source": [
    "def calc_primes_max(max_value):  \n",
    "    if max_value < 2:  \n",
    "        return []  \n",
    "    \n",
    "    my_result = []  \n",
    "    for i in range(2, max_value + 1):  \n",
    "        is_prime = True   \n",
    "        for j in range(2, i):  \n",
    "            if i % j == 0:  \n",
    "                is_prime = False  \n",
    "                break  \n",
    "        if is_prime:  \n",
    "            my_result.append(i)  \n",
    "    \n",
    "    return my_result  \n",
    "\n",
    "print(calc_primes_max(15))  \n",
    "print(calc_primes_max(25))  \n",
    "print(calc_primes_max(50))  "
   ]
  },
  {
   "cell_type": "markdown",
   "id": "46db12c4-274e-45e6-a24b-b7063aa41f4c",
   "metadata": {},
   "source": [
    "3. Twin, Cousin, and Sexy Prime Numbers\n",
    "\n",
    "   Compute all pairs of prime numbers with a distance of 2 (twin), 4 (cousin), and 6 (sexy) up to an upper bound n.\r\n",
    "For example, for limit=50, the expected results are:\r\n",
    "\r\n",
    "Twins: {3: 5, 5: 7, 11: 13, 17: 19, 29: 31, 41: 43}\r\n",
    "\r\n",
    "Cousins: {3: 7, 7: 11, 13: 17, 19: 23, 37: 41, 43: 47}\r\n",
    "\r\n",
    "Sexy: {5: 11, 7: 13, 11: 17, 13: 19, 17: 23, 23: 29, 31: 37, 37: 43, 41: 47, 47: 53}"
   ]
  },
  {
   "cell_type": "code",
   "execution_count": 2,
   "id": "b4e80b29-ef82-4e90-8889-8791dbadf56f",
   "metadata": {},
   "outputs": [
    {
     "name": "stdout",
     "output_type": "stream",
     "text": [
      "Twins: {3: 5, 5: 7, 11: 13, 17: 19, 29: 31, 41: 43}\n",
      "Cousins: {3: 7, 7: 11, 13: 17, 19: 23, 37: 41, 43: 47}\n",
      "Sexy: {5: 11, 7: 13, 11: 17, 13: 19, 17: 23, 23: 29, 31: 37, 37: 43, 41: 47, 47: 53}\n"
     ]
    }
   ],
   "source": [
    "def calc_primes_up_to(max_value):  \n",
    "    if max_value < 2:  \n",
    "        return []  \n",
    "     # 0 and 1 are not primes  \n",
    "    is_prime = [True] * (max_value + 1)  \n",
    "    is_prime[0] = is_prime[1] = False \n",
    "\n",
    "    for number in range(2, int(max_value**0.5) + 1):  \n",
    "        if is_prime[number]:  \n",
    "            for multiple in range(number * number, max_value + 1, number):  \n",
    "                is_prime[multiple] = False  \n",
    "\n",
    "    return [num for num, prime in enumerate(is_prime) if prime]  \n",
    "\n",
    "def find_prime_relationships(limit):  \n",
    "    # Calculate primes up to limit + 6  \n",
    "    primes = calc_primes_up_to(limit + 6)  \n",
    "    prime_set = set(primes)  # Use a set for O(1) lookups  \n",
    "\n",
    "    twins = {}  \n",
    "    cousins = {}  \n",
    "    sexy = {}  \n",
    "    \n",
    "    for prime in primes:  \n",
    "        if prime + 2 in prime_set:  \n",
    "            twins[prime] = prime + 2  \n",
    "        if prime + 4 in prime_set:  \n",
    "            cousins[prime] = prime + 4  \n",
    "        if prime + 6 in prime_set:  \n",
    "            sexy[prime] = prime + 6  \n",
    "\n",
    "    return twins, cousins, sexy  \n",
    "\n",
    "# Example usage:  \n",
    "limit = 50  \n",
    "twins, cousins, sexy = find_prime_relationships(limit)  \n",
    "\n",
    "print(\"Twins:\", twins)  \n",
    "print(\"Cousins:\", cousins)  \n",
    "print(\"Sexy:\", sexy)"
   ]
  },
  {
   "cell_type": "markdown",
   "id": "28c249ee-bf2f-4f16-9011-dc7f11264556",
   "metadata": {},
   "source": [
    "4. Sum of Digits (Recursive)\n",
    "\n",
    "   Write a recursive function calc_sum_of_digits(value) that calculates the sum of the digits of a given number.\r\n",
    "Examples:\r\n",
    "\r\n",
    "Input\r\n",
    "\r\n",
    "Number of Digits\r\n",
    "\r\n",
    "Cross Sum\r\n",
    "\r\n",
    "1234\r\n",
    "\r\n",
    "4\r\n",
    "\r\n",
    "1 + 2 + 3 + 4 = 10\r\n",
    "\r\n",
    "1234567\r\n",
    "\r\n",
    "7\r\n",
    "\r\n",
    "1 + 2 + 3 + … 7 = 28"
   ]
  },
  {
   "cell_type": "code",
   "execution_count": 5,
   "id": "1ee24459-6e50-4e88-95d8-e7084be02fd5",
   "metadata": {},
   "outputs": [
    {
     "name": "stdout",
     "output_type": "stream",
     "text": [
      "10\n",
      "28\n"
     ]
    }
   ],
   "source": [
    "def calc_sum_of_digits(value):\n",
    "    if value == 0:\n",
    "        return 0\n",
    "    else:\n",
    "        return (value % 10) + calc_sum_of_digits(value // 10)\n",
    "\n",
    "print(calc_sum_of_digits(1234))    \n",
    "print(calc_sum_of_digits(1234567))  "
   ]
  },
  {
   "cell_type": "markdown",
   "id": "314e27f7-99f1-4b19-8133-e37ccbb13873",
   "metadata": {},
   "source": [
    "5. Convert to Binary (Recursive)\n",
    "\n",
    "   Write a function to_binary(n) that recursively converts the given positive integer into its binary string representation (without using int(x, base))."
   ]
  },
  {
   "cell_type": "code",
   "execution_count": 6,
   "id": "ccc8a675-053e-4de8-b185-d6b596edb907",
   "metadata": {},
   "outputs": [
    {
     "name": "stdout",
     "output_type": "stream",
     "text": [
      "101\n",
      "111\n",
      "10110\n",
      "101010\n"
     ]
    }
   ],
   "source": [
    "def to_binary(n):\n",
    "    if n == 0:\n",
    "        return \"\"\n",
    "    else:\n",
    "        return to_binary(n // 2) + str(n % 2)\n",
    "\n",
    "def convert_to_binary(n):\n",
    "    if n == 0:\n",
    "        return \"0\"\n",
    "    return to_binary(n)\n",
    "\n",
    "print(convert_to_binary(5))    \n",
    "print(convert_to_binary(7))   \n",
    "print(convert_to_binary(22))  \n",
    "print(convert_to_binary(42))   \n"
   ]
  },
  {
   "cell_type": "markdown",
   "id": "8f41c25f-2b8d-498e-9f46-e18a4adece5d",
   "metadata": {},
   "source": [
    "6. Letter Permutations\n",
    "\n",
    "   Write a function calc_permutations(text) that calculates all possible permutations of the characters in the given string. Handle duplicate letters but avoid using Python’s itertools.permutations()."
   ]
  },
  {
   "cell_type": "code",
   "execution_count": 8,
   "id": "d621e878-741a-49fd-a579-ad6b2583ea7d",
   "metadata": {},
   "outputs": [
    {
     "name": "stdout",
     "output_type": "stream",
     "text": [
      "['a']\n",
      "['aa']\n",
      "['Ba', 'aB']\n",
      "['aCB', 'aBC', 'CBa', 'BCa', 'BaC', 'CaB']\n",
      "['aaC', 'Caa', 'aCa']\n"
     ]
    }
   ],
   "source": [
    "def calc_permutations(text):\n",
    "    if len(text) == 1:\n",
    "        return [text]\n",
    "    permutations = set()\n",
    "    \n",
    "    for i, char in enumerate(text):\n",
    "        remaining_text = text[:i] + text[i+1:]\n",
    "        \n",
    "        for perm in calc_permutations(remaining_text):\n",
    "            permutations.add(char + perm)\n",
    "    \n",
    "    return list(permutations)\n",
    "\n",
    "print(calc_permutations(\"a\"))      \n",
    "print(calc_permutations(\"aa\"))     \n",
    "print(calc_permutations(\"aB\"))     \n",
    "print(calc_permutations(\"aBC\"))    \n",
    "print(calc_permutations(\"aaC\"))    \n"
   ]
  },
  {
   "cell_type": "markdown",
   "id": "664ab7d5-58b1-4501-bf78-34127d23faa1",
   "metadata": {},
   "source": [
    "7. Join Strings with Delimiter\n",
    "\n",
    " Write a function join(values, delimiter) that joins a list of strings with the given delimiter and returns it as a single string. Implement this without using Python’s built-in join() function."
   ]
  },
  {
   "cell_type": "code",
   "execution_count": 10,
   "id": "20f5941c-2075-4b41-a1ed-7e67720673c4",
   "metadata": {},
   "outputs": [
    {
     "name": "stdout",
     "output_type": "stream",
     "text": [
      "hello +++ world +++ message\n"
     ]
    }
   ],
   "source": [
    "def join(values, delimiter):\n",
    "    if not values:\n",
    "        return \"\"\n",
    "    result = values[0]\n",
    "    for value in values[1:]:\n",
    "        result += delimiter + value\n",
    "    \n",
    "    return result\n",
    "print(join([\"hello\", \"world\", \"message\"], \" +++ \")) \n"
   ]
  },
  {
   "cell_type": "markdown",
   "id": "3e7a84e5-f4c6-49d3-ae9a-8a41d0f89239",
   "metadata": {},
   "source": [
    "8. Pascal’s Triangle\n",
    "\n",
    "   Write a function pascal(n) that computes Pascal’s triangle as nested lists. Each line is generated from the previous one, with sums of adjacent numbers and a 1 at the beginning and end.\r\n",
    "Example for n=5:"
   ]
  },
  {
   "cell_type": "code",
   "execution_count": 11,
   "id": "b7322133-f7be-4944-bfcd-e3832e6ebbe9",
   "metadata": {
    "scrolled": true
   },
   "outputs": [
    {
     "name": "stdout",
     "output_type": "stream",
     "text": [
      "[1]\n",
      "[1, 1]\n",
      "[1, 2, 1]\n",
      "[1, 3, 3, 1]\n",
      "[1, 4, 6, 4, 1]\n"
     ]
    }
   ],
   "source": [
    "def pascal(n):\n",
    "    triangle = [[1]]\n",
    "    for i in range(1, n):\n",
    "        row = [1]\n",
    "        previous_row = triangle[i-1]\n",
    "        for j in range(1, len(previous_row)):\n",
    "            row.append(previous_row[j-1] + previous_row[j])\n",
    "        row.append(1)\n",
    "        triangle.append(row)\n",
    "    \n",
    "    return triangle\n",
    "\n",
    "for row in pascal(5):\n",
    "    print(row)\n"
   ]
  },
  {
   "cell_type": "markdown",
   "id": "e0414663-b813-4902-b72f-506b059e7524",
   "metadata": {},
   "source": [
    "9. Contains All Values\n",
    "\n",
    "    Write a function contains_all(values, search_values) that checks if all search values are present in the given list. Do not use Python’s all() function."
   ]
  },
  {
   "cell_type": "code",
   "execution_count": 13,
   "id": "f71504ae-d281-44b2-b84d-2c093c089984",
   "metadata": {},
   "outputs": [
    {
     "name": "stdout",
     "output_type": "stream",
     "text": [
      "True\n",
      "False\n"
     ]
    }
   ],
   "source": [
    "def contains_all(values, search_values):\n",
    "    for item in search_values:\n",
    "        if item not in values:\n",
    "            return False\n",
    "    return True\n",
    "print(contains_all([0, 1, 2, 3, 4, 5, 6, 7, 8, 9], [7, 2]))  \n",
    "print(contains_all([0, 1, 2, 3, 4, 5, 6, 7, 8, 9], [5, 11])) \n"
   ]
  },
  {
   "cell_type": "markdown",
   "id": "2e062121-d4b6-489f-836d-c7b76398d2e5",
   "metadata": {},
   "source": [
    "10. Optimized Insertion Sort\n",
    "\n",
    "    Rewrite the insertion sort algorithm to perform the sorting in one pass by finding the correct insertion point and swapping elements. Write an optimized version of insertion_sort(values).\r\n",
    "Example:\r\n",
    "\r\n",
    "Input: [7, 2, 5, 1, 6, 8, 9, 4, 3]\r\n",
    "\r\n",
    "Result: [1, 2, 3, 4, 5, 6, 7, 8, 9]"
   ]
  },
  {
   "cell_type": "code",
   "execution_count": 15,
   "id": "c048eeaf-66ac-4d9d-91ac-c92ff4664863",
   "metadata": {},
   "outputs": [
    {
     "name": "stdout",
     "output_type": "stream",
     "text": [
      "[1, 2, 3, 4, 5, 6, 7, 8, 9]\n"
     ]
    }
   ],
   "source": [
    "def insertion_sort(values):\n",
    "    for i in range(1, len(values)):\n",
    "        current_value = values[i]\n",
    "        j = i\n",
    "        while j > 0 and values[j - 1] > current_value:\n",
    "            values[j] = values[j - 1]\n",
    "            j -= 1\n",
    "        values[j] = current_value\n",
    "\n",
    "    return values\n",
    "result = insertion_sort([7, 2, 5, 1, 6, 8, 9, 4, 3])\n",
    "print(result)\n"
   ]
  },
  {
   "cell_type": "markdown",
   "id": "b22ad176-d2f9-4675-b4cd-aeec4cc5cec2",
   "metadata": {},
   "source": [
    "11. Sudoku Solver\n",
    "\n",
    "  Write a function solve_sudoku(board) that solves a given 9x9 Sudoku puzzle using backtracking. The puzzle is represented as a 2D list with ‘0’ indicating empty cells. The function should modify the board in-place and return True if the puzzle is solved, otherwise False."
   ]
  },
  {
   "cell_type": "code",
   "execution_count": 17,
   "id": "c50171cd-864c-4d87-a8c1-fb4a9359b175",
   "metadata": {},
   "outputs": [
    {
     "name": "stdout",
     "output_type": "stream",
     "text": [
      "[5, 3, 4, 6, 7, 8, 9, 1, 2]\n",
      "[6, 7, 2, 1, 9, 5, 3, 4, 8]\n",
      "[1, 9, 8, 3, 4, 2, 5, 6, 7]\n",
      "[8, 5, 9, 7, 6, 1, 4, 2, 3]\n",
      "[4, 2, 6, 8, 5, 3, 7, 9, 1]\n",
      "[7, 1, 3, 9, 2, 4, 8, 5, 6]\n",
      "[9, 6, 1, 5, 3, 7, 2, 8, 4]\n",
      "[2, 8, 7, 4, 1, 9, 6, 3, 5]\n",
      "[3, 4, 5, 2, 8, 6, 1, 7, 9]\n"
     ]
    }
   ],
   "source": [
    "def solve_sudoku(board):\n",
    "    def is_valid(board, row, col, num):\n",
    "        # Check the row\n",
    "        for i in range(9):\n",
    "            if board[row][i] == num:\n",
    "                return False\n",
    "        \n",
    "        # Check the column\n",
    "        for i in range(9):\n",
    "            if board[i][col] == num:\n",
    "                return False\n",
    "        start_row, start_col = 3 * (row // 3), 3 * (col // 3)\n",
    "        for i in range(3):\n",
    "            for j in range(3):\n",
    "                if board[start_row + i][start_col + j] == num:\n",
    "                    return False\n",
    "        \n",
    "        return True\n",
    "    def find_empty_location(board):\n",
    "        for i in range(9):\n",
    "            for j in range(9):\n",
    "                if board[i][j] == 0:\n",
    "                    return (i, j) \n",
    "        return None\n",
    "    def backtrack(board):\n",
    "        empty = find_empty_location(board)\n",
    "        if not empty:\n",
    "            return True \n",
    "        \n",
    "        row, col = empty\n",
    "        \n",
    "        for num in range(1, 10):\n",
    "            if is_valid(board, row, col, num):\n",
    "                board[row][col] = num  \n",
    "                \n",
    "                if backtrack(board):\n",
    "                    return True  \n",
    "                \n",
    "                board[row][col] = 0 \n",
    "        \n",
    "        return False \n",
    "\n",
    "    return backtrack(board)\n",
    "\n",
    "board = [\n",
    "    [5, 3, 0, 0, 7, 0, 0, 0, 0],\n",
    "    [6, 0, 0, 1, 9, 5, 0, 0, 0],\n",
    "    [0, 9, 8, 0, 0, 0, 0, 6, 0],\n",
    "    [8, 0, 0, 0, 6, 0, 0, 0, 3],\n",
    "    [4, 0, 0, 8, 0, 3, 0, 0, 1],\n",
    "    [7, 0, 0, 0, 2, 0, 0, 0, 6],\n",
    "    [0, 6, 0, 0, 0, 0, 2, 8, 0],\n",
    "    [0, 0, 0, 4, 1, 9, 0, 0, 5],\n",
    "    [0, 0, 0, 0, 8, 0, 0, 7, 9]\n",
    "]\n",
    "\n",
    "if solve_sudoku(board):\n",
    "    for row in board:\n",
    "        print(row)\n",
    "else:\n",
    "    print(\"Try again\")\n"
   ]
  },
  {
   "cell_type": "markdown",
   "id": "03c32b76-2d83-4b08-8280-607adc375f06",
   "metadata": {},
   "source": [
    "12. N-Queens Problem\n",
    "\n",
    "    Write a function solve_n_queens(n) to find all possible solutions for the n-queens problem. The function should return all distinct solutions as a list of lists, where each list represents the position of queens on the board. The board should be represented as a list of strings, where ‘Q’ and ‘.’ indicate a queen and an empty space, respectively."
   ]
  },
  {
   "cell_type": "code",
   "execution_count": null,
   "id": "504ee685-f338-4e7c-b83f-644644e0ce90",
   "metadata": {},
   "outputs": [],
   "source": [
    "def solve_n_queens(n):\n",
    "    def is_valid(board, row, col):\n",
    "        for i in range(row):\n",
    "            if board[i] == col or \\\n",
    "               board[i] - i == col - row or \\\n",
    "               board[i] + i == col + row:\n",
    "                return False\n",
    "        return True\n",
    "\n",
    "    def place_queens(row, board):\n",
    "        if row == n:\n",
    "            solution = []\n",
    "            for i in range(n):\n",
    "                row_str = '.' * board[i] + 'Q' + '.' * (n - board[i] - 1)\n",
    "                solution.append(row_str)\n",
    "            result.append(solution)\n",
    "            return\n",
    "        \n",
    "        for col in range(n):\n",
    "            if is_valid(board, row, col):\n",
    "                board[row] = col\n",
    "                place_queens(row + 1, board)  \n",
    "                board[row] = -1 \n",
    "\n",
    "    result = []\n",
    "    board = [-1] * n  \n",
    "    place_queens(0, board)\n",
    "    return result\n",
    "n = 4\n",
    "solutions = solve_n_queens(n)\n",
    "for solution in solutions:\n",
    "    for row in solution:\n",
    "        print(row)\n",
    "    print()\n"
   ]
  },
  {
   "cell_type": "markdown",
   "id": "1540e7ab-bc45-4948-8d9b-82670c62998f",
   "metadata": {},
   "source": [
    "13. Knapsack Problem (Dynamic Programming)\n",
    "\n",
    "    Implement a function knapsack(weights, values, capacity) that solves the 0/1 Knapsack problem using dynamic programming. Given a list of weights and corresponding values of n items, determine the maximum value that can be obtained by selecting items with a total weight not exceeding a given capacity."
   ]
  },
  {
   "cell_type": "code",
   "execution_count": 18,
   "id": "b1b586c6-1254-4731-a183-dfb2691b76f3",
   "metadata": {},
   "outputs": [
    {
     "name": "stdout",
     "output_type": "stream",
     "text": [
      "7\n"
     ]
    }
   ],
   "source": [
    "def knapsack(weights, values, capacity):\n",
    "    n = len(weights)\n",
    "    dp = [[0 for _ in range(capacity + 1)] for _ in range(n + 1)]\n",
    "    for i in range(1, n + 1):\n",
    "        for w in range(capacity + 1):\n",
    "            if weights[i - 1] <= w:\n",
    "                dp[i][w] = max(dp[i - 1][w], values[i - 1] + dp[i - 1][w - weights[i - 1]])\n",
    "            else:\n",
    "                dp[i][w] = dp[i - 1][w]\n",
    "    return dp[n][capacity]\n",
    "weights = [2, 3, 4, 5]\n",
    "values = [3, 4, 5, 6]\n",
    "capacity = 5\n",
    "result = knapsack(weights, values, capacity)\n",
    "print(result)  \n"
   ]
  },
  {
   "cell_type": "markdown",
   "id": "5b701476-4ffc-4b19-b5e6-f43429a3dd4d",
   "metadata": {},
   "source": [
    "14. Travelling Salesman Problem (TSP)\n",
    "\n",
    "    Write a function tsp(graph) to solve the Travelling Salesman Problem (TSP) using dynamic programming with bit masking. Given a graph represented as an adjacency matrix, find the shortest possible route that visits each city exactly once and returns to the origin city.\n",
    "    "
   ]
  },
  {
   "cell_type": "code",
   "execution_count": 19,
   "id": "f324550d-20ce-4dd0-af7a-96cdafbe1e03",
   "metadata": {},
   "outputs": [
    {
     "name": "stdout",
     "output_type": "stream",
     "text": [
      "80\n"
     ]
    }
   ],
   "source": [
    "def tsp(graph):\n",
    "    n = len(graph)\n",
    "    max_mask = 1 << n\n",
    "    # DP table initialization\n",
    "    dp = [[float('inf')] * n for _ in range(max_mask)]\n",
    "    dp[1][0] = 0  \n",
    "    for mask in range(1, max_mask):\n",
    "        for u in range(n):\n",
    "            if (mask & (1 << u)) == 0:\n",
    "                continue\n",
    "            for v in range(n):\n",
    "                # If v is not visited\n",
    "                if (mask & (1 << v)) != 0:\n",
    "                    continue\n",
    "                new_mask = mask | (1 << v)\n",
    "                dp[new_mask][v] = min(dp[new_mask][v], dp[mask][u] + graph[u][v])\n",
    "\n",
    "    result = float('inf')\n",
    "    for u in range(1, n):\n",
    "        result = min(result, dp[max_mask - 1][u] + graph[u][0])\n",
    "\n",
    "    return result\n",
    "graph = [\n",
    "    [0, 10, 15, 20],\n",
    "    [10, 0, 35, 25],\n",
    "    [15, 35, 0, 30],\n",
    "    [20, 25, 30, 0]\n",
    "]\n",
    "\n",
    "result = tsp(graph)\n",
    "print(result) \n"
   ]
  },
  {
   "cell_type": "markdown",
   "id": "984d03bc-0b4f-4052-85bf-39603a4035a6",
   "metadata": {},
   "source": [
    "15. Word Break Problem (Dynamic Programming)\n",
    "\n",
    "    Given a string s and a dictionary of words dict, write a function word_break(s, dict) to determine if s can be segmented into a space-separated sequence of one or more dictionary words. Return all such possible sentences."
   ]
  },
  {
   "cell_type": "code",
   "execution_count": 20,
   "id": "3d77c869-0831-4043-a066-3cc548dc0567",
   "metadata": {},
   "outputs": [
    {
     "name": "stdout",
     "output_type": "stream",
     "text": [
      "['cat sand dog', 'cats and dog']\n",
      "['pine apple pen apple', 'pine applepen apple', 'pineapple pen apple']\n"
     ]
    }
   ],
   "source": [
    "def word_break(s, dict):\n",
    "    word_set = set(dict)\n",
    "    n = len(s)\n",
    "    dp = [False] * (n + 1)\n",
    "    dp[0] = True  \n",
    "    for i in range(1, n + 1):\n",
    "        for j in range(i):\n",
    "            if dp[j] and s[j:i] in word_set:\n",
    "                dp[i] = True\n",
    "                break\n",
    "    if not dp[n]:\n",
    "        return []\n",
    "    def backtrack(start):\n",
    "        if start == n:\n",
    "            return [\"\"] \n",
    "\n",
    "        sentences = []\n",
    "        for end in range(start + 1, n + 1):\n",
    "            if dp[end] and s[start:end] in word_set:\n",
    "                for sentence in backtrack(end):\n",
    "                    sentences.append((s[start:end] + \" \" + sentence).strip())\n",
    "\n",
    "        return sentences\n",
    "    return backtrack(0)\n",
    "s1 = \"catsanddog\"\n",
    "dict1 = [\"cat\", \"cats\", \"and\", \"sand\", \"dog\"]\n",
    "print(word_break(s1, dict1)) \n",
    "\n",
    "s2 = \"pineapplepenapple\"\n",
    "dict2 = [\"apple\", \"pen\", \"applepen\", \"pine\", \"pineapple\"]\n",
    "print(word_break(s2, dict2))  \n"
   ]
  },
  {
   "cell_type": "code",
   "execution_count": null,
   "id": "696ea4ba-1988-40d0-ad8f-fafb436c0206",
   "metadata": {},
   "outputs": [],
   "source": []
  }
 ],
 "metadata": {
  "kernelspec": {
   "display_name": "Python 3 (ipykernel)",
   "language": "python",
   "name": "python3"
  },
  "language_info": {
   "codemirror_mode": {
    "name": "ipython",
    "version": 3
   },
   "file_extension": ".py",
   "mimetype": "text/x-python",
   "name": "python",
   "nbconvert_exporter": "python",
   "pygments_lexer": "ipython3",
   "version": "3.12.4"
  }
 },
 "nbformat": 4,
 "nbformat_minor": 5
}
