{
 "cells": [
  {
   "cell_type": "code",
   "execution_count": 1,
   "id": "fee115a9-1dc1-48ae-aed8-43b4755df56d",
   "metadata": {},
   "outputs": [],
   "source": [
    "# Challenge 1 Create a function find_max() that accepts two numeric inputs and returns the greater value. Avoid using the built-in max() function."
   ]
  },
  {
   "cell_type": "code",
   "execution_count": 5,
   "id": "6bffe74d-5c99-451b-b8e7-76aad69c8d3c",
   "metadata": {},
   "outputs": [
    {
     "name": "stdin",
     "output_type": "stream",
     "text": [
      "Enter first value :  3\n",
      "Enter second value :  4\n"
     ]
    },
    {
     "name": "stdout",
     "output_type": "stream",
     "text": [
      "The greater value is  4.0\n"
     ]
    }
   ],
   "source": [
    "def find_max(a,b):\n",
    "    \"\"\"This function provide the greater value between two input numeric value\"\"\"\n",
    "    if(a>b):\n",
    "        print(\"The greater value is \", a)\n",
    "    else:\n",
    "        print(\"The greater value is \", b)\n",
    "arg1=float(input(\"Enter first value : \"))\n",
    "arg2=float(input(\"Enter second value : \"))\n",
    "find_max(arg1,arg2)\n"
   ]
  },
  {
   "cell_type": "code",
   "execution_count": 6,
   "id": "b691c109-d1f7-4bfb-b7b0-3595caab2065",
   "metadata": {},
   "outputs": [
    {
     "name": "stdout",
     "output_type": "stream",
     "text": [
      "This function provide the greater value between two numeric value\n"
     ]
    }
   ],
   "source": [
    "print(find_max.__doc__)"
   ]
  },
  {
   "cell_type": "code",
   "execution_count": null,
   "id": "cf22c0bf-21ba-4668-8cce-9a650a07c677",
   "metadata": {},
   "outputs": [],
   "source": [
    "# Challenge 2 Develop a function find_max_of_three() to find the maximum among three given numbers."
   ]
  },
  {
   "cell_type": "code",
   "execution_count": 7,
   "id": "dbfbf2ae-014d-4c01-be8d-c89837b86250",
   "metadata": {},
   "outputs": [
    {
     "name": "stdin",
     "output_type": "stream",
     "text": [
      "Enter first value :  3\n",
      "Enter second value :  2\n",
      "Enter third value :  8\n"
     ]
    },
    {
     "name": "stdout",
     "output_type": "stream",
     "text": [
      "maximum is :  8.0\n"
     ]
    }
   ],
   "source": [
    "def find_max_of_three(a,b,c):\n",
    "    \"\"\"This function provide the maximum number among three input values\"\"\"\n",
    "    if(a>b and a>c):\n",
    "        print(\"maximum is : \", a)\n",
    "    elif(b>a and b>c):\n",
    "        print(\"maximum is : \", b)\n",
    "    else:\n",
    "        print(\"maximum is : \", c)\n",
    "num1=float(input(\"Enter first value : \"))\n",
    "num2=float(input(\"Enter second value : \"))\n",
    "num3=float(input(\"Enter third value : \"))\n",
    "find_max_of_three(num1,num2,num3)\n"
   ]
  },
  {
   "cell_type": "code",
   "execution_count": 8,
   "id": "379c0c6a-6b3c-49e5-a7c3-aa0158a65acc",
   "metadata": {},
   "outputs": [
    {
     "name": "stdout",
     "output_type": "stream",
     "text": [
      "This function provide the maximum number among three values\n"
     ]
    }
   ],
   "source": [
    "print(find_max_of_three.__doc__)"
   ]
  },
  {
   "cell_type": "code",
   "execution_count": null,
   "id": "e1167799-fabf-42fa-8a41-08792d9dda82",
   "metadata": {},
   "outputs": [],
   "source": [
    "# Challenge 3 Write a function to manually calculate the length of a given list or string without using len()."
   ]
  },
  {
   "cell_type": "code",
   "execution_count": 119,
   "id": "e9818e4d-6763-469d-84f9-4c2c43f923a4",
   "metadata": {},
   "outputs": [
    {
     "name": "stdin",
     "output_type": "stream",
     "text": [
      "Enter string or list but for list separate list item by comma (,) :  1\n"
     ]
    },
    {
     "name": "stdout",
     "output_type": "stream",
     "text": [
      "The length is :  1\n"
     ]
    }
   ],
   "source": [
    "def length_display(lst):\n",
    "    \"\"\"This function takes list or string from user and return the length without len() but for list must be separated by comma\"\"\"\n",
    "    total=0\n",
    "    if(',' in lst):\n",
    "        lst=lst.split(\",\")\n",
    "        for i in lst:\n",
    "           total=total+1\n",
    "    else:\n",
    "        for i in lst:\n",
    "            total=total+1\n",
    "    print(\"The length is : \", total)\n",
    "get_input=input(\"Enter string or list but for list separate list item by comma (,) : \")\n",
    "if (len(get_input)==0):\n",
    "    get_input=get_input+(\",\")\n",
    "length_display(get_input)"
   ]
  },
  {
   "cell_type": "code",
   "execution_count": 37,
   "id": "4403a89f-c0b5-4d95-8678-a501558bc239",
   "metadata": {},
   "outputs": [
    {
     "name": "stdout",
     "output_type": "stream",
     "text": [
      "This function takes list or string from user and return the length without len() but for list must be separated by comma\n"
     ]
    }
   ],
   "source": [
    "print(length_display.__doc__)"
   ]
  },
  {
   "cell_type": "code",
   "execution_count": null,
   "id": "391a801a-0f26-4bc3-b9bb-30503ffeab3e",
   "metadata": {},
   "outputs": [],
   "source": [
    "#Challenge 4 Implement a function that checks if a given character is a vowel (a, e, i, o, u)."
   ]
  },
  {
   "cell_type": "code",
   "execution_count": 42,
   "id": "d64bec7d-1286-4d2b-a22a-68927e29a4c8",
   "metadata": {},
   "outputs": [
    {
     "name": "stdin",
     "output_type": "stream",
     "text": [
      "Enter a single character :  e\n"
     ]
    },
    {
     "name": "stdout",
     "output_type": "stream",
     "text": [
      "e is a vowel \n"
     ]
    }
   ],
   "source": [
    "def check_vowel(leter):\n",
    "    \"\"\" This function checks if a given character is a vowel and print is vowel or not \"\"\"\n",
    "    if (len(leter))>1:\n",
    "        print(\"Provide one character!\")\n",
    "    else:\n",
    "        my_vowels=[\"a\",\"e\",\"i\",\"o\",\"u\"]\n",
    "        if leter.lower() in my_vowels:\n",
    "            print(leter.lower(), \"is a vowel \")\n",
    "        else:\n",
    "            print(leter.lower(), \"is not a vowel \")\n",
    "get_letter=input(\"Enter a single character : \")\n",
    "check_vowel(get_letter)"
   ]
  },
  {
   "cell_type": "code",
   "execution_count": 43,
   "id": "84c4e302-075c-4dba-8698-8f69e4cc9832",
   "metadata": {},
   "outputs": [
    {
     "name": "stdout",
     "output_type": "stream",
     "text": [
      " This function checks if a given character is a vowel and print is vowel or not \n"
     ]
    }
   ],
   "source": [
    "print(check_vowel.__doc__)"
   ]
  },
  {
   "cell_type": "code",
   "execution_count": null,
   "id": "9fa1d69f-fbfb-4d39-95b2-fde1e2304f38",
   "metadata": {},
   "outputs": [],
   "source": [
    "# Challenge 5 Write a function encode() that converts a string into “rövarspråket” (robber’s language)\n",
    "# by doubling consonants and\n",
    "# placing “o” in between, e.g., “hello” -> “hohelollolo”."
   ]
  },
  {
   "cell_type": "code",
   "execution_count": 132,
   "id": "5cf6c545-79df-4210-9024-c6a03f61c526",
   "metadata": {},
   "outputs": [
    {
     "name": "stdin",
     "output_type": "stream",
     "text": [
      "Enter a string :  adrien\n"
     ]
    },
    {
     "name": "stdout",
     "output_type": "stream",
     "text": [
      "Here is result :  adodrorienon\n"
     ]
    }
   ],
   "source": [
    "def encode(input_string):\n",
    "    \"\"\"THis function takes a string and convert into rövarspråket by doubling consonants and placing “o” in between\"\"\"\n",
    "    my_doubled=\"\"\n",
    "    vowels = [\"a\",\"i\",\"e\",\"u\",\"o\",\"A\",\"I\",\"E\",\"U\",\"O\"]\n",
    "    for my_str in input_string:\n",
    "        if my_str.isalpha() and my_str not in vowels:\n",
    "            my_doubled += my_str + \"o\" + my_str.lower()\n",
    "        else:\n",
    "            my_doubled += my_str\n",
    "    \n",
    "    print(\"Here is result : \", my_doubled) \n",
    "get_strng=input(\"Enter a string : \")\n",
    "encode(get_strng)\n",
    "\n",
    "    "
   ]
  },
  {
   "cell_type": "code",
   "execution_count": 56,
   "id": "b3bfa641-01d3-4b56-b9d9-33a3d11190be",
   "metadata": {},
   "outputs": [
    {
     "name": "stdout",
     "output_type": "stream",
     "text": [
      "THis function takes a string and convert into rövarspråket by doubling consonants and placing “o” in between\n"
     ]
    }
   ],
   "source": [
    "print(encode.__doc__)"
   ]
  },
  {
   "cell_type": "code",
   "execution_count": null,
   "id": "69eeab24-bb43-482f-8797-3140a0ecff02",
   "metadata": {},
   "outputs": [],
   "source": [
    "# Challenge 6 Create sum_elements() and product_elements() functions to sum and multiply all elements in a list, respectively."
   ]
  },
  {
   "cell_type": "code",
   "execution_count": 128,
   "id": "583a152e-ce7c-420d-be4d-9c24860ca357",
   "metadata": {},
   "outputs": [
    {
     "name": "stdin",
     "output_type": "stream",
     "text": [
      "provide list separate item by comma (,) :  3\n"
     ]
    },
    {
     "name": "stdout",
     "output_type": "stream",
     "text": [
      "The sum is  3\n",
      "The product is :  3\n"
     ]
    }
   ],
   "source": [
    "\n",
    "def functions():\n",
    "    \"\"\"These two functions sum_elements() and product_elements() take a list provided by user and separated by comma,\n",
    "    sum and multiply all elements in a list print \n",
    "    and return sum and product respectively\"\"\"\n",
    "def sum_elements(my_ls):\n",
    "    sum=0\n",
    "    my_ls=my_ls.split(\",\")\n",
    "    for nums in my_ls:\n",
    "        sum=sum+float(nums)\n",
    "    print(\"The sum is : \",sum)\n",
    "def product_elements(my_lsp):\n",
    "    prod=1\n",
    "    my_lsp=my_lsp.split(\",\")\n",
    "    for nump in my_lsp:\n",
    "        prod=prod*float(nump)\n",
    "    print(\"The product is : \",prod)\n",
    "my_data=input(\"provide list separate item by comma (,) : \")\n",
    "\n",
    "if(',' in my_data):\n",
    "    sum_elements(my_data)\n",
    "    product_elements(my_data)\n",
    "else:\n",
    "    if(len(my_data)==1):\n",
    "        print(\"The sum is \",my_data)\n",
    "        print(\"The product is : \",my_data)\n",
    "    else:\n",
    "       print(\"Invalid input provide items and separate them by comma \")    "
   ]
  },
  {
   "cell_type": "code",
   "execution_count": 69,
   "id": "731d86dd-feac-4a08-a35f-d0d14bd3ccea",
   "metadata": {},
   "outputs": [
    {
     "name": "stdout",
     "output_type": "stream",
     "text": [
      "These two functions sum_elements() and product_elements() take a list provided by user and separated by comma,\n",
      "    sum and multiply all elements in a list print \n",
      "    and return sum and product respectively\n"
     ]
    }
   ],
   "source": [
    "print(functions.__doc__)"
   ]
  },
  {
   "cell_type": "code",
   "execution_count": null,
   "id": "e0aaf047-1da4-46f0-ae24-e63fd922cf4f",
   "metadata": {},
   "outputs": [],
   "source": [
    "# Challenge 7 Define a function reverse_string() to reverse the characters in a given string.\n"
   ]
  },
  {
   "cell_type": "code",
   "execution_count": 74,
   "id": "e665b95d-3e56-4697-affb-e914f3bfc235",
   "metadata": {},
   "outputs": [
    {
     "name": "stdin",
     "output_type": "stream",
     "text": [
      "input the string :  adrien\n"
     ]
    },
    {
     "name": "stdout",
     "output_type": "stream",
     "text": [
      "The reversed characters are:  neirda\n"
     ]
    }
   ],
   "source": [
    "def reverse_string(given_str):\n",
    "    \"This function take a given string and print the reverse of the characters of that string\"\n",
    "    print(\"The reversed characters are: \",given_str[::-1])\n",
    "get_str=input(\"input the string : \")\n",
    "reverse_string(get_str)"
   ]
  },
  {
   "cell_type": "code",
   "execution_count": 75,
   "id": "0603087f-f832-4d74-a76f-9bc31ec31e8f",
   "metadata": {},
   "outputs": [
    {
     "name": "stdout",
     "output_type": "stream",
     "text": [
      "This function take a given string and print the reverse of the characters of that string\n"
     ]
    }
   ],
   "source": [
    "print(reverse_string.__doc__)"
   ]
  },
  {
   "cell_type": "code",
   "execution_count": null,
   "id": "2ff1f9c4-2d47-4b0f-bcda-d760bee3664e",
   "metadata": {},
   "outputs": [],
   "source": [
    "# Challenge 8 Implement check_palindrome() to verify if a string reads the same forwards and backwards, i.e. is a palindrome."
   ]
  },
  {
   "cell_type": "code",
   "execution_count": 79,
   "id": "46c864f1-93bc-4627-a383-ca5b5a5cf39b",
   "metadata": {},
   "outputs": [
    {
     "name": "stdin",
     "output_type": "stream",
     "text": [
      "Provide the string to check if is palindrome or not :  level\n"
     ]
    },
    {
     "name": "stdout",
     "output_type": "stream",
     "text": [
      "forward is :  level\n",
      "backwards is :  level\n",
      "level  is a palindrome\n"
     ]
    }
   ],
   "source": [
    "def check_palindrome(palstr):\n",
    "    \"\"\" This function reverse the given string and check if is the same as the origin string it means string reads the same forwards and backwards\n",
    "    and print that string is palindrome if not print is not palindrome\"\"\"\n",
    "    back_ward=palstr[::-1]\n",
    "    if(back_ward==palstr):\n",
    "        print(\"forward is : \", palstr)\n",
    "        print(\"backwards is : \",back_ward)\n",
    "        print(palstr,\" is a palindrome\")\n",
    "    else:\n",
    "        print(palstr,\" is not palindrome\")\n",
    "get_st=input(\"Provide the string to check if is palindrome or not : \")\n",
    "check_palindrome(get_st)\n"
   ]
  },
  {
   "cell_type": "code",
   "execution_count": 80,
   "id": "fa324986-9b4c-41a7-8ca0-adf5b19e501b",
   "metadata": {},
   "outputs": [
    {
     "name": "stdout",
     "output_type": "stream",
     "text": [
      " This function reverse the given string and check if is the same as the origin string it means string reads the same forwards and backwards\n",
      "    and print that string is palindrome if not print is not palindrome\n"
     ]
    }
   ],
   "source": [
    "print(check_palindrome.__doc__)"
   ]
  },
  {
   "cell_type": "code",
   "execution_count": null,
   "id": "30b0b6a0-7409-44c4-bbef-343f4e2bd213",
   "metadata": {},
   "outputs": [],
   "source": [
    "# Challenge 9 Develop a function check_membership() to determine if a value exists within a list."
   ]
  },
  {
   "cell_type": "code",
   "execution_count": 88,
   "id": "27733251-6a2b-4817-81c6-d05d1ce99799",
   "metadata": {},
   "outputs": [
    {
     "name": "stdin",
     "output_type": "stream",
     "text": [
      "Provide items list  separated by comma (,) :  A,B,L,6,8,T\n",
      "enter value to chech if exist within that list :  6\n"
     ]
    },
    {
     "name": "stdout",
     "output_type": "stream",
     "text": [
      "6 is a member of  ['A', 'B', 'L', '6', '8', 'T']\n"
     ]
    }
   ],
   "source": [
    "def check_membership(n,memb_lst):\n",
    "    \"\"\" This function take list and a value and check if that value is a member of that list where list is provided by separating item using comma\"\"\"\n",
    "    memb_lst=memb_lst.split(\",\")\n",
    "    if(n in memb_lst):\n",
    "        print(n ,\"is a member of \",memb_lst)\n",
    "    else:\n",
    "         print(n ,\"is not a member of \",memb_lst)\n",
    "get_memb_list=input(\"Provide items list  separated by comma (,) : \")\n",
    "if (',' in get_memb_list):\n",
    "    get_m_check=input(\"enter value to chech if exist within that list : \")\n",
    "    check_membership(get_m_check,get_memb_list)\n",
    "else:\n",
    "    print(\"Invalid input, provide items list and separate them by comma (,)\")"
   ]
  },
  {
   "cell_type": "code",
   "execution_count": 89,
   "id": "9146a826-2833-45bd-b753-5c3dcb83998a",
   "metadata": {},
   "outputs": [
    {
     "name": "stdout",
     "output_type": "stream",
     "text": [
      " This function take list and a value and check if that value is a member of that list where list is provided by separating item using comma\n"
     ]
    }
   ],
   "source": [
    "print(check_membership.__doc__)"
   ]
  },
  {
   "cell_type": "code",
   "execution_count": null,
   "id": "30631b8e-d250-4b63-90f8-4c5b34113dde",
   "metadata": {},
   "outputs": [],
   "source": [
    "# Challenge 10 Write check_overlap() to identify if two lists share any elements."
   ]
  },
  {
   "cell_type": "code",
   "execution_count": 121,
   "id": "e750adf2-0ff6-4360-98fb-a8a0ccb3778e",
   "metadata": {},
   "outputs": [
    {
     "name": "stdout",
     "output_type": "stream",
     "text": [
      "\n",
      " provide two list and items list are separated by comma (,)\n",
      "\n"
     ]
    },
    {
     "name": "stdin",
     "output_type": "stream",
     "text": [
      "First list :  1,2\n",
      "Second list :  1\n"
     ]
    },
    {
     "name": "stdout",
     "output_type": "stream",
     "text": [
      "Two list share element(s) :  ['1']\n"
     ]
    }
   ],
   "source": [
    "def check_overlap(f_list,s_list):\n",
    "    \"\"\" this function take two lists and check the common elements among the lists and print them and split the elements by comma\"\"\"\n",
    "    f_list=f_list.split(\",\")\n",
    "    s_list=s_list.split(\",\")\n",
    "    th_list=[value for value in f_list if value in s_list]\n",
    "    if(len(th_list)==0):\n",
    "        print(\"There is no common elements\")\n",
    "    else:\n",
    "        print(\"Two list share element(s) : \",th_list)\n",
    "print(\"\\n provide two list and items list are separated by comma (,)\\n\")\n",
    "f_list=input(\"First list : \")\n",
    "s_list=input(\"Second list : \")\n",
    "if(len(f_list)==1):\n",
    "    f_list=f_list+(\",\")\n",
    "if(len(s_list)==1):\n",
    "   s_list= s_list+(\",\")\n",
    "if(',' in f_list and ',' in s_list):\n",
    "    check_overlap(f_list,s_list)\n",
    "else:\n",
    "    print(\"Invalid input in lists check and provide items list separated by comma (,)\")\n",
    "  \n",
    "    "
   ]
  },
  {
   "cell_type": "code",
   "execution_count": 122,
   "id": "488eb49d-bf43-4f44-baa4-aabb44f9cb92",
   "metadata": {},
   "outputs": [
    {
     "name": "stdout",
     "output_type": "stream",
     "text": [
      " this function take two lists and check the common elements among the lists and print them and split the elements by comma\n"
     ]
    }
   ],
   "source": [
    "print(check_overlap.__doc__)"
   ]
  }
 ],
 "metadata": {
  "kernelspec": {
   "display_name": "Python 3 (ipykernel)",
   "language": "python",
   "name": "python3"
  },
  "language_info": {
   "codemirror_mode": {
    "name": "ipython",
    "version": 3
   },
   "file_extension": ".py",
   "mimetype": "text/x-python",
   "name": "python",
   "nbconvert_exporter": "python",
   "pygments_lexer": "ipython3",
   "version": "3.12.4"
  }
 },
 "nbformat": 4,
 "nbformat_minor": 5
}
