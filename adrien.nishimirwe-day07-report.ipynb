{
 "cells": [
  {
   "cell_type": "markdown",
   "metadata": {
    "colab_type": "text",
    "id": "view-in-github"
   },
   "source": [
    "<a href=\"https://colab.research.google.com/github/ai-technipreneurs/python_course_colab_notebooks/blob/main/05_Lecture05.ipynb\" target=\"_parent\"><img src=\"https://colab.research.google.com/assets/colab-badge.svg\" alt=\"Open In Colab\"/></a>"
   ]
  },
  {
   "cell_type": "markdown",
   "metadata": {
    "id": "hDFhGBtydVB8"
   },
   "source": [
    "<center>\n",
    "    <a href=\"https://aims-senegal.org/\" ><img src=\"images/logoaimssn.jpeg\" style=\"float:left; max-width: 650px; display: inline\" alt=\"AIMS-SN\"/> </a>\n",
    "    </center>\n",
    "\n",
    "\n",
    "\n",
    "<center>\n",
    "    \n",
    "<a href=\"https://acas-yde.org/\" ><img src=\"images/logo-ACAS.jpg\" style=\"float:right; max-width: 250px; display: inline\" alt=\"ACAS\"/></a>\n",
    "    \n",
    "</center>\n"
   ]
  },
  {
   "cell_type": "markdown",
   "metadata": {
    "id": "JgPFAnzidVB-"
   },
   "source": [
    "****\n",
    "\n",
    "# <center> <b> <span style=\"color:orange;\"> Python Proficiency for Scientific Computing and Data Science (PyPro-SCiDaS)  </span> </b></center>\n",
    "\n",
    "### <center> <b> <span style=\"color:green;\">An Initiation to Programming using Python (Init2Py) </span> </b></center>\n",
    "    \n"
   ]
  },
  {
   "cell_type": "markdown",
   "metadata": {
    "id": "tLJuNn_2dVB_"
   },
   "source": [
    "****\n",
    "\n",
    "# <center> <b> <span style=\"color:blue;\"> Lecture 5: Functions, Modules, and Packages </span> </b></center>\n",
    "\n",
    "<!--NAVIGATION-->\n",
    "<  [4.Flow control](04.Lecture04.ipynb)| [ToC](Index.ipynb) | [6. To come](06.Lecture06.ipynb)>\n",
    "\n",
    "****"
   ]
  },
  {
   "cell_type": "markdown",
   "metadata": {
    "id": "Wtw2SqnYdVB_"
   },
   "source": [
    "### <left> <b> <span style=\"color:brown;\"> Objective: </span> </b></left>\n",
    "\n",
    "\"This lecture aims to introduce the concepts of `functions`, `modules`, and `packages` in Python. We will explore the role and creation of `functions` for organizing and reusing code, delve into `modules` for structuring code into manageable files, and examine `packages` for grouping related modules. By understanding these components, you'll gain the skills to build modular and maintainable Python programs.\"\n",
    "****"
   ]
  },
  {
   "cell_type": "markdown",
   "metadata": {
    "id": "AZyW4b81dVB_"
   },
   "source": [
    "The concepts of `functions`, `modules`, and `packages` are foundational to writing effective and maintainable Python code.\n",
    "\n",
    "- **Functions** are vital for encapsulating and reusing blocks of code. They allow you to perform specific tasks and operations without repeating code, enhancing clarity and reducing errors.\n",
    "\n",
    "- **Modules** help in organizing related functions, classes, and variables into separate files. This modular approach simplifies code management and improves readability by keeping related components together and making code easier to debug and update.\n",
    "\n",
    "- **Packages** take modularity a step further by allowing you to group related modules into directories. This hierarchical structure supports the management of larger codebases, helps avoid name conflicts, and facilitates better dependency management.\n",
    "\n",
    "These elements are crucial for writing organized, scalable, and efficient code, making development more manageable and collaboration more effective."
   ]
  },
  {
   "cell_type": "markdown",
   "metadata": {
    "id": "cYEQ6qKvdVB_"
   },
   "source": [
    "## 0. Functions\n",
    "\n",
    "Simply defined, a function is a piece of code, a set of instructions organized to perform one or more well-defined tasks. In Python, functions are categorized into two types: built-in functions and user-defined functions.\n",
    "\n",
    "- **Built-in functions** are functions that are directly integrated into Python's standard library.\n",
    "- **User-defined functions** are written either by the current user or by other users."
   ]
  },
  {
   "cell_type": "markdown",
   "metadata": {
    "id": "mCutRj8IdVCA"
   },
   "source": [
    "### 0.0. Some built-in functions in Python\n",
    "\n",
    "- **The `print()` function**: As we already know, the **print()** function displays the values of specified objects on the screen:\n",
    "```python\n",
    "print(\"Hello\", \"everyone\")\n",
    "x = 12\n",
    "print(x)\n",
    "y = [1, \"Monday\", \"12\", 5, 3, \"test value\"]\n",
    "print(y)\n",
    "```\n",
    "You can replace the default separator (a space) with another character (or even no character) using the `sep` argument:\n",
    "```python\n",
    "print(\"Hello\", \"everyone\", sep=\"****\")\n",
    "print(\"Hello\", \"everyone\", sep=\"\")\n",
    "```    \n",
    "\n",
    "- **The `input()` function**: The **input()** function allows the user to enter a value for a given argument:\n",
    "```python\n",
    "prenom = input(\"Enter your first name: \")\n",
    "print(\"Hello,\", prenom)\n",
    "```\n",
    "```python\n",
    "print(\"Please enter any positive number: \", end=\" \")\n",
    "ch = input()\n",
    "num = int(ch)  # Convert the string to an integer\n",
    "print(\"The square of\", num, \"is\", num**2)\n",
    "```"
   ]
  },
  {
   "cell_type": "markdown",
   "metadata": {
    "id": "tMFgj2t6dVCA"
   },
   "source": [
    "**Note**: It is important to note that the `input()` function always returns a string. If you need the user to enter a numeric value, you will have to convert the entered value (which will be of type string) into a numeric type using built-in functions like `int()` (for integers) or `float()` (for floating-point numbers)."
   ]
  },
  {
   "cell_type": "markdown",
   "metadata": {
    "id": "PGeKms2mdVCA"
   },
   "source": [
    "### 0.1. User-defined functions\n",
    "\n",
    "To define a function in Python, use the `def` keyword to declare the function name. The general syntax for defining a function is as follows:\n",
    "\n",
    "```python\n",
    "def functionName([parameter1, parameter2, ..., parameterN]):\n",
    "    \n",
    "    \"\"\"Documentation for the function.\"\"\"\n",
    "    \n",
    "    <block_of_instructions>\n",
    "```\n",
    "\n",
    "In the function definition, the first string of characters (called a docstring) serves as documentation for the function, accessible via the interpreter using, for example, `help(functionName)`, or `functionName?` in *Jupyter*. It should be relevant, concise, and comprehensive. It may also include usage examples.         "
   ]
  },
  {
   "cell_type": "markdown",
   "metadata": {
    "id": "aTMU6TYOdVCB"
   },
   "source": [
    "#### 0.1.0. Definition of a simple function without arguments**\n",
    "\n",
    "The example below illustrates the definition of a simple function without arguments. The purpose of this function is to print the first 20 values of the multiplication table for 8.\n",
    "\n",
    "```python\n",
    "def print_multiples_of_eight():\n",
    "    \"\"\"Prints the first 20 multiples of 8.\"\"\"\n",
    "    for i in range(1, 21):\n",
    "        print(f\"8 x {i} = {8 * i}\")\n",
    "\n",
    "# Calling the function\n",
    "print_multiples_of_eight()\n",
    "```"
   ]
  },
  {
   "cell_type": "code",
   "execution_count": 1,
   "metadata": {
    "id": "zN-bE0X8dVCC"
   },
   "outputs": [],
   "source": [
    "def multiplication_table_8():\n",
    "    \"\"\"\n",
    "    The purpose of this function is to display the first 20\n",
    "    values of the multiplication table for 8.\n",
    "    Input: None\n",
    "    Output: The multiplication table for 8\n",
    "    \"\"\"\n",
    "    n = 1\n",
    "    while n <= 20:\n",
    "        v = n * 8\n",
    "        print(n, 'x', 8, '=', v, sep=' ')\n",
    "        n = n + 1\n"
   ]
  },
  {
   "cell_type": "markdown",
   "metadata": {
    "id": "nPcBEcjZdVCC"
   },
   "source": [
    "To execute the function `multiplication_table_8()` that we just defined, simply reference it by its name as follows (anywhere in the main program):\n",
    "\n",
    "```python\n",
    "multiplication_table_8()\n",
    "```"
   ]
  },
  {
   "cell_type": "code",
   "execution_count": 2,
   "metadata": {
    "id": "T_1QVAwgdVCD"
   },
   "outputs": [
    {
     "name": "stdout",
     "output_type": "stream",
     "text": [
      "1 x 8 = 8\n",
      "2 x 8 = 16\n",
      "3 x 8 = 24\n",
      "4 x 8 = 32\n",
      "5 x 8 = 40\n",
      "6 x 8 = 48\n",
      "7 x 8 = 56\n",
      "8 x 8 = 64\n",
      "9 x 8 = 72\n",
      "10 x 8 = 80\n",
      "11 x 8 = 88\n",
      "12 x 8 = 96\n",
      "13 x 8 = 104\n",
      "14 x 8 = 112\n",
      "15 x 8 = 120\n",
      "16 x 8 = 128\n",
      "17 x 8 = 136\n",
      "18 x 8 = 144\n",
      "19 x 8 = 152\n",
      "20 x 8 = 160\n"
     ]
    }
   ],
   "source": [
    "multiplication_table_8()  # Calls the function tableMultiplication8()"
   ]
  },
  {
   "cell_type": "code",
   "execution_count": 3,
   "metadata": {
    "id": "KGxH9m4tdVCD"
   },
   "outputs": [
    {
     "name": "stdout",
     "output_type": "stream",
     "text": [
      "8 x 1 = 8\n",
      "8 x 2 = 16\n",
      "8 x 3 = 24\n",
      "8 x 4 = 32\n",
      "8 x 5 = 40\n",
      "8 x 6 = 48\n",
      "8 x 7 = 56\n",
      "8 x 8 = 64\n",
      "8 x 9 = 72\n",
      "8 x 10 = 80\n",
      "8 x 11 = 88\n",
      "8 x 12 = 96\n",
      "8 x 13 = 104\n",
      "8 x 14 = 112\n",
      "8 x 15 = 120\n",
      "8 x 16 = 128\n",
      "8 x 17 = 136\n",
      "8 x 18 = 144\n",
      "8 x 19 = 152\n",
      "8 x 20 = 160\n"
     ]
    }
   ],
   "source": [
    "def print_multiples_of_eight():\n",
    "    \"\"\"Prints the first 20 multiples of 8.\"\"\"\n",
    "    for i in range(1, 21):\n",
    "        print(f\"8 x {i} = {8 * i}\")\n",
    "print_multiples_of_eight()"
   ]
  },
  {
   "cell_type": "code",
   "execution_count": null,
   "metadata": {
    "scrolled": true
   },
   "outputs": [],
   "source": []
  },
  {
   "cell_type": "markdown",
   "metadata": {
    "id": "W6mDXvdjdVCD"
   },
   "source": [
    "****  \n",
    "<left> <b> <span style=\"color:brown;\">Exercise: </span> </b></left>\n",
    "\n",
    "Propose a version of the function `tableMultiplication8()` using a `for` loop.  \n",
    "****"
   ]
  },
  {
   "cell_type": "markdown",
   "metadata": {
    "id": "YJJDrgN_dVCD"
   },
   "source": [
    "#### 0.1.1.  Définition d'une fonction dont les arguments sont des paramètres\n",
    "A parameter is a variable that takes a constant value. In the previous example, we created a multiplication table for 8. We can generalize this function so that it returns the multiplication table for any specified number as an argument. Since these numbers are parameters, we need to define a function where the arguments are parameters. See the example below:"
   ]
  },
  {
   "cell_type": "code",
   "execution_count": 4,
   "metadata": {
    "id": "e6liqxNgdVCD"
   },
   "outputs": [],
   "source": [
    "def tableMultiplication(base):\n",
    "    n = 1\n",
    "    while n <=20 :\n",
    "        v=n*base\n",
    "        print(n, 'x', base, '=', v, sep =' ')\n",
    "        n = n +1"
   ]
  },
  {
   "cell_type": "code",
   "execution_count": 5,
   "metadata": {
    "id": "yqNIkCh2dVCD"
   },
   "outputs": [
    {
     "name": "stdout",
     "output_type": "stream",
     "text": [
      "1 x 2 = 2\n",
      "2 x 2 = 4\n",
      "3 x 2 = 6\n",
      "4 x 2 = 8\n",
      "5 x 2 = 10\n",
      "6 x 2 = 12\n",
      "7 x 2 = 14\n",
      "8 x 2 = 16\n",
      "9 x 2 = 18\n",
      "10 x 2 = 20\n",
      "11 x 2 = 22\n",
      "12 x 2 = 24\n",
      "13 x 2 = 26\n",
      "14 x 2 = 28\n",
      "15 x 2 = 30\n",
      "16 x 2 = 32\n",
      "17 x 2 = 34\n",
      "18 x 2 = 36\n",
      "19 x 2 = 38\n",
      "20 x 2 = 40\n",
      "============================\n",
      "\n",
      "1 x 8 = 8\n",
      "2 x 8 = 16\n",
      "3 x 8 = 24\n",
      "4 x 8 = 32\n",
      "5 x 8 = 40\n",
      "6 x 8 = 48\n",
      "7 x 8 = 56\n",
      "8 x 8 = 64\n",
      "9 x 8 = 72\n",
      "10 x 8 = 80\n",
      "11 x 8 = 88\n",
      "12 x 8 = 96\n",
      "13 x 8 = 104\n",
      "14 x 8 = 112\n",
      "15 x 8 = 120\n",
      "16 x 8 = 128\n",
      "17 x 8 = 136\n",
      "18 x 8 = 144\n",
      "19 x 8 = 152\n",
      "20 x 8 = 160\n",
      "============================\n",
      "\n",
      "1 x 11 = 11\n",
      "2 x 11 = 22\n",
      "3 x 11 = 33\n",
      "4 x 11 = 44\n",
      "5 x 11 = 55\n",
      "6 x 11 = 66\n",
      "7 x 11 = 77\n",
      "8 x 11 = 88\n",
      "9 x 11 = 99\n",
      "10 x 11 = 110\n",
      "11 x 11 = 121\n",
      "12 x 11 = 132\n",
      "13 x 11 = 143\n",
      "14 x 11 = 154\n",
      "15 x 11 = 165\n",
      "16 x 11 = 176\n",
      "17 x 11 = 187\n",
      "18 x 11 = 198\n",
      "19 x 11 = 209\n",
      "20 x 11 = 220\n"
     ]
    }
   ],
   "source": [
    "tableMultiplication(2) # returns the multiplication table for 2\n",
    "print(\"============================\\n\")\n",
    "tableMultiplication(8) # returns the multiplication table for 8\n",
    "print(\"============================\\n\")\n",
    "tableMultiplication(11) # returns the multiplication table for 11"
   ]
  },
  {
   "cell_type": "code",
   "execution_count": 6,
   "metadata": {
    "id": "sCAUThYfdVCE"
   },
   "outputs": [
    {
     "name": "stdout",
     "output_type": "stream",
     "text": [
      "Multiplication Table for 8:\n",
      "=========================\n",
      " 1 x  8 =   8\n",
      " 2 x  8 =  16\n",
      " 3 x  8 =  24\n",
      " 4 x  8 =  32\n",
      " 5 x  8 =  40\n",
      " 6 x  8 =  48\n",
      " 7 x  8 =  56\n",
      " 8 x  8 =  64\n",
      " 9 x  8 =  72\n",
      "10 x  8 =  80\n",
      "11 x  8 =  88\n",
      "12 x  8 =  96\n",
      "13 x  8 = 104\n",
      "14 x  8 = 112\n",
      "15 x  8 = 120\n",
      "16 x  8 = 128\n",
      "17 x  8 = 136\n",
      "18 x  8 = 144\n",
      "19 x  8 = 152\n",
      "20 x  8 = 160\n",
      "=========================\n"
     ]
    }
   ],
   "source": [
    "# An example with a nicer display:\n",
    "\n",
    "\n",
    "def multiplication_table(n):\n",
    "    \"\"\"\n",
    "    The purpose of this function is to display the multiplication table for a given number `n`.\n",
    "    Input: n (int) - The number for which the multiplication table will be generated.\n",
    "    Output: The multiplication table for `n`.\n",
    "    \"\"\"\n",
    "    print(f\"Multiplication Table for {n}:\")\n",
    "    print(\"=\" * 25)\n",
    "    for i in range(1, 21):\n",
    "        result = i * n\n",
    "        print(f\"{i:2} x {n:2} = {result:3}\")\n",
    "    print(\"=\" * 25)\n",
    "\n",
    "# Example usage:\n",
    "multiplication_table(8)\n"
   ]
  },
  {
   "cell_type": "markdown",
   "metadata": {
    "id": "yoJTlrXAdVCE"
   },
   "source": [
    "#### 0.1.2.  One or More Parameters, No Return\n",
    "\n",
    "Example without the `return` statement, often referred to as a **procedure**. In this case, the function implicitly returns the value `None`:\n",
    "\n",
    "```python\n",
    "def table(base, start, end):\n",
    "    \"\"\"Displays the multiplication table of <base> from <start> to <end>.\"\"\"\n",
    "    n = start\n",
    "    while n <= end:\n",
    "        print(n, 'x', base, '=', n * base, end=\" \")\n",
    "        n += 1\n",
    "```\n",
    "\n",
    "```python\n",
    "# Example call:\n",
    "table(7, 2, 11)\n",
    "# 2 x 7 = 14 3 x 7 = 21 4 x 7 = 28 5 x 7 = 35 6 x 7 = 42\n",
    "# 7 x 7 = 49 8 x 7 = 56 9 x 7 = 63 10 x 7 = 70 11 x 7 = 77\n",
    "```\n",
    "\n",
    "---"
   ]
  },
  {
   "cell_type": "code",
   "execution_count": 7,
   "metadata": {
    "id": "L_xUqQEQdVCE"
   },
   "outputs": [
    {
     "name": "stdout",
     "output_type": "stream",
     "text": [
      "2 x 7 = 14 3 x 7 = 21 4 x 7 = 28 5 x 7 = 35 6 x 7 = 42 7 x 7 = 49 8 x 7 = 56 9 x 7 = 63 10 x 7 = 70 11 x 7 = 77 "
     ]
    }
   ],
   "source": [
    "def table(base, start, end):\n",
    "    \"\"\"Displays the multiplication table of <base> from <start> to <end>.\"\"\"\n",
    "    n = start\n",
    "    while n <= end:\n",
    "        print(n, 'x', base, '=', n * base, end=\" \")\n",
    "        n += 1\n",
    "table(7, 2, 11)"
   ]
  },
  {
   "cell_type": "code",
   "execution_count": 8,
   "metadata": {
    "id": "Y8wVYeKDdVCE"
   },
   "outputs": [
    {
     "name": "stdout",
     "output_type": "stream",
     "text": [
      "Multiplication Table for 7:\n",
      "Number    Result    \n",
      "--------------------\n",
      "2         14        \n",
      "3         21        \n",
      "4         28        \n",
      "5         35        \n",
      "6         42        \n",
      "7         49        \n",
      "8         56        \n",
      "9         63        \n",
      "10        70        \n",
      "11        77        \n"
     ]
    }
   ],
   "source": [
    "# Cool display\n",
    "\n",
    "def table(base, start, end):\n",
    "    \"\"\"Displays the multiplication table of <base> from <start> to <end>.\"\"\"\n",
    "    print(f\"Multiplication Table for {base}:\")\n",
    "    print(f\"{'Number':<10}{'Result':<10}\")\n",
    "    print(\"-\" * 20)\n",
    "    for n in range(start, end + 1):\n",
    "        print(f\"{n:<10}{n * base:<10}\")\n",
    "\n",
    "# Example call:\n",
    "table(7, 2, 11)"
   ]
  },
  {
   "cell_type": "markdown",
   "metadata": {
    "id": "nrZyuqMydVCE"
   },
   "source": [
    "#### One or more parameters, use of Return\n",
    "\n",
    "- Example with a single `return`:\n",
    "\n",
    "```python\n",
    "def square(x):\n",
    "    \"\"\"\n",
    "    Calculate the square of a number.\n",
    "\n",
    "    Args:\n",
    "    x (float): The number to be squared.\n",
    "\n",
    "    Returns:\n",
    "    float: The square of the input number.\n",
    "    \"\"\"\n",
    "    return x**2\n",
    "\n",
    "def squareArea(r):\n",
    "    \"\"\"\n",
    "    Calculate the area of a square given the length of its side.\n",
    "\n",
    "    Args:\n",
    "    r (float): The length of the side of the square.\n",
    "\n",
    "    Returns:\n",
    "    float: The area of the square.\n",
    "    \"\"\"\n",
    "    return square(r)\n",
    "\n",
    "# Input for the side length and display of the area\n",
    "side = float(input('Side: '))\n",
    "print(\"Square area =\", squareArea(side))\n",
    "\n",
    "```"
   ]
  },
  {
   "cell_type": "code",
   "execution_count": null,
   "metadata": {
    "id": "ys_gEnQhdVCE"
   },
   "outputs": [],
   "source": [
    "def square(x):\n",
    "    \"\"\"\n",
    "    Calculate the square of a number.\n",
    "\n",
    "    Args:\n",
    "    x (float): The number to be squared.\n",
    "\n",
    "    Returns:\n",
    "    float: The square of the input number.\n",
    "    \"\"\"\n",
    "    return x**2\n",
    "\n",
    "def squareArea(r):\n",
    "    \"\"\"\n",
    "    Calculate the area of a square given the length of its side.\n",
    "\n",
    "    Args:\n",
    "    r (float): The length of the side of the square.\n",
    "\n",
    "    Returns:\n",
    "    float: The area of the square.\n",
    "    \"\"\"\n",
    "    return square(r)\n",
    "\n",
    "# Input for the side length and display of the area\n",
    "side = float(input('Side: '))\n",
    "print(\"Square area =\", squareArea(side))"
   ]
  },
  {
   "cell_type": "markdown",
   "metadata": {
    "id": "eCjR2BhVdVCE"
   },
   "source": [
    "- Example with multiple returns:\n",
    "\n",
    "```python\n",
    "PI = 3.14\n",
    "\n",
    "def surfaceVolumeSphere(r):\n",
    "    \"\"\"\n",
    "    Calculate the surface area and volume of a sphere.\n",
    "\n",
    "    Args:\n",
    "    r (float): The radius of the sphere.\n",
    "\n",
    "    Returns:\n",
    "    tuple: A tuple containing the surface area and volume of the sphere.\n",
    "    \"\"\"\n",
    "    surf = 4.0 * PI * r**2\n",
    "    vol = surf * r / 3\n",
    "    return surf, vol\n",
    "\n",
    "```\n",
    "\n",
    "\n",
    "```python\n",
    "# Main program\n",
    "radius = float(input('Radius: '))\n",
    "s, v = surfaceVolumeSphere(radius)\n",
    "print(\"Sphere with surface {:g} and volume {:g}\".format(s, v))\n",
    "```"
   ]
  },
  {
   "cell_type": "code",
   "execution_count": null,
   "metadata": {
    "id": "5T66gJVKdVCE"
   },
   "outputs": [],
   "source": [
    "PI = 3.14\n",
    "\n",
    "def surfaceVolumeSphere(r):\n",
    "    \"\"\"\n",
    "    Calculate the surface area and volume of a sphere.\n",
    "\n",
    "    Args:\n",
    "    r (float): The radius of the sphere.\n",
    "\n",
    "    Returns:\n",
    "    tuple: A tuple containing the surface area and volume of the sphere.\n",
    "    \"\"\"\n",
    "    surf = 4.0 * PI * r**2\n",
    "    vol = surf * r / 3\n",
    "    return surf, vol\n",
    "\n",
    "radius = float(input('Radius: '))\n",
    "s, v = surfaceVolumeSphere(radius)\n",
    "print(\"Sphere with surface {:g} and volume {:g}\".format(s, v))"
   ]
  },
  {
   "cell_type": "markdown",
   "metadata": {
    "id": "e2_Lz_w1dVCF"
   },
   "source": [
    "### 0.2. **Passing a Function as a Parameter**\n",
    "\n",
    "```python\n",
    "def tabulate(function, lowerBound, upperBound, numSteps):\n",
    "    \"\"\"Display the values of <function>. Conditions: (lowerBound < upperBound) and (numSteps > 0)\"\"\"\n",
    "    h, x = (upperBound - lowerBound) / float(numSteps), lowerBound\n",
    "    while x <= upperBound:\n",
    "        y = function(x)\n",
    "        print(\"f({:.2f}) = {:.2f}\".format(x, y))\n",
    "        x += h\n",
    "```\n",
    "\n",
    "```python\n",
    "def myFunction(x):\n",
    "    return 2 * x**3 + x - 5\n",
    "```\n",
    "```python\n",
    "tabulate(myFunction, -5, 5, 10)\n",
    "# f(-5.00) = -260.00\n",
    "# f(-4.00) = -137.00\n",
    "# ...\n",
    "# f(5.00) = 250.00\n",
    "```"
   ]
  },
  {
   "cell_type": "code",
   "execution_count": null,
   "metadata": {
    "id": "whfbwjXRdVCF"
   },
   "outputs": [],
   "source": [
    "def tabulate(function, lowerBound, upperBound, numSteps):\n",
    "    \"\"\"Display the values of <function>. Conditions: (lowerBound < upperBound) and (numSteps > 0)\"\"\"\n",
    "    h, x = (upperBound - lowerBound) / float(numSteps), lowerBound\n",
    "    while x <= upperBound:\n",
    "        y = function(x)\n",
    "        print(\"f({:.2f}) = {:.2f}\".format(x, y))\n",
    "        x += h\n",
    "\n",
    "\n",
    "def myFunction(x):\n",
    "    return 2 * x**3 + x - 5\n",
    "\n",
    "\n",
    "tabulate(myFunction, -5, 5, 10)\n"
   ]
  },
  {
   "cell_type": "markdown",
   "metadata": {
    "id": "o_xLWZ56dVCF"
   },
   "source": [
    "### Improved Display and Explanation\n",
    "\n",
    "Here’s the improved version of the code with a more structured and readable output, followed by an explanation:\n",
    "\n",
    "```python\n",
    "def tabulate(function, lower_bound, upper_bound, num_steps):\n",
    "    \"\"\"\n",
    "    Displays the values of <function> within the range from <lower_bound> to <upper_bound>.\n",
    "    The function is evaluated at evenly spaced points determined by <num_steps>.\n",
    "    \n",
    "    Parameters:\n",
    "    function (callable): The function to be tabulated.\n",
    "    lower_bound (float): The starting point of the range.\n",
    "    upper_bound (float): The ending point of the range.\n",
    "    num_steps (int): The number of intervals in the range.\n",
    "    \n",
    "    Conditions:\n",
    "    - lower_bound < upper_bound\n",
    "    - num_steps > 0\n",
    "    \"\"\"\n",
    "    step_size = (upper_bound - lower_bound) / float(num_steps)\n",
    "    x = lower_bound\n",
    "    \n",
    "    print(\"Tabulation of the function from {:.2f} to {:.2f} with {} steps:\".format(lower_bound, upper_bound, num_steps))\n",
    "    print(\"----------------------------------------------------------\")\n",
    "    \n",
    "    while x <= upper_bound:\n",
    "        y = function(x)\n",
    "        print(\"f({:+.2f}) = {:+.2f}\".format(x, y))\n",
    "        x += step_size\n",
    "\n",
    "def my_function(x):\n",
    "    \"\"\"A sample function: f(x) = 2x^3 + x - 5\"\"\"\n",
    "    return 2 * x**3 + x - 5\n",
    "\n",
    "# Tabulate the function my_function from -5 to 5 with 10 steps\n",
    "tabulate(my_function, -5, 5, 10)\n",
    "```\n",
    "\n",
    "### Example Output:\n",
    "```\n",
    "Tabulation of the function from -5.00 to 5.00 with 10 steps:\n",
    "----------------------------------------------------------\n",
    "f(-5.00) = -260.00\n",
    "f(-4.00) = -137.00\n",
    "f(-3.00) = -68.00\n",
    "f(-2.00) = -27.00\n",
    "f(-1.00) = -8.00\n",
    "f(+0.00) = -5.00\n",
    "f(+1.00) = -2.00\n",
    "f(+2.00) = +19.00\n",
    "f(+3.00) = +82.00\n",
    "f(+4.00) = +203.00\n",
    "f(+5.00) = +395.00\n",
    "```\n",
    "\n",
    "### Explanation:\n",
    "\n",
    "1. **Function Parameters:**\n",
    "   - **`function`**: This parameter takes a function as its value. In the example, `my_function` is passed, which defines the mathematical expression \\(f(x) = 2x^3 + x - 5\\).\n",
    "   - **`lower_bound`**: The starting point of the range where the function will be evaluated.\n",
    "   - **`upper_bound`**: The endpoint of the range.\n",
    "   - **`num_steps`**: The number of intervals between the lower and upper bounds, determining how many times the function will be evaluated.\n",
    "\n",
    "2. **Step Size Calculation:**\n",
    "   - The **`step_size`** is calculated by dividing the difference between `upper_bound` and `lower_bound` by the number of steps (`num_steps`). This determines how much `x` will increment on each loop iteration.\n",
    "\n",
    "3. **Looping and Evaluation:**\n",
    "   - A `while` loop iterates from `lower_bound` to `upper_bound`, calculating the function value `y` at each point `x`.\n",
    "   - The loop prints each evaluated pair `(x, y)` in a well-formatted string, showing the results of the function evaluation.\n",
    "\n",
    "4. **Output Formatting:**\n",
    "   - The output is formatted to display the values with two decimal places for clarity and readability. The plus (`+`) sign before the numbers ensures both positive and negative signs are displayed.\n",
    "\n",
    "This structure makes it easy to understand how the function behaves over a specified range, providing clear and organized output."
   ]
  },
  {
   "cell_type": "code",
   "execution_count": null,
   "metadata": {
    "id": "Rc61qIhGdVCF"
   },
   "outputs": [],
   "source": [
    "def tabulate(function, lower_bound, upper_bound, num_steps):\n",
    "    \"\"\"\n",
    "    Displays the values of <function> within the range from <lower_bound> to <upper_bound>.\n",
    "    The function is evaluated at evenly spaced points determined by <num_steps>.\n",
    "\n",
    "    Parameters:\n",
    "    function (callable): The function to be tabulated.\n",
    "    lower_bound (float): The starting point of the range.\n",
    "    upper_bound (float): The ending point of the range.\n",
    "    num_steps (int): The number of intervals in the range.\n",
    "\n",
    "    Conditions:\n",
    "    - lower_bound < upper_bound\n",
    "    - num_steps > 0\n",
    "    \"\"\"\n",
    "    step_size = (upper_bound - lower_bound) / float(num_steps)\n",
    "    x = lower_bound\n",
    "\n",
    "    print(\"Tabulation of the function from {:.2f} to {:.2f} with {} steps:\".format(lower_bound, upper_bound, num_steps))\n",
    "    print(\"----------------------------------------------------------\")\n",
    "\n",
    "    while x <= upper_bound:\n",
    "        y = function(x)\n",
    "        print(\"f({:+.2f}) = {:+.2f}\".format(x, y))\n",
    "        x += step_size\n",
    "\n",
    "def my_function(x):\n",
    "    \"\"\"A sample function: f(x) = 2x^3 + x - 5\"\"\"\n",
    "    return 2 * x**3 + x - 5\n",
    "\n",
    "# Tabulate the function my_function from -5 to 5 with 10 steps\n",
    "tabulate(my_function, -5, 5, 10)"
   ]
  },
  {
   "cell_type": "markdown",
   "metadata": {
    "id": "GfrzdbitdVCG"
   },
   "source": [
    "### 0.3. Defining default values for function arguments**\n",
    "\n",
    "When defining a function, it is often recommended to set default values for certain arguments, especially optional ones. By defining default values for a function's arguments, it becomes possible to call the function with only some of the expected arguments. Here are some examples:\n",
    "\n",
    "```python\n",
    "def greeting(name, title='Monsieur'):\n",
    "    \"\"\"\n",
    "    Displays a greeting message with the given name and an optional title.\n",
    "    \n",
    "    Parameters:\n",
    "    name (str): The name of the person to greet.\n",
    "    title (str, optional): The title of the person (default is 'Monsieur').\n",
    "    \n",
    "    Returns:\n",
    "    None\n",
    "    \"\"\"\n",
    "    print(\"Bonjour\", title, name)\n",
    "```\n",
    "\n",
    "- **Explanation**:  \n",
    "  The `greeting` function has two arguments: `name` and `title`. A default value ('Monsieur') has been set for the `title` argument. Therefore, when the `greeting` function is called with only the `name` argument (omitting the `title` argument), the function will use the default value 'Monsieur'.\n",
    "\n",
    "\n",
    "\n",
    "\n"
   ]
  },
  {
   "cell_type": "code",
   "execution_count": null,
   "metadata": {
    "id": "ubbaZhXrdVCG"
   },
   "outputs": [],
   "source": [
    "def greeting(name, title='Monsieur'):\n",
    "    \"\"\"\n",
    "    Displays a greeting message with the given name and an optional title.\n",
    "\n",
    "    Parameters:\n",
    "    name (str): The name of the person to greet.\n",
    "    title (str, optional): The title of the person (default is 'Monsieur').\n",
    "\n",
    "    Returns:\n",
    "    None\n",
    "    \"\"\"\n",
    "    print(\"Bonjour\", title, name)"
   ]
  },
  {
   "cell_type": "markdown",
   "metadata": {
    "id": "0goCUwRfdVCG"
   },
   "source": [
    "**Example Usage:**\n",
    "\n",
    "```python\n",
    "greeting('Dupont')\n",
    "# Output: Bonjour Monsieur Dupont\n",
    "```"
   ]
  },
  {
   "cell_type": "code",
   "execution_count": null,
   "metadata": {
    "id": "obzBu8asdVCG"
   },
   "outputs": [],
   "source": [
    "greeting('Dupont')\n",
    "# Output: Bonjour Monsieur Dupont"
   ]
  },
  {
   "cell_type": "markdown",
   "metadata": {
    "id": "7y2owTOSdVCG"
   },
   "source": [
    "- **Explanation**:  \n",
    "  When the function is called with both arguments, the default value is overridden by the provided value."
   ]
  },
  {
   "cell_type": "markdown",
   "metadata": {
    "id": "5Nub2eAHdVCH"
   },
   "source": [
    "**Example:**\n",
    "\n",
    "```python\n",
    "greeting('Dupont', 'Mademoiselle')\n",
    "# Output: Bonjour Mademoiselle Dupont\n",
    "```"
   ]
  },
  {
   "cell_type": "code",
   "execution_count": null,
   "metadata": {
    "id": "2JFTgIXkdVCH"
   },
   "outputs": [],
   "source": [
    "greeting('Dupont', 'Mademoiselle')\n",
    "# Output: Bonjour Mademoiselle Dupont"
   ]
  },
  {
   "cell_type": "markdown",
   "metadata": {
    "id": "XDgcbZiYdVCH"
   },
   "source": [
    "- **Explanation**:  \n",
    "  By defining default values for a function's arguments, you can make the function calls more flexible, allowing it to be called with only a subset of the expected arguments when needed."
   ]
  },
  {
   "cell_type": "markdown",
   "metadata": {
    "id": "AAL_x429dVCH"
   },
   "source": [
    "\n",
    "**Note:**\n",
    "\n",
    "Arguments without default values must be specified before arguments with default values. If this rule is not followed, Python will raise an error during execution. For example, the following function definition is incorrect:\n",
    "\n",
    "```python\n",
    "def greeting(title='Monsieur', name):\n",
    "    \"\"\"\n",
    "    This function is incorrectly defined and will raise an error because the argument\n",
    "    with a default value ('title') comes before an argument without a default value ('name').\n",
    "    \n",
    "    Parameters:\n",
    "    title (str, optional): The title of the person (default is 'Monsieur').\n",
    "    name (str): The name of the person to greet.\n",
    "    \n",
    "    Returns:\n",
    "    None\n",
    "    \"\"\"\n",
    "```\n",
    "\n",
    "- **Explanation**:  \n",
    "  The `greeting` function is defined incorrectly because `title`, an argument with a default value, is placed before `name`, an argument without a default value. In Python, arguments without default values must precede those with default values to avoid a syntax error."
   ]
  },
  {
   "cell_type": "code",
   "execution_count": null,
   "metadata": {
    "id": "9A2DLsV4dVCH"
   },
   "outputs": [],
   "source": [
    "def salutation(titre='Monsieur', name):  ## default must be at the end of parameters\n",
    "    "
   ]
  },
  {
   "cell_type": "markdown",
   "metadata": {
    "id": "momKUtcAdVCH"
   },
   "source": [
    "### 0.4. Lambda Functions\n",
    "\n",
    "A lambda function is an anonymous function, meaning it is a function that consists of a block of instructions that can be called and reused like a regular function but without a name. Lambda functions are typically used for very short functions with few instructions, which do not require a full function definition using the `def` keyword.\n",
    "\n",
    "The general syntax for defining a lambda function is as follows:\n",
    "\n",
    "```python\n",
    "lambda arg1, arg2, ..., argN : instruction_block (or formula)\n",
    "```\n",
    "\n",
    "The example below illustrates the definition of a lambda function:\n",
    "\n",
    "```python\n",
    "lambda x, y : x * y\n",
    "```"
   ]
  },
  {
   "cell_type": "markdown",
   "metadata": {
    "id": "ks-sej-qdVCI"
   },
   "source": [
    "Notons toutefois que même si la fonction lambda n’est pas définie avec un nom, pour\n",
    "récupérer la valeur renvoyée, lors de l’appel de la fonction, il faut l’assigner à une nouvelle\n",
    "variable. L’exemple ci-dessous illustre l’appel de la fonction lambda précédente en prenant x=2\n",
    "et y=3.\n",
    "```python\n",
    "   x = lambda x, y : x * y\n",
    "   x(2,3)\n",
    "```"
   ]
  },
  {
   "cell_type": "code",
   "execution_count": 27,
   "metadata": {
    "id": "gmJfO588dVCI"
   },
   "outputs": [
    {
     "data": {
      "text/plain": [
       "6"
      ]
     },
     "execution_count": 27,
     "metadata": {},
     "output_type": "execute_result"
    }
   ],
   "source": [
    "x = lambda x, y : x * y\n",
    "x(2,3)"
   ]
  },
  {
   "cell_type": "markdown",
   "metadata": {
    "id": "dUIzH0HrdVCJ"
   },
   "source": [
    "<left> <b> <span style=\"color:red;\">\n",
    "Note: When we define variables inside a function, these variables are only accessible within that function itself. These variables are referred to as `« local »` to the function. However, when variables are defined outside of the function in the main program body, they are called `« global »` variables. The content of a global variable is visible and accessible from within a function, but the function cannot modify the value of the variable.</span> </b></left>\n",
    "\n",
    "```python\n",
    "def myFunction():\n",
    "    p = 20\n",
    "    print(p, q)\n",
    "\n",
    "p = 15\n",
    "q = 38\n",
    "\n",
    "print(p, q)  # Outputs: 15 38\n",
    "myFunction()  # Calls the function, Outputs: 20 38\n",
    "print(p, q)  # Outputs: 15 38\n",
    "```"
   ]
  },
  {
   "cell_type": "code",
   "execution_count": 26,
   "metadata": {
    "id": "0eGOtvhqdVCJ"
   },
   "outputs": [
    {
     "name": "stdout",
     "output_type": "stream",
     "text": [
      "15 38\n",
      "20 38\n",
      "15 38\n"
     ]
    }
   ],
   "source": [
    "\n",
    "def myFunction():\n",
    "    p = 20\n",
    "    print(p, q)\n",
    "\n",
    "p = 15\n",
    "q = 38\n",
    "\n",
    "print(p, q)  # Outputs: 15 38\n",
    "myFunction()  # Calls the function, Outputs: 20 38\n",
    "print(p, q)  # Outputs: 15 38\n"
   ]
  },
  {
   "cell_type": "markdown",
   "metadata": {
    "id": "NfOs04xydVCJ"
   },
   "source": [
    "**Explanation:**\n",
    "\n",
    "1. **Global and Local Variables:**\n",
    "   - The variables `p` and `q` are defined in the global scope, outside the function `myFunction()`. Hence, they are global variables.\n",
    "   - Inside `myFunction()`, a new variable `p` is defined with the value `20`. This `p` is local to the function and does not affect the global `p`.\n",
    "\n",
    "2. **Output Analysis:**\n",
    "   - **Before Function Call (`print(p, q)`):** This prints the global values of `p` and `q`, which are `15` and `38`, respectively.\n",
    "   - **Inside Function (`myFunction()`):** When `myFunction()` is called, it prints the local `p` (which is `20`) and the global `q` (which remains `38`). The local `p` inside the function shadows the global `p` but does not change it.\n",
    "   - **After Function Call (`print(p, q)`):** This again prints the global values of `p` and `q`, which are still `15` and `38`, as the local `p` inside the function did not alter the global `p`."
   ]
  },
  {
   "cell_type": "markdown",
   "metadata": {
    "id": "UdG1r8BDdVCJ"
   },
   "source": [
    "\n",
    "However, you can modify this default behavior by allowing the function to modify the value of a global variable. To do this, you must explicitly declare the variable as global within the function. Example:\n",
    "\n",
    "```python\n",
    "def myFunction():\n",
    "    global p\n",
    "    p = 20\n",
    "    print(p, q)\n",
    "\n",
    "p = 15\n",
    "q = 38\n",
    "\n",
    "print(p, q)  # Outputs: 15 38\n",
    "myFunction()  # Calls the function, Outputs: 20 38\n",
    "print(p, q)  # Outputs: 20 38\n",
    "```\n",
    "\n",
    "**Explanation:**\n",
    "\n",
    "1. **Global Declaration:**\n",
    "   - Inside `myFunction()`, the `global` keyword is used to indicate that `p` refers to the global variable `p`, not a new local variable.\n",
    "\n",
    "2. **Output Analysis:**\n",
    "   - **Before Function Call (`print(p, q)`):** This prints the global values of `p` and `q`, which are `15` and `38`, respectively.\n",
    "   - **Inside Function (`myFunction()`):** When `myFunction()` is called, it sets the global `p` to `20` and prints this new value of `p` along with the global `q` (which remains `38`).\n",
    "   - **After Function Call (`print(p, q)`):** This prints the updated global values of `p` and `q`, which are now `20` and `38`, respectively, reflecting the change made inside `myFunction()`."
   ]
  },
  {
   "cell_type": "code",
   "execution_count": 28,
   "metadata": {
    "id": "4nrsJ-hodVCJ"
   },
   "outputs": [
    {
     "name": "stdout",
     "output_type": "stream",
     "text": [
      "15 38\n",
      "20 38\n",
      "20 38\n"
     ]
    }
   ],
   "source": [
    "def myFunction():\n",
    "    global p\n",
    "    p = 20\n",
    "    print(p, q)\n",
    "\n",
    "p = 15\n",
    "q = 38\n",
    "\n",
    "print(p, q)  # Outputs: 15 38\n",
    "myFunction()  # Calls the function, Outputs: 20 38\n",
    "print(p, q)  # Outputs: 20 38"
   ]
  },
  {
   "cell_type": "markdown",
   "metadata": {
    "id": "9-_fesQidVCJ"
   },
   "source": [
    "### 0.5. Arbitrary number of arguments\n",
    "\n",
    "#### 0.5.0. Passing a Tuple"
   ]
  },
  {
   "cell_type": "code",
   "execution_count": 29,
   "metadata": {
    "id": "kjCHJkHbdVCK"
   },
   "outputs": [
    {
     "name": "stdout",
     "output_type": "stream",
     "text": [
      "23\n",
      "78\n"
     ]
    }
   ],
   "source": [
    "def somme(*args):\n",
    "    \"\"\"Returns the sum of the <tuple>.\"\"\"\n",
    "    resultat = 0\n",
    "    for nombre in args:\n",
    "        resultat += nombre\n",
    "    return resultat\n",
    "\n",
    "# Example calls:\n",
    "print(somme(23)) # 23\n",
    "print(somme(23, 42, 13)) # 78\n"
   ]
  },
  {
   "cell_type": "markdown",
   "metadata": {
    "id": "J54WzTsudVCK"
   },
   "source": [
    "```python\n",
    "If the function has multiple arguments, the *tuple* is in the last position. It is also possible to pass a tuple (or actually a sequence) to the call, which will be unpacked into a list of parameters for a \"classic\" function:\n",
    "\n",
    "```python\n",
    "def somme(a, b, c):\n",
    "    return a + b + c\n",
    "\n",
    "# Example call:\n",
    "elements = (2, 4, 6)\n",
    "print(somme(*elements)) # 12\n",
    "```"
   ]
  },
  {
   "cell_type": "markdown",
   "metadata": {
    "id": "I03sRObidVCK"
   },
   "source": [
    "#### 0.5.1. Passing a Dictionary"
   ]
  },
  {
   "cell_type": "code",
   "execution_count": 30,
   "metadata": {
    "id": "f0XRhf9GdVCK"
   },
   "outputs": [
    {
     "name": "stdout",
     "output_type": "stream",
     "text": [
      "{'a': 23, 'b': 42}\n",
      "{'d': 85, 'e': 14, 'f': 9}\n"
     ]
    }
   ],
   "source": [
    "def unDict(**kargs):\n",
    "    return kargs\n",
    "\n",
    "# Examples of calls\n",
    "## Using named parameters:\n",
    "print(unDict(a=23, b=42)) # {'a': 23, 'b': 42}\n",
    "\n",
    "## Providing a dictionary:\n",
    "mots = {'d': 85, 'e': 14, 'f': 9}\n",
    "print(unDict(**mots)) # {'d': 85, 'e': 14, 'f': 9}\n"
   ]
  },
  {
   "cell_type": "markdown",
   "metadata": {
    "id": "9X9Sj7O4dVCK"
   },
   "source": [
    "### 0.6. Documenting a Function\n",
    "\n",
    "After creating a function (especially a relatively long and complex one), it is highly recommended to document it to allow other users to understand it quickly. Function documentation is typically a string that provides an overview of the function and useful details. This description is generally specified right after the function's name declaration and before the definition of other instruction blocks. The example below illustrates how to document a function and how to access this documentation when needed."
   ]
  },
  {
   "cell_type": "code",
   "execution_count": 31,
   "metadata": {
    "id": "WLVOXMt-dVCK"
   },
   "outputs": [],
   "source": [
    "def volumeSphere():\n",
    "    \"\"\" This program calculates the volume of a sphere.\n",
    "    The function is defined with a single required argument r\n",
    "    which represents the radius of the sphere.\n",
    "    It can take any positive value.\"\"\"\n",
    "    r = float(input(\"Enter the radius of the sphere: \"))\n",
    "    PI = 3.14\n",
    "    return (4 * PI * r**3) / 3\n"
   ]
  },
  {
   "cell_type": "markdown",
   "metadata": {
    "id": "-2d46uD9dVCL"
   },
   "source": [
    "In the definition of the `volumeSphere` function, the string does not play any functional role in the script; it is treated by Python as a simple comment but is stored as internal documentation for the function. This documentation is stored in an attribute called `__doc__`. To display this attribute, you use:\n",
    "\n",
    "```python\n",
    "print(volumeSphere.__doc__)\n",
    "```"
   ]
  },
  {
   "cell_type": "code",
   "execution_count": 32,
   "metadata": {
    "id": "dbiYD5didVCL"
   },
   "outputs": [
    {
     "name": "stdout",
     "output_type": "stream",
     "text": [
      " This program calculates the volume of a sphere.\n",
      "    The function is defined with a single required argument r\n",
      "    which represents the radius of the sphere.\n",
      "    It can take any positive value.\n"
     ]
    }
   ],
   "source": [
    "print(volumeSphere.__doc__)"
   ]
  },
  {
   "cell_type": "code",
   "execution_count": 33,
   "metadata": {},
   "outputs": [],
   "source": [
    "def todayreport():\n",
    "    \"These are differents exercises of functions I practiced after today's lecture on function \""
   ]
  },
  {
   "cell_type": "code",
   "execution_count": 34,
   "metadata": {},
   "outputs": [
    {
     "name": "stdout",
     "output_type": "stream",
     "text": [
      "These are differents exercises of functions I practiced after today's lecture on function \n"
     ]
    }
   ],
   "source": [
    "print(todayreport.__doc__)"
   ]
  },
  {
   "cell_type": "code",
   "execution_count": null,
   "metadata": {},
   "outputs": [],
   "source": [
    "# Research on functions"
   ]
  },
  {
   "cell_type": "code",
   "execution_count": 35,
   "metadata": {},
   "outputs": [
    {
     "name": "stdout",
     "output_type": "stream",
     "text": [
      "Welcome to python !\n"
     ]
    },
    {
     "name": "stdin",
     "output_type": "stream",
     "text": [
      "Enter your name:  Adrie\n"
     ]
    },
    {
     "name": "stdout",
     "output_type": "stream",
     "text": [
      "Adrie Hello Have a nice day! "
     ]
    }
   ],
   "source": [
    "# function can use the argument of another function\n",
    "\n",
    "def getNames():  \n",
    "    names = input(\"Enter your name: \")  \n",
    "    print(names,end=' ')  \n",
    "\n",
    "def greeting():  \n",
    "    print(\"Hello\", end=' ')\n",
    "\n",
    "def goodbye():  \n",
    "    print(\"Have a nice day!\", end=' ') \n",
    "\n",
    "def checking(func1, func2,func3):  \n",
    "    print(\"Welcome to python !\")\n",
    "    func1()  \n",
    "    func2() \n",
    "    func3() \n",
    "checking(getNames, greeting,goodbye)               "
   ]
  },
  {
   "cell_type": "code",
   "execution_count": null,
   "metadata": {},
   "outputs": [],
   "source": [
    "# Exercies"
   ]
  },
  {
   "cell_type": "code",
   "execution_count": 36,
   "metadata": {},
   "outputs": [
    {
     "name": "stdin",
     "output_type": "stream",
     "text": [
      "Enter first value :  3\n",
      "Enter second value :  2\n"
     ]
    },
    {
     "name": "stdout",
     "output_type": "stream",
     "text": [
      "The sum of  3.0  and  2.0  is  5.0\n"
     ]
    }
   ],
   "source": [
    "# Exercise 1:\n",
    "# Write a Python function add_numbers(a, b) that takes two numbers and returns their sum.\n",
    "def add_numbers(a, b) :\n",
    "    \"This function takes two value make summation of those numbers and return the sum\"\n",
    "    return (a+b)\n",
    "x=float(input(\"Enter first value : \"))\n",
    "y=float(input(\"Enter second value : \"))\n",
    "print(\"The sum of \",x,\" and \",y,\" is \",add_numbers(x,y))"
   ]
  },
  {
   "cell_type": "code",
   "execution_count": 37,
   "metadata": {
    "scrolled": true
   },
   "outputs": [
    {
     "name": "stdout",
     "output_type": "stream",
     "text": [
      "This function takes two value make summation of those numbers and return the sum\n"
     ]
    }
   ],
   "source": [
    "print(add_numbers.__doc__)"
   ]
  },
  {
   "cell_type": "code",
   "execution_count": 39,
   "metadata": {},
   "outputs": [
    {
     "name": "stdin",
     "output_type": "stream",
     "text": [
      "Enter your name :  Adrien\n"
     ]
    },
    {
     "name": "stdout",
     "output_type": "stream",
     "text": [
      "Hello, Adrien!\n"
     ]
    }
   ],
   "source": [
    "# Exercise 2:\n",
    "# Create a function greet(name) that takes a name and prints \"Hello, !\".\n",
    "def greet(name):\n",
    "    \"This function read the name from user and print Hello, name!\"\n",
    "    print(f\"Hello, {name}!\")\n",
    "name=input(\"Enter your name : \")\n",
    "greet(name)"
   ]
  },
  {
   "cell_type": "code",
   "execution_count": 40,
   "metadata": {},
   "outputs": [
    {
     "name": "stdout",
     "output_type": "stream",
     "text": [
      "This function read the name from user and print Hello, name!\n"
     ]
    }
   ],
   "source": [
    "print(greet.__doc__)"
   ]
  },
  {
   "cell_type": "code",
   "execution_count": 41,
   "metadata": {},
   "outputs": [
    {
     "name": "stdin",
     "output_type": "stream",
     "text": [
      "Enter a number to check whether is even or not :  5\n"
     ]
    },
    {
     "name": "stdout",
     "output_type": "stream",
     "text": [
      "5 is not even\n"
     ]
    }
   ],
   "source": [
    "# Exercise 3: Write a Python function is_even(n) that checks whether a number is even.\n",
    "user_input=int(input(\"Enter a number to check whether is even or not : \"))\n",
    "def is_even(n):\n",
    "    \"This function check if number is even\"\n",
    "    if( n % 2 ==0):\n",
    "        print(f\"{n} is even\")\n",
    "    else:\n",
    "        print(f\"{n} is not even\")\n",
    "is_even(user_input)\n",
    "    "
   ]
  },
  {
   "cell_type": "code",
   "execution_count": 42,
   "metadata": {},
   "outputs": [
    {
     "name": "stdout",
     "output_type": "stream",
     "text": [
      "This function check if number is even\n"
     ]
    }
   ],
   "source": [
    "print(is_even.__doc__)"
   ]
  },
  {
   "cell_type": "code",
   "execution_count": 43,
   "metadata": {},
   "outputs": [
    {
     "name": "stdin",
     "output_type": "stream",
     "text": [
      "Enter value of a :  4\n",
      "Enter value of b :  6\n",
      "Enter value of c:  8\n"
     ]
    },
    {
     "name": "stdout",
     "output_type": "stream",
     "text": [
      "The largest number is :  8.0\n"
     ]
    }
   ],
   "source": [
    "# Exercise 4:\n",
    "# Write a function max_of_three(a, b, c) that returns the largest of three numbers.\n",
    "def max_of_three(a,b,c):\n",
    "    \"This function check the largest number between three \"\n",
    "    print(\"The largest number is : \",max(a,b,c))\n",
    "x=float(input(\"Enter value of a : \"))\n",
    "y=float(input(\"Enter value of b : \"))\n",
    "z=float(input(\"Enter value of c: \"))\n",
    "max_of_three(x,y,z)\n",
    "\n"
   ]
  },
  {
   "cell_type": "code",
   "execution_count": 44,
   "metadata": {},
   "outputs": [
    {
     "name": "stdout",
     "output_type": "stream",
     "text": [
      "This function check the largest number between three \n"
     ]
    }
   ],
   "source": [
    "print(max_of_three.__doc__)"
   ]
  },
  {
   "cell_type": "code",
   "execution_count": 12,
   "metadata": {},
   "outputs": [
    {
     "name": "stdin",
     "output_type": "stream",
     "text": [
      "Enter any number :  -3\n"
     ]
    },
    {
     "name": "stdout",
     "output_type": "stream",
     "text": [
      "The square of  -3.0  is  9.0\n"
     ]
    }
   ],
   "source": [
    "# Exercise 5:\n",
    "# Create a Python module math_utils.py and define a function square(x) that returns the square of a number.\n",
    "import math_utils\n",
    "def get_square(n):\n",
    "    \"This function use square function from math_utils module and return the square of number\"\n",
    "    return math_utils.square(n)\n",
    "user_input=float(input(\"Enter any number : \"))\n",
    "print(\"The square of \",user_input,\" is \",get_square(user_input))\n"
   ]
  },
  {
   "cell_type": "code",
   "execution_count": 13,
   "metadata": {},
   "outputs": [
    {
     "name": "stdout",
     "output_type": "stream",
     "text": [
      "This function use square function from math_utils module and return the square of number\n"
     ]
    }
   ],
   "source": [
    "print(get_square.__doc__)"
   ]
  },
  {
   "cell_type": "code",
   "execution_count": 23,
   "metadata": {},
   "outputs": [
    {
     "name": "stdin",
     "output_type": "stream",
     "text": [
      "Enter number to check if is prime or not :  10\n"
     ]
    },
    {
     "name": "stdout",
     "output_type": "stream",
     "text": [
      "10  is not a prime number.\n"
     ]
    }
   ],
   "source": [
    "# Exercise 6 Write a function is_prime(n) that checks if a number is prime.\n",
    "def check_prime(n):\n",
    "    \"This function check if a number is prime number\"\n",
    "    if (n>1):\n",
    "        for i in range(2,n):\n",
    "            if(n % i == 0):\n",
    "                print(n, \" is not a prime number.\")\n",
    "                break\n",
    "           \n",
    "        else:\n",
    "            print(n, \" is prime\")\n",
    "    else:\n",
    "        print(\"Provide number like 2,3,6\")\n",
    "\n",
    "user_input=int(input(\"Enter number to check if is prime or not : \")) \n",
    "check_prime(user_input)              "
   ]
  },
  {
   "cell_type": "code",
   "execution_count": 75,
   "metadata": {},
   "outputs": [
    {
     "name": "stdin",
     "output_type": "stream",
     "text": [
      "Enter list items separated by comma (,) :  2,3,5,6\n"
     ]
    },
    {
     "name": "stdout",
     "output_type": "stream",
     "text": [
      "The sum is :  16.0\n"
     ]
    }
   ],
   "source": [
    "# Exercise 8:\n",
    "# Write a function sum_of_list(lst) that takes a list of numbers and returns the sum of all the elements.\n",
    "def sum_of_list(lst):\n",
    "    \"This function take split items list by comma and add each item and return the sum of all items in a list\"\n",
    "    sum_list=0\n",
    "    \"This function return the sum of all elements in list\"\n",
    "    lists=lst.split(',')\n",
    "    for i in lists:\n",
    "        sum_list=sum_list+float(i)\n",
    "    return sum_list\n",
    "user_list_get=input(\"Enter list items separated by comma (,) : \")\n",
    "print(\"The sum is : \",sum_of_list(user_list_get))"
   ]
  },
  {
   "cell_type": "code",
   "execution_count": 76,
   "metadata": {},
   "outputs": [
    {
     "name": "stdout",
     "output_type": "stream",
     "text": [
      "This function take split items list by comma and add each item and return the sum of all items in a list\n"
     ]
    }
   ],
   "source": [
    "print(sum_of_list.__doc__)"
   ]
  },
  {
   "cell_type": "code",
   "execution_count": 115,
   "metadata": {},
   "outputs": [
    {
     "name": "stdin",
     "output_type": "stream",
     "text": [
      "Enter value to check the n th Fibonacci number :  10\n"
     ]
    },
    {
     "data": {
      "text/plain": [
       "55"
      ]
     },
     "execution_count": 115,
     "metadata": {},
     "output_type": "execute_result"
    }
   ],
   "source": [
    "# Exercise 9:\n",
    "# Write a function fibonacci(n) that returns the nth Fibonacci number using recursion.\n",
    "def fibonacci(n):\n",
    "    \"This function will produce nth fibonacci number using recursive\"\n",
    "    if(n==0):\n",
    "        return 0\n",
    "    elif(n==1):\n",
    "        return 1\n",
    "    else:\n",
    "        return fibonacci(n-1)+fibonacci(n-2)\n",
    "get_n_th=int(input(\"Enter value to check the n th Fibonacci number : \"))\n",
    "fibonacci(get_n_th)\n",
    "        "
   ]
  },
  {
   "cell_type": "code",
   "execution_count": 116,
   "metadata": {},
   "outputs": [
    {
     "name": "stdout",
     "output_type": "stream",
     "text": [
      "This function will produce nth fibonacci number using recursive\n"
     ]
    }
   ],
   "source": [
    "print(fibonacci.__doc__)"
   ]
  },
  {
   "cell_type": "code",
   "execution_count": 118,
   "metadata": {},
   "outputs": [
    {
     "ename": "IndentationError",
     "evalue": "unexpected indent (636691364.py, line 3)",
     "output_type": "error",
     "traceback": [
      "\u001b[1;36m  Cell \u001b[1;32mIn[118], line 3\u001b[1;36m\u001b[0m\n\u001b[1;33m    def reverse_string(s):\u001b[0m\n\u001b[1;37m    ^\u001b[0m\n\u001b[1;31mIndentationError\u001b[0m\u001b[1;31m:\u001b[0m unexpected indent\n"
     ]
    }
   ],
   "source": [
    "# Exercise 10:\n",
    "# Create a function reverse_string(s) that takes a string and returns the reverse of the string.\n",
    " def reverse_string(s):\n",
    "     \"This function return the reverse of string\"\n",
    "     print(s[::-1])\n",
    "user_string=input(\"Enter string here to get reverse of it : \")\n",
    "reverse_string(user_string)"
   ]
  }
 ],
 "metadata": {
  "colab": {
   "include_colab_link": true,
   "provenance": []
  },
  "kernelspec": {
   "display_name": "Python 3 (ipykernel)",
   "language": "python",
   "name": "python3"
  },
  "language_info": {
   "codemirror_mode": {
    "name": "ipython",
    "version": 3
   },
   "file_extension": ".py",
   "mimetype": "text/x-python",
   "name": "python",
   "nbconvert_exporter": "python",
   "pygments_lexer": "ipython3",
   "version": "3.12.4"
  }
 },
 "nbformat": 4,
 "nbformat_minor": 4
}
