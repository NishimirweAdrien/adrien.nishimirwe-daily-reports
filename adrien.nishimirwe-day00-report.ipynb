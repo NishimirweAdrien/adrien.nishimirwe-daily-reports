{
 "cells": [
  {
   "cell_type": "markdown",
   "metadata": {
    "id": "aNoSttG8Xhqd"
   },
   "source": [
    "## Practial 0: Taking control of a jupyter notebook"
   ]
  },
  {
   "cell_type": "markdown",
   "metadata": {
    "id": "7Z5e7OXUXhqf"
   },
   "source": [
    "<left> <b> <span style=\"color:red;\">\n",
    "This notebook is designed to introduce you to the basics of Jupyter Notebooks. You should proceed through it line by line and step by step, experimenting with each code cell as you go. Follow the instructions to understand how to create, edit, and run cells, and learn how to use Markdown for formatting. By actively engaging with the examples and modifying the code, you will gain a solid foundation in using Jupyter Notebooks for interactive computing and documentation.\n",
    "</span> </b></left>"
   ]
  },
  {
   "cell_type": "markdown",
   "metadata": {
    "id": "PSitoQ84Xhqg"
   },
   "source": [
    "## Introduction to Jupyter Notebooks\n",
    "\n",
    "A Jupyter Notebook is an open-source web application that allows users to create and share documents containing live code, equations, visualizations, and narrative text. It is an interactive tool widely used in data science, research, education, and software development, offering a versatile environment where users can experiment, explore, and present their work.\n",
    "\n",
    "### Key Features\n",
    "\n",
    "1. **Live Code Execution:**\n",
    "   - Jupyter Notebooks support live code in multiple programming languages, including Python, R, Julia, and more. Users can run code cells interactively, making it easy to test and iterate on their work.\n",
    "\n",
    "2. **Rich Text and Markdown Support:**\n",
    "   - Users can write and format text using Markdown, allowing for the inclusion of headings, lists, links, and more. This feature is useful for adding explanations, instructions, and comments directly within the notebook.\n",
    "\n",
    "3. **Data Visualization:**\n",
    "   - Jupyter Notebooks support various plotting libraries like Matplotlib, Seaborn, and Plotly. Users can create and display graphs, charts, and other visualizations to analyze and interpret data.\n",
    "\n",
    "4. **Interactive Widgets:**\n",
    "   - Jupyter Notebooks can include interactive widgets that allow users to manipulate parameters and see real-time updates in visualizations and outputs. This interactivity enhances the exploratory data analysis experience.\n",
    "\n",
    "5. **Documentation and Collaboration:**\n",
    "   - Notebooks can be easily shared and published, making them ideal for collaborative projects. They are commonly used for sharing research findings, creating tutorials, and documenting workflows.\n",
    "\n",
    "6. **Extensibility:**\n",
    "   - Jupyter Notebooks support extensions and can be integrated with various tools and services, such as GitHub for version control, Binder for live sharing, and JupyterHub for multi-user environments.\n",
    "\n",
    "### Practical Session Introduction\n",
    "\n",
    "In this practical session, we will explore the basics of Jupyter Notebooks. We'll start by setting up a notebook environment and familiarizing ourselves with the interface. We will cover how to write and execute code and document our work using Markdown. By the end of this session, you will have a solid understanding of how to use Jupyter Notebooks to develop, document, and share your projects effectively.\n",
    "\n",
    "Let's dive in and experience the power and flexibility of Jupyter Notebooks in action!\n"
   ]
  },
  {
   "cell_type": "markdown",
   "metadata": {
    "id": "W51LisNYXhqg"
   },
   "source": [
    "# Keyboard Shortcuts Practice\n",
    "\n",
    "Taking a few minutes to learn certain <span style=\"color:rgba(255,100,0,1)\"><b>Jupyter</b></span> Notebook keyboard shortcuts has helped me be a more efficient Python developer. Below are the keyboard shortcuts I've found most useful.\n",
    "\n",
    ">**Note:** these keyboard shortcuts are for Jupyter version 4.1.0 and Mac OSX. For Mac OSX users, you can replace **<kbd>`Ctrl`</kbd>** by **<kbd>`cmd`</kbd>** for  and **`option`** for **<kbd>`Alt`</kbd>** for Windows or Linux. Or, you can use the **<kbd>`H`</kbd>** keyboard shortcut in Windows or Linux to confirm the appropriate keyboard shortcuts for those operating systems."
   ]
  },
  {
   "cell_type": "markdown",
   "metadata": {
    "id": "tQ0N1PiGXhqg"
   },
   "source": [
    "## Command vs. Edit Modes\n",
    "\n",
    "But first...something key to be aware of: Jupyter Notebooks have two different keyboard input modes:\n",
    "\n",
    "1. **Command mode** - binds the keyboard to notebook level actions. Indicated by a grey cell border with a <font color=teal>**blue**</font> left margin.\n",
    "2. **Edit mode** - when you're typing in a cell. Indicated by a green cell border with a <font color=green>**green**</font> left margin.\n",
    "\n",
    "Experiment with switching between command and edit modes in this cell. Hint: If you're in command mode, press <span class='label label-default'>Enter</span> to enter edit mode. If you're in edit mode, press <span class='label label-default'>Esc</span> to enter command mode."
   ]
  },
  {
   "cell_type": "markdown",
   "metadata": {
    "id": "E3OWRzFnXhqh"
   },
   "source": [
    "### Command Mode\n",
    "\n",
    "Let's practice the command mode first.\n",
    "\n",
    "To start, select the next cell and press <span class='label label-default'>Shift</span> + <span class='label label-default'>Enter</span> to run that cell and select the next cell"
   ]
  },
  {
   "cell_type": "code",
   "execution_count": 1,
   "metadata": {
    "ExecuteTime": {
     "end_time": "2021-06-22T07:02:49.349781Z",
     "start_time": "2021-06-22T07:02:49.332207Z"
    },
    "colab": {
     "base_uri": "https://localhost:8080/"
    },
    "id": "oGjlvEKxXhqh",
    "outputId": "d61f68e8-8d96-4b46-e1de-b13658013fab"
   },
   "outputs": [
    {
     "name": "stdout",
     "output_type": "stream",
     "text": [
      "You just ran the cell and selected the next cell\n"
     ]
    }
   ],
   "source": [
    "print(\"You just ran the cell and selected the next cell\")"
   ]
  },
  {
   "cell_type": "markdown",
   "metadata": {
    "id": "3ZtujoiEXhqi"
   },
   "source": [
    "With the next cell selected, press <span class='label label-default'>Ctrl</span> + <span class='label label-default'>Enter</span> to run the cell and keep the same cell selected"
   ]
  },
  {
   "cell_type": "code",
   "execution_count": 3,
   "metadata": {
    "ExecuteTime": {
     "end_time": "2021-06-22T07:02:52.588086Z",
     "start_time": "2021-06-22T07:02:52.581250Z"
    },
    "colab": {
     "base_uri": "https://localhost:8080/"
    },
    "id": "zu3rhNtlXhqi",
    "outputId": "53e03e44-6020-4fb3-d3c7-d290ad3c1564"
   },
   "outputs": [
    {
     "name": "stdout",
     "output_type": "stream",
     "text": [
      "You just ran the cell and the focus stayed in that cell\n"
     ]
    }
   ],
   "source": [
    "print(\"You just ran the cell and the focus stayed in that cell\")"
   ]
  },
  {
   "cell_type": "markdown",
   "metadata": {
    "id": "2Z-ggmjCXhqi"
   },
   "source": [
    "With the next cell selected, press <span class='label label-default'>Alt</span> + <span class='label label-default'>Enter</span> to run the cell and insert a new cell below"
   ]
  },
  {
   "cell_type": "code",
   "execution_count": 5,
   "metadata": {
    "ExecuteTime": {
     "end_time": "2021-06-22T07:03:06.788366Z",
     "start_time": "2021-06-22T07:03:06.772743Z"
    },
    "colab": {
     "base_uri": "https://localhost:8080/"
    },
    "id": "c71AMT3mXhqi",
    "outputId": "e09c9037-674f-467c-e06a-36c364bfede0"
   },
   "outputs": [
    {
     "name": "stdout",
     "output_type": "stream",
     "text": [
      "You just ran the cell and inserted a new cell below it\n"
     ]
    }
   ],
   "source": [
    "print(\"You just ran the cell and inserted a new cell below it\")"
   ]
  },
  {
   "cell_type": "code",
   "execution_count": 7,
   "metadata": {
    "colab": {
     "base_uri": "https://localhost:8080/"
    },
    "id": "atgCNHCsZFXt",
    "outputId": "291d4964-a391-411a-bbc6-ed4361b7a24f"
   },
   "outputs": [
    {
     "name": "stdout",
     "output_type": "stream",
     "text": [
      "Hello, this is my first cell!\n"
     ]
    }
   ],
   "source": [
    "print(\"Hello, this is my first cell!\")\n"
   ]
  },
  {
   "cell_type": "markdown",
   "metadata": {
    "id": "DST0SdMIXhqj"
   },
   "source": [
    "<span class='label label-default'>Ctrl</span> + <span class='label label-default'>S</span> save and checkpoint."
   ]
  },
  {
   "cell_type": "markdown",
   "metadata": {
    "id": "23KvwZA3Xhqj"
   },
   "source": [
    "---"
   ]
  },
  {
   "cell_type": "code",
   "execution_count": 9,
   "metadata": {
    "colab": {
     "base_uri": "https://localhost:8080/"
    },
    "id": "KV2PvlGdZneq",
    "outputId": "d870ccce-bfb0-4faa-ea2d-f49434df19ac"
   },
   "outputs": [
    {
     "name": "stdout",
     "output_type": "stream",
     "text": [
      "This is cell above using A\n"
     ]
    }
   ],
   "source": [
    "print(\"This is cell above using A\")"
   ]
  },
  {
   "cell_type": "markdown",
   "metadata": {
    "id": "SoleT2bxXhqj"
   },
   "source": [
    "Press <span class='label label-default'>A</span> to insert a new cell above this one."
   ]
  },
  {
   "cell_type": "markdown",
   "metadata": {
    "id": "_w4o0-kkXhqj"
   },
   "source": [
    "---"
   ]
  },
  {
   "cell_type": "markdown",
   "metadata": {
    "id": "f6NmWrgQXhqj"
   },
   "source": [
    "Then, press <span class='label label-default'>B</span> to insert a new cell below."
   ]
  },
  {
   "cell_type": "code",
   "execution_count": 10,
   "metadata": {
    "colab": {
     "base_uri": "https://localhost:8080/"
    },
    "id": "2mknr6qUZtxI",
    "outputId": "008f337b-29d8-41b0-ef2c-6fe7fad46f82"
   },
   "outputs": [
    {
     "name": "stdout",
     "output_type": "stream",
     "text": [
      "This is cell below using B\n"
     ]
    }
   ],
   "source": [
    "print(\"This is cell below using B\")"
   ]
  },
  {
   "cell_type": "markdown",
   "metadata": {
    "id": "Nj70a2eiXhqj"
   },
   "source": [
    "---"
   ]
  },
  {
   "cell_type": "markdown",
   "metadata": {
    "id": "rWi9f3BwXhqj"
   },
   "source": [
    "Copy the next cell with <span class='label label-default'>C</span> and then paste it with <span class='label label-default'>V</span>"
   ]
  },
  {
   "cell_type": "code",
   "execution_count": 7,
   "metadata": {
    "colab": {
     "base_uri": "https://localhost:8080/"
    },
    "id": "Z1nV7rYBXhqj",
    "outputId": "c3f4bac1-234c-421e-ab22-56936fc61541"
   },
   "outputs": [
    {
     "name": "stdout",
     "output_type": "stream",
     "text": [
      "copy me\n"
     ]
    }
   ],
   "source": [
    "print(\"copy me\")"
   ]
  },
  {
   "cell_type": "code",
   "execution_count": 7,
   "metadata": {
    "colab": {
     "base_uri": "https://localhost:8080/"
    },
    "id": "Z1nV7rYBXhqj",
    "outputId": "c3f4bac1-234c-421e-ab22-56936fc61541"
   },
   "outputs": [
    {
     "name": "stdout",
     "output_type": "stream",
     "text": [
      "copy me\n"
     ]
    }
   ],
   "source": [
    "print(\"copy me\")"
   ]
  },
  {
   "cell_type": "markdown",
   "metadata": {
    "id": "Xtnp8aE-Xhqj"
   },
   "source": [
    "Delete the cell below by selecting it and press <span class='label label-default'>D</span> <span class='label label-default'>D</span> (i.e., hit the <span class='label label-default'>D</span> button twice)"
   ]
  },
  {
   "cell_type": "markdown",
   "metadata": {
    "id": "XtB7FzntXhqj"
   },
   "source": [
    "Merge the following two cells by selecting the first one and then press <span class='label label-default'>Shift</span> + <span class='label label-default'>M</span>\n",
    "\n",
    "First select the cells to merge by pressing  <span class='label label-default'>Shift</span> + <span class='label label-default'>⬆</span> or <span class='label label-default'>⬇</span>"
   ]
  },
  {
   "cell_type": "code",
   "execution_count": 9,
   "metadata": {
    "ExecuteTime": {
     "end_time": "2021-09-10T12:33:13.348589Z",
     "start_time": "2021-09-10T12:33:13.338826Z"
    },
    "id": "6h9NtbYYXhqk",
    "outputId": "d1f92bb8-59d5-4157-a3d9-1ddc8318c1d8"
   },
   "outputs": [
    {
     "name": "stdout",
     "output_type": "stream",
     "text": [
      "click me and then merge me with the next cell\n",
      "merge me with the cell above\n"
     ]
    }
   ],
   "source": [
    "print(\"click me and then merge me with the next cell\")\n",
    "\n",
    "print(\"merge me with the cell above\")"
   ]
  },
  {
   "cell_type": "markdown",
   "metadata": {
    "id": "s_2mXBjCXhqk"
   },
   "source": [
    "Undo the previous option using span <span class='label label-default'>Esc</span> + <span class='label label-default'>Z</span>"
   ]
  },
  {
   "cell_type": "markdown",
   "metadata": {
    "id": "nArx4c0aXhqk"
   },
   "source": [
    "---"
   ]
  },
  {
   "cell_type": "markdown",
   "metadata": {
    "id": "o66jF9KHXhqk"
   },
   "source": [
    "Experiment with changing the following cells to **`code`** and **`markdown`** modes\n",
    "\n",
    "<span class='label label-default'>Y</span> change the cell type to *Code*\n",
    "\n",
    "<span class='label label-default'>M</span> change the cell type to *Markdown*"
   ]
  },
  {
   "cell_type": "markdown",
   "metadata": {
    "ExecuteTime": {
     "end_time": "2021-06-22T07:07:11.233323Z",
     "start_time": "2021-06-22T07:07:11.227467Z"
    },
    "id": "G74KTMLEXhqk",
    "outputId": "4ee002fc-fd34-4cec-c12b-22b75fb0a060"
   },
   "source": [
    "```\n",
    "print(\"I should be in Markdown mode. Type `M` to change me to markdown. Then type `shift` + `enter` to see the proper markup\")\n",
    "```"
   ]
  },
  {
   "cell_type": "markdown",
   "metadata": {
    "id": "nEwlN3x9Xhqk"
   },
   "source": [
    "print(\"I should be code. Select me and then type **<kbd>`Y`</kbd>** to change me to **`code`** mode\")"
   ]
  },
  {
   "cell_type": "markdown",
   "metadata": {
    "id": "GeU7XE0lXhqk"
   },
   "source": [
    "___\n",
    "Select the entire text in the next cell and press <span class='label label-default'>Ctrl</span> + <span class='label label-default'>/</span> to toggle comment lines"
   ]
  },
  {
   "cell_type": "code",
   "execution_count": null,
   "metadata": {
    "id": "IcN4rWmGXhqk"
   },
   "outputs": [],
   "source": [
    "# print(\"this\")\n",
    "# print(\"is\")\n",
    "# print(\"a big\")\n",
    "# print(\"block of\")\n",
    "# print(\"text to comment\")"
   ]
  },
  {
   "cell_type": "markdown",
   "metadata": {
    "id": "QyFshX5nXhqk"
   },
   "source": [
    "---\n",
    "\n",
    "Run the next cell to import numpy and then put your cursor next to the **`np.`** in the following cell. Then, press <span class='label label-default'>Tab</span> to see what code completions are available"
   ]
  },
  {
   "cell_type": "code",
   "execution_count": 1,
   "metadata": {
    "ExecuteTime": {
     "end_time": "2021-06-22T07:16:25.503428Z",
     "start_time": "2021-06-22T07:16:25.488785Z"
    },
    "id": "Vpgv3SZpXhqk"
   },
   "outputs": [],
   "source": [
    "import numpy as np"
   ]
  },
  {
   "cell_type": "code",
   "execution_count": null,
   "metadata": {
    "ExecuteTime": {
     "end_time": "2021-06-22T07:16:27.219251Z",
     "start_time": "2021-06-22T07:16:27.212416Z"
    },
    "id": "OhZrf72tXhqk"
   },
   "outputs": [],
   "source": [
    "np"
   ]
  },
  {
   "cell_type": "markdown",
   "metadata": {
    "id": "56_3TFZAXhqk"
   },
   "source": [
    "Use <span class='label label-default'>Ctrl</span> + <span class='label label-default'>Shift</span> + <span class='label label-default'>-</span> split the following cell between the two functions"
   ]
  },
  {
   "cell_type": "code",
   "execution_count": null,
   "metadata": {
    "id": "jHUPchRmXhql"
   },
   "outputs": [],
   "source": [
    "def func1():\n",
    "    print(\"I'm func1. Separate me from func2\")"
   ]
  },
  {
   "cell_type": "code",
   "execution_count": null,
   "metadata": {
    "id": "jHUPchRmXhql"
   },
   "outputs": [],
   "source": [
    "def func2():\n",
    "    print(\"I'm func2\")"
   ]
  },
  {
   "cell_type": "markdown",
   "metadata": {
    "id": "IAXre5zUXhql"
   },
   "source": [
    "#### Insert Image"
   ]
  },
  {
   "cell_type": "code",
   "execution_count": 20,
   "metadata": {
    "ExecuteTime": {
     "end_time": "2021-09-10T12:46:00.638175Z",
     "start_time": "2021-09-10T12:46:00.493648Z"
    },
    "id": "lserOQuGXhql",
    "scrolled": true
   },
   "outputs": [
    {
     "data": {
      "image/png": "[encoded data removed]",
      "text/plain": [
       "<IPython.core.display.Image object>"
      ]
     },
     "execution_count": 20,
     "metadata": {},
     "output_type": "execute_result"
    }
   ],
   "source": [
    "from IPython.display import Image\n",
    "Image(\"images/logo-python.png\")"
   ]
  },
  {
   "cell_type": "markdown",
   "metadata": {
    "id": "6eHusqQWXhqo"
   },
   "source": [
    "## Markdown\n",
    "\n",
    "For each sub-section: The first cell is code representation and next cell is the output representation in **`Markdown`**."
   ]
  },
  {
   "cell_type": "markdown",
   "metadata": {
    "id": "R1AksZmIXhqo"
   },
   "source": [
    "### Headers"
   ]
  },
  {
   "cell_type": "markdown",
   "metadata": {
    "ExecuteTime": {
     "end_time": "2021-06-23T17:40:38.007135Z",
     "start_time": "2021-06-23T17:40:37.994443Z"
    },
    "id": "vXGEGJZbXhqo"
   },
   "source": [
    "# Heading 1\n",
    "## Heading 2\n",
    "### Heading 3\n",
    "#### Heading 4\n",
    "##### Heading 5\n",
    "###### Heading 6\n",
    "\n",
    "Alternatively, for H1 and H2, an underline-ish style:\n",
    "\n",
    "Alt-H1\n",
    "======\n",
    "\n",
    "Alt-H2\n",
    "------"
   ]
  },
  {
   "cell_type": "markdown",
   "metadata": {
    "id": "vDBCECRoXhqp"
   },
   "source": [
    "# Heading 1    \n",
    "## Heading 2    \n",
    "### Heading 3\n",
    "#### Heading 4\n",
    "##### Heading 5\n",
    "###### Heading 6\n",
    "\n",
    "Alternatively, for H1 and H2, an underline-ish style:\n",
    "\n",
    "Alt-H1\n",
    "======\n",
    "\n",
    "Alt-H2\n",
    "------"
   ]
  },
  {
   "cell_type": "markdown",
   "metadata": {
    "id": "O9-ddZLRXhqp"
   },
   "source": [
    "### Emphasis"
   ]
  },
  {
   "cell_type": "markdown",
   "metadata": {
    "id": "5DmiOgdPXhqp"
   },
   "source": [
    "Emphasis, aka italics, with *asterisks* or _underscores_.\n",
    "\n",
    "Strong emphasis, aka bold, with **asterisks** or __underscores__.\n",
    "\n",
    "Combined emphasis with **asterisks and _underscores_**.\n",
    "\n",
    "Strikethrough uses two tildes. ~~Scratch this.~~"
   ]
  },
  {
   "cell_type": "markdown",
   "metadata": {
    "ExecuteTime": {
     "end_time": "2021-06-23T17:46:26.180871Z",
     "start_time": "2021-06-23T17:46:26.160853Z"
    },
    "id": "JI9tlbwoXhqp"
   },
   "source": [
    "Emphasis, aka italics, with *asterisks* or _underscores_.\n",
    "\n",
    "Strong emphasis, aka bold, with **asterisks** or __underscores__.\n",
    "\n",
    "Combined emphasis with **asterisks and _underscores_**.\n",
    "\n",
    "Strikethrough uses two tildes. ~~Scratch this.~~"
   ]
  },
  {
   "cell_type": "markdown",
   "metadata": {
    "id": "Ro-3fGueXhqp"
   },
   "source": [
    "### Colors"
   ]
  },
  {
   "cell_type": "code",
   "execution_count": 5,
   "metadata": {
    "id": "F8fdf46kXhqp"
   },
   "outputs": [
    {
     "ename": "SyntaxError",
     "evalue": "invalid syntax (3625796238.py, line 1)",
     "output_type": "error",
     "traceback": [
      "\u001b[1;36m  Cell \u001b[1;32mIn[5], line 1\u001b[1;36m\u001b[0m\n\u001b[1;33m    Use this code: <font color=blue|red|green|pink|yellow>Text</font> Not all markdown code works within a font tag, so review your colored text carefully!\u001b[0m\n\u001b[1;37m        ^\u001b[0m\n\u001b[1;31mSyntaxError\u001b[0m\u001b[1;31m:\u001b[0m invalid syntax\n"
     ]
    }
   ],
   "source": [
    "Use this code: <font color=blue|red|green|pink|yellow>Text</font> Not all markdown code works within a font tag, so review your colored text carefully!\n",
    "\n",
    "<font color=red>Front color is red</font>\n",
    "\n",
    "<font color=blue>Front color is blue</font>\n",
    "\n",
    "<font color=magenta>Front color is magenta</font>"
   ]
  },
  {
   "cell_type": "markdown",
   "metadata": {
    "id": "lgaPMI5IXhqp"
   },
   "source": [
    "Use this code: <font color=blue|red|green|pink|yellow>Text</font> Not all markdown code works within a font tag, so review your colored text carefully!\n",
    "\n",
    "<font color=red>Front color is red</font>\n",
    "\n",
    "<font color=blue>Front color is blue</font>\n",
    "\n",
    "<font color=magenta>Front color is magenta</font>"
   ]
  },
  {
   "cell_type": "markdown",
   "metadata": {
    "id": "M4VLpVOzXhqp"
   },
   "source": [
    "<a id=\"lists\"></a>\n",
    "### Lists"
   ]
  },
  {
   "cell_type": "raw",
   "metadata": {
    "ExecuteTime": {
     "end_time": "2021-10-17T12:13:04.455269Z",
     "start_time": "2021-10-17T12:13:04.429390Z"
    },
    "id": "Bzzxv1NZXhqp"
   },
   "source": [
    "1. First ordered list item\n",
    "2. Another item\n",
    "  * Unordered sub-list.\n",
    "1. Actual numbers don't matter, just that it's a number\n",
    "  1. Ordered sub-list\n",
    "4. And another item.\n",
    "\n",
    "   Some text that should be aligned with the above item.\n",
    "\n",
    "* Unordered list can use asterisks\n",
    "- Or minuses\n",
    "+ Or pluses\n",
    "\n",
    "\n",
    "1. Today's\n",
    "2. date is:\n",
    "    * Monday\n",
    "    * 16th January 1991\n",
    "         - hello! how are\n",
    "         - how are you?\n",
    "             - Hope doing well\n",
    "\n",
    "\n",
    " - [ ] Item A\n",
    " - [x] Item B\n",
    " - [x] Item C"
   ]
  },
  {
   "cell_type": "markdown",
   "metadata": {
    "id": "iH6gR2ZKXhqp"
   },
   "source": [
    "1. First ordered list item\n",
    "2. Another item\n",
    "  * Unordered sub-list.\n",
    "1. Actual numbers don't matter, just that it's a number\n",
    "  1. Ordered sub-list\n",
    "4. And another item.  \n",
    "   \n",
    "   Some text that should be aligned with the above item.\n",
    "\n",
    "* Unordered list can use asterisks\n",
    "- Or minuses\n",
    "+ Or pluses\n",
    "\n",
    "\n",
    "1. Today's\n",
    "2. date is:\n",
    "    * Monday\n",
    "    * 16th January 1991\n",
    "         - hello! how are\n",
    "         - how are you?\n",
    "             - Hope doing well  \n",
    "             \n",
    " - [ ] Item A\n",
    " - [x] Item B\n",
    " - [x] Item C"
   ]
  },
  {
   "cell_type": "markdown",
   "metadata": {
    "id": "TrbSHykEXhqp"
   },
   "source": [
    "<a class=\"anchor\" id=\"links\"></a>\n",
    "### Links\n",
    "\n",
    "#### Websites and References\n",
    "\n",
    "There are many ways to insert links and make references:"
   ]
  },
  {
   "cell_type": "raw",
   "metadata": {
    "id": "cpn-zafEXhqp"
   },
   "source": [
    "[Here is a Wikipedia page for Data Science](https://en.wikipedia.org/wiki/Data_science)\n",
    "\n",
    "[This is for Machine Learning](https://en.wikipedia.org/wiki/Machine_learning)\n",
    "\n",
    "[I'm a reference-style link][Python Official Documentation]\n",
    "\n",
    "[You can use numbers for reference-style link definitions][1]\n",
    "\n",
    "Or leave it empty and use the [link text itself]\n",
    "\n",
    "URLs and URLs in angle brackets will automatically get turned into links.\n",
    "https://www.datasciencecentral.com or <https://www.datasciencecentral.com> and sometimes\n",
    "datasciencecentral.com (but not on Github, for example).\n",
    "\n",
    "Some text to show that the reference links can follow later.\n",
    "\n",
    "[Python Official Documentation]: https://docs.python.org/3/\n",
    "[1]: https://www.kaggle.com\n",
    "[link text itself]: https://www.tensorflow.org"
   ]
  },
  {
   "cell_type": "markdown",
   "metadata": {
    "id": "iOAnRoJmXhqp"
   },
   "source": [
    "[Here is a Wikipedia page for Data Science](https://en.wikipedia.org/wiki/Data_science)\n",
    "\n",
    "[This is for Machine Learning](https://en.wikipedia.org/wiki/Machine_learning)\n",
    "\n",
    "[I'm a reference-style link][Python Official Documentation]\n",
    "\n",
    "[You can use numbers for reference-style link definitions][1]\n",
    "\n",
    "Or leave it empty and use the [link text itself]\n",
    "\n",
    "URLs and URLs in angle brackets will automatically get turned into links.\n",
    "https://www.datasciencecentral.com or <https://www.datasciencecentral.com> and sometimes\n",
    "datasciencecentral.com (but not on Github, for example).\n",
    "\n",
    "Some text to show that the reference links can follow later.\n",
    "\n",
    "[Python Official Documentation]: https://docs.python.org/3/\n",
    "[1]: https://www.kaggle.com\n",
    "[link text itself]: https://www.tensorflow.org"
   ]
  },
  {
   "cell_type": "markdown",
   "metadata": {
    "id": "mrYX6FsuXhqp"
   },
   "source": [
    "#### Internal links in Jupyter\n",
    "\n",
    "There are two ways to create links:"
   ]
  },
  {
   "cell_type": "raw",
   "metadata": {
    "id": "2lJ_mqWuXhqp"
   },
   "source": [
    "<ul>\n",
    "<li><a href=\"#lists\">Lists</a></li>\n",
    "</ul>\n",
    "\n",
    "[Links](#links)"
   ]
  },
  {
   "cell_type": "markdown",
   "metadata": {
    "id": "BvkWGLFbXhqp"
   },
   "source": [
    "<ul>\n",
    "<li><a href=\"#lists\">Lists</a></li>\n",
    "</ul>\n",
    "\n",
    "\n",
    "[Links](#links)"
   ]
  },
  {
   "cell_type": "markdown",
   "metadata": {
    "id": "SVWG6gAdXhqq"
   },
   "source": [
    "### Blockquotes"
   ]
  },
  {
   "cell_type": "raw",
   "metadata": {
    "id": "D9t82UULXhqq"
   },
   "source": [
    "> Blockquotes are very handy in email to emulate reply text.\n",
    "> This line is part of the same quote.\n",
    "    > This line is also part of the same quote.\n",
    ">> This line too.\n",
    "\n",
    "Quote break.\n",
    "\n",
    "> This is a very long line that will still be quoted properly when it wraps. Oh boy let's keep writing to make sure this is long enough to actually wrap for everyone. Oh, you can *put* **Markdown** into a blockquote."
   ]
  },
  {
   "cell_type": "markdown",
   "metadata": {
    "id": "LdxUmyADXhqq"
   },
   "source": [
    "> Blockquotes are very handy in email to emulate reply text.\n",
    "> This line is part of the same quote.\n",
    "    > This line is also part of the same quote.\n",
    ">> This line too.  \n",
    "\n",
    "Quote break.\n",
    "\n",
    "> This is a very long line that will still be quoted properly when it wraps. Oh boy let's keep writing to make sure this is long enough to actually wrap for everyone. Oh, you can *put* **Markdown** into a blockquote."
   ]
  },
  {
   "cell_type": "markdown",
   "metadata": {
    "id": "Sgv75-f3Xhqq"
   },
   "source": [
    "### Inline HTML\n",
    "\n",
    "You can also use raw HTML in your Markdown, and it'll mostly work pretty well."
   ]
  },
  {
   "cell_type": "raw",
   "metadata": {
    "id": "SGdP7-KtXhqq"
   },
   "source": [
    "<dl>\n",
    "  <dt>Definition list</dt>\n",
    "  <dd>Is something people use sometimes.</dd>\n",
    "\n",
    "  <dt>Markdown in HTML</dt>\n",
    "  <dd>Does *not* work **very** well. Use HTML <em>tags</em>.</dd>\n",
    "</dl>"
   ]
  },
  {
   "cell_type": "markdown",
   "metadata": {
    "id": "AwzjmfkeXhqr"
   },
   "source": [
    "<dl>\n",
    "  <dt>Definition list</dt>\n",
    "  <dd>Is something people use sometimes.</dd>\n",
    "\n",
    "  <dt>Markdown in HTML</dt>\n",
    "  <dd>Does *not* work **very** well. Use HTML <em>tags</em>.</dd>\n",
    "</dl>"
   ]
  },
  {
   "cell_type": "markdown",
   "metadata": {
    "id": "z2FLKOuAXhqr"
   },
   "source": [
    "### Horizontal Rule"
   ]
  },
  {
   "cell_type": "raw",
   "metadata": {
    "id": "Rm9GL3uFXhqs"
   },
   "source": [
    "Three or more...\n",
    "\n",
    "---\n",
    "\n",
    "Hyphens\n",
    "\n",
    "***\n",
    "\n",
    "Asterisks\n",
    "\n",
    "___\n",
    "\n",
    "Underscores"
   ]
  },
  {
   "cell_type": "markdown",
   "metadata": {
    "id": "9FJFLPJmXhqs"
   },
   "source": [
    "Three or more...\n",
    "\n",
    "---\n",
    "\n",
    "Hyphens\n",
    "\n",
    "***\n",
    "\n",
    "Asterisks\n",
    "\n",
    "___\n",
    "\n",
    "Underscores"
   ]
  },
  {
   "cell_type": "markdown",
   "metadata": {
    "id": "X7RkwrNwXhqs"
   },
   "source": [
    "### Line Breaks\n",
    "\n",
    "My basic recommendation for learning how line breaks work is to experiment and discover -- hit <Enter> once (i.e., insert one newline), then hit it twice (i.e., insert two newlines), see what happens. You'll soon learn to get what you want. \"Markdown Toggle\" is your friend.\n",
    "\n",
    "Here are some things to try out:"
   ]
  },
  {
   "cell_type": "raw",
   "metadata": {
    "id": "lpZFC8OXXhqs"
   },
   "source": [
    "Here's a line for us to start with.\n",
    "\n",
    "This line is separated from the one above by two newlines, so it will be a *separate paragraph*.\n",
    "\n",
    "This line is also a separate paragraph, but...\n",
    "This line is only separated by a single newline, so it's a separate line in the *same paragraph*."
   ]
  },
  {
   "cell_type": "markdown",
   "metadata": {
    "id": "qa1-aP6vXhqs"
   },
   "source": [
    "Here's a line for us to start with.\n",
    "\n",
    "This line is separated from the one above by two newlines, so it will be a *separate paragraph*.\n",
    "\n",
    "This line is also a separate paragraph, but...\n",
    "This line is only separated by a single newline, so it's a separate line in the *same paragraph*."
   ]
  },
  {
   "cell_type": "markdown",
   "metadata": {
    "id": "HbxH1wlKXhqs"
   },
   "source": [
    "### Code and Syntax Highlighting\n",
    "\n",
    "Code blocks are part of the Markdown spec, but syntax highlighting isn't. However, many renderers -- like Github's and Markdown Here -- support syntax highlighting. Markdown Here supports highlighting for dozens of languages (and not-really-languages, like diffs and HTTP headers)."
   ]
  },
  {
   "cell_type": "raw",
   "metadata": {
    "id": "NKW2ZBMqXhqs"
   },
   "source": [
    "Inline `code` has `back-ticks around` it."
   ]
  },
  {
   "cell_type": "markdown",
   "metadata": {
    "ExecuteTime": {
     "end_time": "2021-06-23T18:05:28.327090Z",
     "start_time": "2021-06-23T18:05:28.302680Z"
    },
    "id": "zWoQ8NzQXhqs"
   },
   "source": [
    "Inline `code` has `back-ticks around` it.  "
   ]
  },
  {
   "cell_type": "markdown",
   "metadata": {
    "ExecuteTime": {
     "end_time": "2021-06-23T18:06:28.937578Z",
     "start_time": "2021-06-23T18:06:28.927813Z"
    },
    "id": "q8DLErrPXhqs"
   },
   "source": [
    "Blocks of code are either fenced by lines with three back-ticks ```, or are indented with four spaces. I recommend only using the fenced code blocks -- they're easier and only they support syntax highlighting."
   ]
  },
  {
   "cell_type": "raw",
   "metadata": {
    "id": "bwgoRTLrXhqs"
   },
   "source": [
    "```javascript\n",
    "var s = \"JavaScript syntax highlighting\";\n",
    "alert(s);\n",
    "```\n",
    "\n",
    "```python\n",
    "s = \"Python syntax highlighting\"\n",
    "print s\n",
    "```\n",
    "\n",
    "```\n",
    "No language indicated, so no syntax highlighting.\n",
    "But let's throw in a <b>tag</b>.\n",
    "```"
   ]
  },
  {
   "cell_type": "markdown",
   "metadata": {
    "id": "YI0GxGN4Xhqs"
   },
   "source": [
    "```javascript\n",
    "var s = \"JavaScript syntax highlighting\";\n",
    "alert(s);\n",
    "```\n",
    "\n",
    "```python\n",
    "s = \"Python syntax highlighting\"\n",
    "print s\n",
    "```\n",
    "\n",
    "```\n",
    "No language indicated, so no syntax highlighting.\n",
    "But let's throw in a <b>tag</b>.\n",
    "```"
   ]
  },
  {
   "cell_type": "markdown",
   "metadata": {
    "id": "B-w1xGWwXhqs"
   },
   "source": [
    "### Tables\n",
    "\n",
    "Tables aren't part of the core Markdown spec, but they are part of GFM and Markdown Here supports them. They are an easy way of adding tables to your email -- a task that would otherwise require copy-pasting from another application."
   ]
  },
  {
   "cell_type": "markdown",
   "metadata": {
    "id": "2C4AqVasXhqs"
   },
   "source": [
    "Colons can be used to align columns.\n",
    "\n",
    "| Tables        | Are           | Cool  |\n",
    "|:------------- |:-------------:| ------:|\n",
    "| col 3 is      | right-aligned | \\$1900 |\n",
    "| col 2 is      | centered      |   \\$12 |\n",
    "| col 1 is      | left-aligned  |    \\$1 |\n",
    "\n",
    "The outer pipes **`|`** are optional, and you don't need to make the raw Markdown line up prettily. You can also use inline Markdown.\n",
    "\n",
    "Markdown | Less | Pretty\n",
    "--- | --- | ---\n",
    "*Still* | `renders` | **nicely**\n",
    "1 | 2 | 3"
   ]
  },
  {
   "cell_type": "raw",
   "metadata": {
    "id": "UodvCWfVXhqs"
   },
   "source": [
    "Colons can be used to align columns.\n",
    "\n",
    "| Tables        | Are           | Cool  |\n",
    "|:------------- |:-------------:| ------:|\n",
    "| col 3 is      | right-aligned | \\$1900 |\n",
    "| col 2 is      | centered      |   \\$12 |\n",
    "| col 1 is      | left-aligned  |    \\$1 |\n",
    "\n",
    "The outer pipes **`|`** are optional, and you don't need to make the raw Markdown line up prettily. You can also use inline Markdown.\n",
    "\n",
    "Markdown | Less | Pretty\n",
    "--- | --- | ---\n",
    "*Still* | `renders` | **nicely**\n",
    "1 | 2 | 3\n"
   ]
  },
  {
   "cell_type": "markdown",
   "metadata": {
    "id": "zAOId4_CXhqs"
   },
   "source": [
    "#### Table - rowspan\n",
    "\n",
    "<table>\n",
    "  <tr>\n",
    "    <th>column 1</th>\n",
    "    <th>column 2</th>\n",
    "    <th>column 3</th>\n",
    "  </tr>\n",
    "  <tr>\n",
    "    <td>row 1 - column 1</td>\n",
    "    <td>row 1 - column 2</td>\n",
    "    <td rowspan=\"2\" align=\"center\">row 1 & 2 - column 3</td>\n",
    "  </tr>\n",
    "  <tr>\n",
    "    <td>row 2 - column 1</td>\n",
    "    <td>row 2 - column 2</td>\n",
    "  </tr>\n",
    "</table>"
   ]
  },
  {
   "cell_type": "raw",
   "metadata": {
    "id": "ykvgKrjcXhqs"
   },
   "source": [
    "<table>\n",
    "  <tr>\n",
    "    <th>column 1</th>\n",
    "    <th>column 2</th>\n",
    "    <th>column 3</th>\n",
    "  </tr>\n",
    "  <tr>\n",
    "    <td>row 1 - column 1</td>\n",
    "    <td>row 1 - column 2</td>\n",
    "    <td rowspan=\"2\" align=\"center\">row 1 & 2 - column 3</td>\n",
    "  </tr>\n",
    "  <tr>\n",
    "    <td>row 2 - column 1</td>\n",
    "    <td>row 2 - column 2</td>\n",
    "  </tr>\n",
    "</table>"
   ]
  },
  {
   "cell_type": "markdown",
   "metadata": {
    "id": "Vq4jQmUzXhqt"
   },
   "source": [
    "#### Table - colspan\n",
    "\n",
    "<table>\n",
    "  <tr>\n",
    "    <th>column 1</th>\n",
    "    <th>column 2</th>\n",
    "    <th>column 3</th>\n",
    "  </tr>\n",
    "  <tr>\n",
    "    <td>row 1 - column 1</td>\n",
    "    <td colspan=\"2\" align=\"center\">row 1 - column 2 & 3</td>\n",
    "  </tr>\n",
    "  <tr>\n",
    "    <td>row 2 - column 1</td>\n",
    "    <td>row 2 - column 2</td>\n",
    "    <td>row 2 - column 3</td>\n",
    "  </tr>\n",
    "</table>"
   ]
  },
  {
   "cell_type": "raw",
   "metadata": {
    "id": "PteWCBM9Xhqu"
   },
   "source": [
    "<table>\n",
    "  <tr>\n",
    "    <th>column 1</th>\n",
    "    <th>column 2</th>\n",
    "    <th>column 3</th>\n",
    "  </tr>\n",
    "  <tr>\n",
    "    <td>row 1 - column 1</td>\n",
    "    <td colspan=\"2\" align=\"center\">row 1 - column 2 & 3</td>\n",
    "  </tr>\n",
    "  <tr>\n",
    "    <td>row 2 - column 1</td>\n",
    "    <td>row 2 - column 2</td>\n",
    "    <td>row 2 - column 3</td>\n",
    "  </tr>\n",
    "</table>"
   ]
  },
  {
   "cell_type": "markdown",
   "metadata": {
    "id": "dyuRe7eSXhqv"
   },
   "source": [
    "### Images"
   ]
  },
  {
   "cell_type": "markdown",
   "metadata": {
    "id": "1C-AKbL2Xhqv"
   },
   "source": [
    "####  Images - Representation\n",
    "\n",
    "![Title](img/jupyter.png \"description\")\n",
    "***Image:*** *description*\n",
    "    \n",
    "![myImage](https://media.giphy.com/media/XRB1uf2F9bGOA/giphy.gif \"description\")\n",
    "***Image:*** *description*\n",
    "\n",
    "<img src=\"https://media.giphy.com/media/XRB1uf2F9bGOA/giphy.gif\" width=200/>\n",
    "\n",
    "| <img src=\"https://media.giphy.com/media/XRB1uf2F9bGOA/giphy.gif\" width=\"200\"/> |\n",
    "|:--:|\n",
    "| **Hi-Five** |\n",
    "\n",
    "| ![space-1.jpg](http://www.storywarren.com/wp-content/uploads/2016/09/space-1.jpg) |\n",
    "|:--:|\n",
    "| *Space* |\n",
    "\n",
    "![Random Unsplash Image](https://source.unsplash.com/random)"
   ]
  },
  {
   "cell_type": "raw",
   "metadata": {
    "ExecuteTime": {
     "end_time": "2021-06-24T05:55:59.495410Z",
     "start_time": "2021-06-24T05:55:59.478807Z"
    },
    "id": "hbT14MViXhqv"
   },
   "source": [
    "![Title](img/jupyter.png \"description\")\n",
    "***Image:*** *description*\n",
    "\n",
    "![myImage](https://media.giphy.com/media/XRB1uf2F9bGOA/giphy.gif \"description\")\n",
    "***Image:*** *description*\n",
    "\n",
    "<img src=\"https://media.giphy.com/media/XRB1uf2F9bGOA/giphy.gif\" width=200/>\n",
    "\n",
    "| <img src=\"https://media.giphy.com/media/XRB1uf2F9bGOA/giphy.gif\" width=\"200\"/> |\n",
    "|:--:|\n",
    "| **Hi-Five** |\n",
    "\n",
    "| ![space-1.jpg](http://www.storywarren.com/wp-content/uploads/2016/09/space-1.jpg) |\n",
    "|:--:|\n",
    "| *Space* |\n",
    "\n",
    "![Random Unsplash Image](https://source.unsplash.com/random)"
   ]
  },
  {
   "cell_type": "markdown",
   "metadata": {
    "id": "ri-uyVwXXhqv"
   },
   "source": [
    "#### Image Align - Middle _(default)_\n",
    "\n",
    "Image align to Center. <img src=\"https://github.com/ai-technipreneurs/python_website/blob/master/labs/images/logo-python.png?raw=1\" width=\"42\" height=\"42\">.\n",
    "    "
   ]
  },
  {
   "cell_type": "markdown",
   "metadata": {
    "id": "IOSDBpalXhqv"
   },
   "source": [
    "#### Image Align - *Left*\n",
    "\n",
    "Image align to left<img src=\"https://github.com/ai-technipreneurs/python_website/blob/master/labs/images/logo-python.png?raw=1\" alt=\"left face\" align=\"left\" width=\"42\" height=\"42\">.\n"
   ]
  },
  {
   "cell_type": "markdown",
   "metadata": {
    "id": "ovrnHn-HXhqv"
   },
   "source": [
    "#### Image Align - *Right*\n",
    "\n",
    "<img src=\"https://github.com/ai-technipreneurs/python_website/blob/master/labs/images/logo-python.png?raw=1\" alt=\"right\" align=\"right\" width=\"42\" height=\"42\"> Image align to right."
   ]
  },
  {
   "cell_type": "markdown",
   "metadata": {
    "id": "xRWMR7FsXhqv"
   },
   "source": [
    "### YouTube Videos\n",
    "\n",
    "They can't be added directly but you can add an image with a link to the video like this:"
   ]
  },
  {
   "cell_type": "markdown",
   "metadata": {
    "id": "XchhCgAVXhqv"
   },
   "source": [
    "<a href=\"https://www.youtube.com/watch?v=kmzX719gQqU&t=88s\" target=\"_blank\"><img src=\"https://github.com/ai-technipreneurs/python_website/blob/master/labs/images/GFP_Rwanda_2023.png?raw=1\" alt=\"IMAGE ALT TEXT HERE\" width=\"240\" height=\"180\" border=\"10\" /></a>"
   ]
  },
  {
   "cell_type": "markdown",
   "metadata": {
    "id": "gRwjeeTQXhqv"
   },
   "source": [
    "Or, in pure Markdown, but losing the image sizing and border:"
   ]
  },
  {
   "cell_type": "markdown",
   "metadata": {
    "id": "q5hUGqwqXhqv"
   },
   "source": [
    "**Example:**"
   ]
  },
  {
   "cell_type": "markdown",
   "metadata": {
    "id": "VWF_TLOwXhqv"
   },
   "source": [
    "[![IMAGE ALT TEXT HERE](https://github.com/ai-technipreneurs/python_website/blob/master/labs/images/GFP_Rwanda_2023.png?raw=1)](https://www.youtube.com/watch?v=kmzX719gQqU&t=88s)"
   ]
  },
  {
   "cell_type": "markdown",
   "metadata": {
    "id": "lAw7TBAzXhqv"
   },
   "source": [
    "### TeX Mathematical Formulae in Jupyter Notebooks\n",
    "\n",
    "A full description of TeX math symbols is beyond the scope of this cheatsheet. Here's a [good reference](https://en.wikibooks.org/wiki/LaTeX/Mathematics), and you can try stuff out on [CodeCogs](https://www.codecogs.com/latex/eqneditor.php). You can also play with formula in the Markdown Here options page. Jupyter Notebooks support rendering LaTeX mathematical expressions using MathJax. You can include mathematical formulae in both inline and block formats.\n",
    "\n",
    "Here are some examples to try out:"
   ]
  },
  {
   "cell_type": "markdown",
   "metadata": {
    "id": "z13yO_b-Xhqv"
   },
   "source": [
    "## Inline Examples\n",
    "Inline formulae can be included within a line of text using single dollar signs `$ ... $`."
   ]
  },
  {
   "cell_type": "markdown",
   "metadata": {
    "id": "iCS6dcLKXhqv"
   },
   "source": [
    "### 1. Basic Arithmetic and Symbols\n",
    "The area of a circle is given by $A = \\pi r^2$."
   ]
  },
  {
   "cell_type": "markdown",
   "metadata": {
    "id": "Y6szdaQ8Xhqv"
   },
   "source": [
    "### 2. Fractions\n",
    "The formula for the average is $\\bar{x} = \\frac{\\sum_{i=1}^{n} x_i}{n}.$"
   ]
  },
  {
   "cell_type": "markdown",
   "metadata": {
    "id": "SWOFt7GZXhqv"
   },
   "source": [
    "### 3. Exponents and Subscripts\n",
    "The equation of motion is $s = ut + \\frac{1}{2}at^2$."
   ]
  },
  {
   "cell_type": "markdown",
   "metadata": {
    "id": "1I5KRiVrXhqv"
   },
   "source": [
    "### 4. Roots\n",
    "The square root of $a$ is written as $\\sqrt{a}$, and the cubic root is $\\sqrt[3]{a}$."
   ]
  },
  {
   "cell_type": "markdown",
   "metadata": {
    "id": "WOPVfX2VXhqv"
   },
   "source": [
    "### 5. Trigonometric Functions\n",
    "The identity $\\sin^2 \\theta + \\cos^2 \\theta = 1$ holds for all angles $\\theta$."
   ]
  },
  {
   "cell_type": "markdown",
   "metadata": {
    "id": "pZSqF6ipXhqw"
   },
   "source": [
    "## Block Examples\n",
    "Block formulae are displayed separately from the text using double dollar signs `$$ ... $$`."
   ]
  },
  {
   "cell_type": "markdown",
   "metadata": {
    "id": "MdPYwVDgXhqw"
   },
   "source": [
    "### 1. Quadratic Formula\n",
    "$$ ax^2 + bx + c = 0 $$\n",
    "The solutions are given by:\n",
    "$$ x = \\frac{-b \\pm \\sqrt{b^2 - 4ac}}{2a} $$"
   ]
  },
  {
   "cell_type": "markdown",
   "metadata": {
    "id": "9MYHEL_oXhqw"
   },
   "source": [
    "### 2. Sum and Product Notation\n",
    "Sum of the first $n$ natural numbers:\n",
    "$$ \\sum_{i=1}^{n} i = \\frac{n(n + 1)}{2} $$\n",
    "Product of the first $n$ natural numbers:\n",
    "$$ n! = \\prod_{i=1}^{n} i $$"
   ]
  },
  {
   "cell_type": "markdown",
   "metadata": {
    "id": "2HUk64MkXhqw"
   },
   "source": [
    "### 3. Integral and Derivative\n",
    "The definite integral of a function $f(x)$ from $a$ to $b$ is:\n",
    "$$ \\int_{a}^{b} f(x) \\, dx $$\n",
    "The derivative of $f(x)$ with respect to $x$ is:\n",
    "$$ \\frac{d}{dx}f(x) $$"
   ]
  },
  {
   "cell_type": "markdown",
   "metadata": {
    "id": "XtWQM_h4Xhqw"
   },
   "source": [
    "### 4. Matrix Representation\n",
    "A $2 \\times 2$ matrix:\n",
    "$$ \\begin{pmatrix}\n",
    "a & b \\\\\n",
    "c & d\n",
    "\\end{pmatrix} $$"
   ]
  },
  {
   "cell_type": "markdown",
   "metadata": {
    "id": "CGHQzMguXhqw"
   },
   "source": [
    "### 5. Vectors and Dot Product\n",
    "A vector in three-dimensional space:\n",
    "$$ \\vec{v} = \\begin{pmatrix} v_1 \\\\ v_2 \\\\ v_3 \\end{pmatrix} $$\n",
    "The dot product of $\\vec{a}$ and $\\vec{b}$:\n",
    "$$ \\vec{a} \\cdot \\vec{b} = a_1b_1 + a_2b_2 + a_3b_3 $$"
   ]
  },
  {
   "cell_type": "markdown",
   "metadata": {
    "id": "UWPQFFCiXhqw"
   },
   "source": [
    "### 6. Probability and Statistics\n",
    "The probability of an event $E$ is given by:\n",
    "$$ P(E) = \\frac{\\text{Number of favorable outcomes}}{\\text{Total number of outcomes}} $$"
   ]
  },
  {
   "cell_type": "markdown",
   "metadata": {
    "id": "OsYA8AiHXhqw"
   },
   "source": [
    "The expected value $E(X)$ of a random variable $X$ is:\n",
    "$$ E(X) = \\sum_{i} x_i P(x_i) $$"
   ]
  },
  {
   "cell_type": "markdown",
   "metadata": {
    "id": "xTTx6RopXhqw"
   },
   "source": [
    "$$ E(X) = \\sum_{i} x_i P(x_i) $$"
   ]
  },
  {
   "cell_type": "markdown",
   "metadata": {
    "id": "fa1VLUOKXhqw"
   },
   "source": [
    "### 7. Differential Equations\n",
    "The general solution of a first-order linear differential equation:\n",
    "$$ \\frac{dy}{dx} + P(x)y = Q(x) $$\n",
    "is given by:\n",
    "$$ y = e^{-\\int P(x) \\, dx} \\left( \\int Q(x) e^{\\int P(x) \\, dx} \\, dx + C \\right) $$"
   ]
  },
  {
   "cell_type": "markdown",
   "metadata": {
    "id": "xAZka6TYXhqw"
   },
   "source": [
    "### 8. Limits\n",
    "The limit of $f(x)$ as $x$ approaches $a$ is:\n",
    "$$ \\lim_{x \\to a} f(x) $$"
   ]
  },
  {
   "cell_type": "code",
   "execution_count": null,
   "metadata": {
    "id": "9Xw4RgHRXhqw",
    "outputId": "0fd3457a-59ca-4091-d390-48a66f5c5fff"
   },
   "outputs": [
    {
     "ename": "SyntaxError",
     "evalue": "invalid syntax (709205074.py, line 1)",
     "output_type": "error",
     "traceback": [
      "\u001b[0;36m  Cell \u001b[0;32mIn [4], line 1\u001b[0;36m\u001b[0m\n\u001b[0;31m    <img src=\"https://latex.codecogs.com/svg.latex?\\Large&space;x=\\frac{-b\\pm\\sqrt{b^2-4ac}}{2a}\" title=\"\\Large x=\\frac{-b\\pm\\sqrt{b^2-4ac}}{2a}\" />\u001b[0m\n\u001b[0m    ^\u001b[0m\n\u001b[0;31mSyntaxError\u001b[0m\u001b[0;31m:\u001b[0m invalid syntax\n"
     ]
    }
   ],
   "source": [
    "<img src=\"https://latex.codecogs.com/svg.latex?\\Large&space;x=\\frac{-b\\pm\\sqrt{b^2-4ac}}{2a}\" title=\"\\Large x=\\frac{-b\\pm\\sqrt{b^2-4ac}}{2a}\" />"
   ]
  },
  {
   "cell_type": "markdown",
   "metadata": {
    "id": "561SjceTXhqw"
   },
   "source": [
    "<img src=\"https://latex.codecogs.com/svg.latex?\\Large&space;x=\\frac{-b\\pm\\sqrt{b^2-4ac}}{2a}\" title=\"\\Large x=\\frac{-b\\pm\\sqrt{b^2-4ac}}{2a}\" />"
   ]
  },
  {
   "cell_type": "code",
   "execution_count": null,
   "metadata": {
    "id": "dtW6oqJrXhqw",
    "outputId": "6c614993-11e0-4636-be52-a2ad9f9ee68b"
   },
   "outputs": [
    {
     "name": "stdout",
     "output_type": "stream",
     "text": [
      "/bin/bash: -c: line 1: syntax error near unexpected token `('\r\n",
      "/bin/bash: -c: line 1: `[\\Large x=\\frac{-b\\pm\\sqrt{b^2-4ac}}{2a}](https://latex.codecogs.com/svg.latex?\\Large&space;x=\\frac{-b\\pm\\sqrt{b^2-4ac}}{2a})'\r\n"
     ]
    }
   ],
   "source": [
    "![\\Large x=\\frac{-b\\pm\\sqrt{b^2-4ac}}{2a}](https://latex.codecogs.com/svg.latex?\\Large&space;x=\\frac{-b\\pm\\sqrt{b^2-4ac}}{2a})"
   ]
  },
  {
   "cell_type": "markdown",
   "metadata": {
    "id": "MdW7kxaAXhqw"
   },
   "source": [
    "![\\Large x=\\frac{-b\\pm\\sqrt{b^2-4ac}}{2a}](https://latex.codecogs.com/svg.latex?\\Large&space;x=\\frac{-b\\pm\\sqrt{b^2-4ac}}{2a})\n"
   ]
  },
  {
   "cell_type": "code",
   "execution_count": null,
   "metadata": {
    "id": "1XR_x7t8Xhqw",
    "outputId": "2f25675f-3851-4ef0-97a3-a94052a12ea6"
   },
   "outputs": [
    {
     "name": "stdout",
     "output_type": "stream",
     "text": [
      "/bin/bash: -c: line 1: syntax error near unexpected token `('\r\n",
      "/bin/bash: -c: line 1: `[\\Large x=a_0+\\frac{1}{a_1+\\frac{1}{a_2+\\frac{1}{a_3+a_4}}}](https://latex.codecogs.com/svg.latex?\\Large&space;x=a_0+\\frac{1}{a_1+\\frac{1}{a_2+\\frac{1}{a_3+a_4}}})'\r\n"
     ]
    }
   ],
   "source": [
    "![\\Large x=a_0+\\frac{1}{a_1+\\frac{1}{a_2+\\frac{1}{a_3+a_4}}}](https://latex.codecogs.com/svg.latex?\\Large&space;x=a_0+\\frac{1}{a_1+\\frac{1}{a_2+\\frac{1}{a_3+a_4}}})"
   ]
  },
  {
   "cell_type": "markdown",
   "metadata": {
    "id": "AS7j1TlMXhqx"
   },
   "source": [
    "![\\Large x=a_0+\\frac{1}{a_1+\\frac{1}{a_2+\\frac{1}{a_3+a_4}}}](https://latex.codecogs.com/svg.latex?\\Large&space;x=a_0+\\frac{1}{a_1+\\frac{1}{a_2+\\frac{1}{a_3+a_4}}})"
   ]
  },
  {
   "cell_type": "code",
   "execution_count": null,
   "metadata": {
    "id": "HtapxzglXhqx",
    "outputId": "6fa9148f-5014-41fe-bf2d-01080e3cb577"
   },
   "outputs": [
    {
     "name": "stdout",
     "output_type": "stream",
     "text": [
      "/bin/bash: -c: line 1: syntax error near unexpected token `('\r\n",
      "/bin/bash: -c: line 1: `[\\Large \\forall x \\in X, \\quad \\exists y \\leq \\epsilon](https://latex.codecogs.com/svg.latex?\\Large&space;\\forall{x}\\in{X},\\quad\\exists{y}\\leq\\epsilon)'\r\n"
     ]
    }
   ],
   "source": [
    "![\\Large \\forall x \\in X, \\quad \\exists y \\leq \\epsilon](https://latex.codecogs.com/svg.latex?\\Large&space;\\forall{x}\\in{X},\\quad\\exists{y}\\leq\\epsilon)"
   ]
  },
  {
   "cell_type": "markdown",
   "metadata": {
    "id": "NqfDj9ZGXhqx"
   },
   "source": [
    "![\\Large \\forall x \\in X, \\quad \\exists y \\leq \\epsilon](https://latex.codecogs.com/svg.latex?\\Large&space;\\forall{x}\\in{X},\\quad\\exists{y}\\leq\\epsilon)"
   ]
  },
  {
   "cell_type": "markdown",
   "metadata": {
    "id": "PcGUYtA_Xhqx"
   },
   "source": [
    "Here is a simple script to convert the equation into html: https://jsfiddle.net/8ndx694g/. You can explore it."
   ]
  }
 ],
 "metadata": {
  "colab": {
   "provenance": []
  },
  "hide_input": false,
  "kernelspec": {
   "display_name": "Python 3 (ipykernel)",
   "language": "python",
   "name": "python3"
  },
  "language_info": {
   "codemirror_mode": {
    "name": "ipython",
    "version": 3
   },
   "file_extension": ".py",
   "mimetype": "text/x-python",
   "name": "python",
   "nbconvert_exporter": "python",
   "pygments_lexer": "ipython3",
   "version": "3.12.4"
  },
  "toc": {
   "base_numbering": 1,
   "nav_menu": {},
   "number_sections": true,
   "sideBar": true,
   "skip_h1_title": false,
   "title_cell": "Table of Contents",
   "title_sidebar": "Contents",
   "toc_cell": false,
   "toc_position": {},
   "toc_section_display": true,
   "toc_window_display": false
  },
  "varInspector": {
   "cols": {
    "lenName": 16,
    "lenType": 16,
    "lenVar": 40
   },
   "kernels_config": {
    "python": {
     "delete_cmd_postfix": "",
     "delete_cmd_prefix": "del ",
     "library": "var_list.py",
     "varRefreshCmd": "print(var_dic_list())"
    },
    "r": {
     "delete_cmd_postfix": ") ",
     "delete_cmd_prefix": "rm(",
     "library": "var_list.r",
     "varRefreshCmd": "cat(var_dic_list()) "
    }
   },
   "types_to_exclude": [
    "module",
    "function",
    "builtin_function_or_method",
    "instance",
    "_Feature"
   ],
   "window_display": false
  }
 },
 "nbformat": 4,
 "nbformat_minor": 4
}
