{
 "cells": [
  {
   "cell_type": "code",
   "execution_count": 1,
   "id": "fee115a9-1dc1-48ae-aed8-43b4755df56d",
   "metadata": {},
   "outputs": [],
   "source": [
    "# Challenge 1 Create a function find_max() that accepts two numeric inputs and returns the greater value. Avoid using the built-in max() function."
   ]
  },
  {
   "cell_type": "code",
   "execution_count": 5,
   "id": "6bffe74d-5c99-451b-b8e7-76aad69c8d3c",
   "metadata": {},
   "outputs": [
    {
     "name": "stdin",
     "output_type": "stream",
     "text": [
      "Enter first value :  3\n",
      "Enter second value :  4\n"
     ]
    },
    {
     "name": "stdout",
     "output_type": "stream",
     "text": [
      "The greater value is  4.0\n"
     ]
    }
   ],
   "source": [
    "def find_max(a,b):\n",
    "    \"\"\"This function provide the greater value between two input numeric value\"\"\"\n",
    "    if(a>b):\n",
    "        print(\"The greater value is \", a)\n",
    "    else:\n",
    "        print(\"The greater value is \", b)\n",
    "arg1=float(input(\"Enter first value : \"))\n",
    "arg2=float(input(\"Enter second value : \"))\n",
    "find_max(arg1,arg2)\n"
   ]
  },
  {
   "cell_type": "code",
   "execution_count": 6,
   "id": "b691c109-d1f7-4bfb-b7b0-3595caab2065",
   "metadata": {},
   "outputs": [
    {
     "name": "stdout",
     "output_type": "stream",
     "text": [
      "This function provide the greater value between two numeric value\n"
     ]
    }
   ],
   "source": [
    "print(find_max.__doc__)"
   ]
  },
  {
   "cell_type": "code",
   "execution_count": null,
   "id": "cf22c0bf-21ba-4668-8cce-9a650a07c677",
   "metadata": {},
   "outputs": [],
   "source": [
    "# Challenge 2 Develop a function find_max_of_three() to find the maximum among three given numbers."
   ]
  },
  {
   "cell_type": "code",
   "execution_count": 7,
   "id": "dbfbf2ae-014d-4c01-be8d-c89837b86250",
   "metadata": {},
   "outputs": [
    {
     "name": "stdin",
     "output_type": "stream",
     "text": [
      "Enter first value :  3\n",
      "Enter second value :  2\n",
      "Enter third value :  8\n"
     ]
    },
    {
     "name": "stdout",
     "output_type": "stream",
     "text": [
      "maximum is :  8.0\n"
     ]
    }
   ],
   "source": [
    "def find_max_of_three(a,b,c):\n",
    "    \"\"\"This function provide the maximum number among three input values\"\"\"\n",
    "    if(a>b and a>c):\n",
    "        print(\"maximum is : \", a)\n",
    "    elif(b>a and b>c):\n",
    "        print(\"maximum is : \", b)\n",
    "    else:\n",
    "        print(\"maximum is : \", c)\n",
    "num1=float(input(\"Enter first value : \"))\n",
    "num2=float(input(\"Enter second value : \"))\n",
    "num3=float(input(\"Enter third value : \"))\n",
    "find_max_of_three(num1,num2,num3)\n"
   ]
  },
  {
   "cell_type": "code",
   "execution_count": 8,
   "id": "379c0c6a-6b3c-49e5-a7c3-aa0158a65acc",
   "metadata": {},
   "outputs": [
    {
     "name": "stdout",
     "output_type": "stream",
     "text": [
      "This function provide the maximum number among three values\n"
     ]
    }
   ],
   "source": [
    "print(find_max_of_three.__doc__)"
   ]
  },
  {
   "cell_type": "code",
   "execution_count": null,
   "id": "e1167799-fabf-42fa-8a41-08792d9dda82",
   "metadata": {},
   "outputs": [],
   "source": [
    "# Challenge 3 Write a function to manually calculate the length of a given list or string without using len()."
   ]
  },
  {
   "cell_type": "code",
   "execution_count": 119,
   "id": "e9818e4d-6763-469d-84f9-4c2c43f923a4",
   "metadata": {},
   "outputs": [
    {
     "name": "stdin",
     "output_type": "stream",
     "text": [
      "Enter string or list but for list separate list item by comma (,) :  1\n"
     ]
    },
    {
     "name": "stdout",
     "output_type": "stream",
     "text": [
      "The length is :  1\n"
     ]
    }
   ],
   "source": [
    "def length_display(lst):\n",
    "    \"\"\"This function takes list or string from user and return the length without len() but for list must be separated by comma\"\"\"\n",
    "    total=0\n",
    "    if(',' in lst):\n",
    "        lst=lst.split(\",\")\n",
    "        for i in lst:\n",
    "           total=total+1\n",
    "    else:\n",
    "        for i in lst:\n",
    "            total=total+1\n",
    "    print(\"The length is : \", total)\n",
    "get_input=input(\"Enter string or list but for list separate list item by comma (,) : \")\n",
    "if (len(get_input)==0):\n",
    "    get_input=get_input+(\",\")\n",
    "length_display(get_input)"
   ]
  },
  {
   "cell_type": "code",
   "execution_count": 37,
   "id": "4403a89f-c0b5-4d95-8678-a501558bc239",
   "metadata": {},
   "outputs": [
    {
     "name": "stdout",
     "output_type": "stream",
     "text": [
      "This function takes list or string from user and return the length without len() but for list must be separated by comma\n"
     ]
    }
   ],
   "source": [
    "print(length_display.__doc__)"
   ]
  },
  {
   "cell_type": "code",
   "execution_count": null,
   "id": "391a801a-0f26-4bc3-b9bb-30503ffeab3e",
   "metadata": {},
   "outputs": [],
   "source": [
    "#Challenge 4 Implement a function that checks if a given character is a vowel (a, e, i, o, u)."
   ]
  },
  {
   "cell_type": "code",
   "execution_count": 42,
   "id": "d64bec7d-1286-4d2b-a22a-68927e29a4c8",
   "metadata": {},
   "outputs": [
    {
     "name": "stdin",
     "output_type": "stream",
     "text": [
      "Enter a single character :  e\n"
     ]
    },
    {
     "name": "stdout",
     "output_type": "stream",
     "text": [
      "e is a vowel \n"
     ]
    }
   ],
   "source": [
    "def check_vowel(leter):\n",
    "    \"\"\" This function checks if a given character is a vowel and print is vowel or not \"\"\"\n",
    "    if (len(leter))>1:\n",
    "        print(\"Provide one character!\")\n",
    "    else:\n",
    "        my_vowels=[\"a\",\"e\",\"i\",\"o\",\"u\"]\n",
    "        if leter.lower() in my_vowels:\n",
    "            print(leter.lower(), \"is a vowel \")\n",
    "        else:\n",
    "            print(leter.lower(), \"is not a vowel \")\n",
    "get_letter=input(\"Enter a single character : \")\n",
    "check_vowel(get_letter)"
   ]
  },
  {
   "cell_type": "code",
   "execution_count": 43,
   "id": "84c4e302-075c-4dba-8698-8f69e4cc9832",
   "metadata": {},
   "outputs": [
    {
     "name": "stdout",
     "output_type": "stream",
     "text": [
      " This function checks if a given character is a vowel and print is vowel or not \n"
     ]
    }
   ],
   "source": [
    "print(check_vowel.__doc__)"
   ]
  },
  {
   "cell_type": "markdown",
   "id": "42df885d-2977-43ea-8065-5ff70159a657",
   "metadata": {},
   "source": [
    "Challenge 5 Write a function encode() that converts a string into “rövarspråket” (robber’s language)\n",
    "by doubling consonants and\n",
    "placing “o” in between, e.g., “hello” -> “hohelollolo”."
   ]
  },
  {
   "cell_type": "code",
   "execution_count": 132,
   "id": "5cf6c545-79df-4210-9024-c6a03f61c526",
   "metadata": {},
   "outputs": [
    {
     "name": "stdin",
     "output_type": "stream",
     "text": [
      "Enter a string :  adrien\n"
     ]
    },
    {
     "name": "stdout",
     "output_type": "stream",
     "text": [
      "Here is result :  adodrorienon\n"
     ]
    }
   ],
   "source": [
    "def encode(input_string):\n",
    "    \"\"\"THis function takes a string and convert into rövarspråket by doubling consonants and placing “o” in between\"\"\"\n",
    "    my_doubled=\"\"\n",
    "    vowels = [\"a\",\"i\",\"e\",\"u\",\"o\",\"A\",\"I\",\"E\",\"U\",\"O\"]\n",
    "    for my_str in input_string:\n",
    "        if my_str.isalpha() and my_str not in vowels:\n",
    "            my_doubled += my_str + \"o\" + my_str.lower()\n",
    "        else:\n",
    "            my_doubled += my_str\n",
    "    \n",
    "    print(\"Here is result : \", my_doubled) \n",
    "get_strng=input(\"Enter a string : \")\n",
    "encode(get_strng)\n",
    "\n",
    "    "
   ]
  },
  {
   "cell_type": "code",
   "execution_count": 56,
   "id": "b3bfa641-01d3-4b56-b9d9-33a3d11190be",
   "metadata": {},
   "outputs": [
    {
     "name": "stdout",
     "output_type": "stream",
     "text": [
      "THis function takes a string and convert into rövarspråket by doubling consonants and placing “o” in between\n"
     ]
    }
   ],
   "source": [
    "print(encode.__doc__)"
   ]
  },
  {
   "cell_type": "markdown",
   "id": "907d66d2-c018-4457-8321-c297b7ebe7ac",
   "metadata": {},
   "source": [
    "Challenge 6 Create sum_elements() and product_elements() functions to sum and multiply all elements in a list, respectively."
   ]
  },
  {
   "cell_type": "code",
   "execution_count": 128,
   "id": "583a152e-ce7c-420d-be4d-9c24860ca357",
   "metadata": {},
   "outputs": [
    {
     "name": "stdin",
     "output_type": "stream",
     "text": [
      "provide list separate item by comma (,) :  3\n"
     ]
    },
    {
     "name": "stdout",
     "output_type": "stream",
     "text": [
      "The sum is  3\n",
      "The product is :  3\n"
     ]
    }
   ],
   "source": [
    "\n",
    "def functions():\n",
    "    \"\"\"These two functions sum_elements() and product_elements() take a list provided by user and separated by comma,\n",
    "    sum and multiply all elements in a list print \n",
    "    and return sum and product respectively\"\"\"\n",
    "def sum_elements(my_ls):\n",
    "    sum=0\n",
    "    my_ls=my_ls.split(\",\")\n",
    "    for nums in my_ls:\n",
    "        sum=sum+float(nums)\n",
    "    print(\"The sum is : \",sum)\n",
    "def product_elements(my_lsp):\n",
    "    prod=1\n",
    "    my_lsp=my_lsp.split(\",\")\n",
    "    for nump in my_lsp:\n",
    "        prod=prod*float(nump)\n",
    "    print(\"The product is : \",prod)\n",
    "my_data=input(\"provide list separate item by comma (,) : \")\n",
    "\n",
    "if(',' in my_data):\n",
    "    sum_elements(my_data)\n",
    "    product_elements(my_data)\n",
    "else:\n",
    "    if(len(my_data)==1):\n",
    "        print(\"The sum is \",my_data)\n",
    "        print(\"The product is : \",my_data)\n",
    "    else:\n",
    "       print(\"Invalid input provide items and separate them by comma \")    "
   ]
  },
  {
   "cell_type": "code",
   "execution_count": 69,
   "id": "731d86dd-feac-4a08-a35f-d0d14bd3ccea",
   "metadata": {},
   "outputs": [
    {
     "name": "stdout",
     "output_type": "stream",
     "text": [
      "These two functions sum_elements() and product_elements() take a list provided by user and separated by comma,\n",
      "    sum and multiply all elements in a list print \n",
      "    and return sum and product respectively\n"
     ]
    }
   ],
   "source": [
    "print(functions.__doc__)"
   ]
  },
  {
   "cell_type": "markdown",
   "id": "a5f29c40-cb23-4c6b-943e-ea5711f122a6",
   "metadata": {},
   "source": [
    "Challenge 7 Define a function reverse_string() to reverse the characters in a given string."
   ]
  },
  {
   "cell_type": "code",
   "execution_count": 74,
   "id": "e665b95d-3e56-4697-affb-e914f3bfc235",
   "metadata": {},
   "outputs": [
    {
     "name": "stdin",
     "output_type": "stream",
     "text": [
      "input the string :  adrien\n"
     ]
    },
    {
     "name": "stdout",
     "output_type": "stream",
     "text": [
      "The reversed characters are:  neirda\n"
     ]
    }
   ],
   "source": [
    "def reverse_string(given_str):\n",
    "    \"This function take a given string and print the reverse of the characters of that string\"\n",
    "    print(\"The reversed characters are: \",given_str[::-1])\n",
    "get_str=input(\"input the string : \")\n",
    "reverse_string(get_str)"
   ]
  },
  {
   "cell_type": "code",
   "execution_count": 75,
   "id": "0603087f-f832-4d74-a76f-9bc31ec31e8f",
   "metadata": {},
   "outputs": [
    {
     "name": "stdout",
     "output_type": "stream",
     "text": [
      "This function take a given string and print the reverse of the characters of that string\n"
     ]
    }
   ],
   "source": [
    "print(reverse_string.__doc__)"
   ]
  },
  {
   "cell_type": "markdown",
   "id": "8b9ff262-82d6-4bc3-a42e-caab2ce1ae58",
   "metadata": {},
   "source": [
    "Challenge 8 Implement check_palindrome() to verify if a string reads the same forwards and backwards, i.e. is a palindrome."
   ]
  },
  {
   "cell_type": "code",
   "execution_count": 79,
   "id": "46c864f1-93bc-4627-a383-ca5b5a5cf39b",
   "metadata": {},
   "outputs": [
    {
     "name": "stdin",
     "output_type": "stream",
     "text": [
      "Provide the string to check if is palindrome or not :  level\n"
     ]
    },
    {
     "name": "stdout",
     "output_type": "stream",
     "text": [
      "forward is :  level\n",
      "backwards is :  level\n",
      "level  is a palindrome\n"
     ]
    }
   ],
   "source": [
    "def check_palindrome(palstr):\n",
    "    \"\"\" This function reverse the given string and check if is the same as the origin string it means string reads the same forwards and backwards\n",
    "    and print that string is palindrome if not print is not palindrome\"\"\"\n",
    "    back_ward=palstr[::-1]\n",
    "    if(back_ward==palstr):\n",
    "        print(\"forward is : \", palstr)\n",
    "        print(\"backwards is : \",back_ward)\n",
    "        print(palstr,\" is a palindrome\")\n",
    "    else:\n",
    "        print(palstr,\" is not palindrome\")\n",
    "get_st=input(\"Provide the string to check if is palindrome or not : \")\n",
    "check_palindrome(get_st)\n"
   ]
  },
  {
   "cell_type": "code",
   "execution_count": 80,
   "id": "fa324986-9b4c-41a7-8ca0-adf5b19e501b",
   "metadata": {},
   "outputs": [
    {
     "name": "stdout",
     "output_type": "stream",
     "text": [
      " This function reverse the given string and check if is the same as the origin string it means string reads the same forwards and backwards\n",
      "    and print that string is palindrome if not print is not palindrome\n"
     ]
    }
   ],
   "source": [
    "print(check_palindrome.__doc__)"
   ]
  },
  {
   "cell_type": "markdown",
   "id": "379ecead-2c08-4697-ab3f-acc9db5f301b",
   "metadata": {},
   "source": [
    "Challenge 9 Develop a function check_membership() to determine if a value exists within a list."
   ]
  },
  {
   "cell_type": "code",
   "execution_count": 88,
   "id": "27733251-6a2b-4817-81c6-d05d1ce99799",
   "metadata": {},
   "outputs": [
    {
     "name": "stdin",
     "output_type": "stream",
     "text": [
      "Provide items list  separated by comma (,) :  A,B,L,6,8,T\n",
      "enter value to chech if exist within that list :  6\n"
     ]
    },
    {
     "name": "stdout",
     "output_type": "stream",
     "text": [
      "6 is a member of  ['A', 'B', 'L', '6', '8', 'T']\n"
     ]
    }
   ],
   "source": [
    "def check_membership(n,memb_lst):\n",
    "    \"\"\" This function take list and a value and check if that value is a member of that list where list is provided by separating item using comma\"\"\"\n",
    "    memb_lst=memb_lst.split(\",\")\n",
    "    if(n in memb_lst):\n",
    "        print(n ,\"is a member of \",memb_lst)\n",
    "    else:\n",
    "         print(n ,\"is not a member of \",memb_lst)\n",
    "get_memb_list=input(\"Provide items list  separated by comma (,) : \")\n",
    "if (',' in get_memb_list):\n",
    "    get_m_check=input(\"enter value to chech if exist within that list : \")\n",
    "    check_membership(get_m_check,get_memb_list)\n",
    "else:\n",
    "    print(\"Invalid input, provide items list and separate them by comma (,)\")"
   ]
  },
  {
   "cell_type": "code",
   "execution_count": 89,
   "id": "9146a826-2833-45bd-b753-5c3dcb83998a",
   "metadata": {},
   "outputs": [
    {
     "name": "stdout",
     "output_type": "stream",
     "text": [
      " This function take list and a value and check if that value is a member of that list where list is provided by separating item using comma\n"
     ]
    }
   ],
   "source": [
    "print(check_membership.__doc__)"
   ]
  },
  {
   "cell_type": "markdown",
   "id": "872031f4-69c2-43a2-8202-495fb5c0599d",
   "metadata": {},
   "source": [
    "Challenge 10 Write check_overlap() to identify if two lists share any elements."
   ]
  },
  {
   "cell_type": "code",
   "execution_count": 121,
   "id": "e750adf2-0ff6-4360-98fb-a8a0ccb3778e",
   "metadata": {},
   "outputs": [
    {
     "name": "stdout",
     "output_type": "stream",
     "text": [
      "\n",
      " provide two list and items list are separated by comma (,)\n",
      "\n"
     ]
    },
    {
     "name": "stdin",
     "output_type": "stream",
     "text": [
      "First list :  1,2\n",
      "Second list :  1\n"
     ]
    },
    {
     "name": "stdout",
     "output_type": "stream",
     "text": [
      "Two list share element(s) :  ['1']\n"
     ]
    }
   ],
   "source": [
    "def check_overlap(f_list,s_list):\n",
    "    \"\"\" this function take two lists and check the common elements among the lists and print them and split the elements by comma\"\"\"\n",
    "    f_list=f_list.split(\",\")\n",
    "    s_list=s_list.split(\",\")\n",
    "    th_list=[value for value in f_list if value in s_list]\n",
    "    if(len(th_list)==0):\n",
    "        print(\"There is no common elements\")\n",
    "    else:\n",
    "        print(\"Two list share element(s) : \",th_list)\n",
    "print(\"\\n provide two list and items list are separated by comma (,)\\n\")\n",
    "f_list=input(\"First list : \")\n",
    "s_list=input(\"Second list : \")\n",
    "if(len(f_list)==1):\n",
    "    f_list=f_list+(\",\")\n",
    "if(len(s_list)==1):\n",
    "   s_list= s_list+(\",\")\n",
    "if(',' in f_list and ',' in s_list):\n",
    "    check_overlap(f_list,s_list)\n",
    "else:\n",
    "    print(\"Invalid input in lists check and provide items list separated by comma (,)\")\n",
    "  \n",
    "    "
   ]
  },
  {
   "cell_type": "code",
   "execution_count": 122,
   "id": "488eb49d-bf43-4f44-baa4-aabb44f9cb92",
   "metadata": {},
   "outputs": [
    {
     "name": "stdout",
     "output_type": "stream",
     "text": [
      " this function take two lists and check the common elements among the lists and print them and split the elements by comma\n"
     ]
    }
   ],
   "source": [
    "print(check_overlap.__doc__)"
   ]
  },
  {
   "cell_type": "markdown",
   "id": "f46302bd-4533-463a-ac7f-b54d97f57de1",
   "metadata": {},
   "source": [
    "challenge 11 Implement repeat_char() that generates a string with a specified character repeated n times."
   ]
  },
  {
   "cell_type": "code",
   "execution_count": 10,
   "id": "afc22f38-f8da-447b-b2f7-8c5de24d9cfa",
   "metadata": {},
   "outputs": [
    {
     "name": "stdin",
     "output_type": "stream",
     "text": [
      "Enter single character :  C\n",
      "how many times :  3\n"
     ]
    },
    {
     "name": "stdout",
     "output_type": "stream",
     "text": [
      "CCC\n"
     ]
    }
   ],
   "source": [
    "def repeat_char(charct, number):\n",
    "    \"\"\"this function take a single character and number of times and return string containing number times of that string if user provide \n",
    "    character k and 4 the output will be kkkk \"\"\"\n",
    "    result=charct*number\n",
    "    return result\n",
    "while True:\n",
    "    try:\n",
    "        get_char=input(\"Enter single character : \")\n",
    "        if(len(get_char)==1):\n",
    "           get_num=int(input(\"how many times : \"))\n",
    "           if(get_num>=1):\n",
    "               print(repeat_char(get_char,get_num))\n",
    "               break\n",
    "    except ValueError:\n",
    "        print(\"Enter single character or check if time(s) is positive integer value \")\n",
    "    "
   ]
  },
  {
   "cell_type": "code",
   "execution_count": 11,
   "id": "85641113-93da-4f6f-8f6d-f72035a0243f",
   "metadata": {},
   "outputs": [
    {
     "name": "stdout",
     "output_type": "stream",
     "text": [
      "this function take a single character and number of times and return string containing number times of that string if user provide \n",
      "    character k and 4 the output will be kkkk \n"
     ]
    }
   ],
   "source": [
    "print(repeat_char.__doc__)"
   ]
  },
  {
   "cell_type": "markdown",
   "id": "e266bc3a-f102-491c-887e-fefc587e3432",
   "metadata": {},
   "source": [
    "challenge 12 Create a function print_histogram() that takes a list of integers and prints a corresponding histogram."
   ]
  },
  {
   "cell_type": "code",
   "execution_count": 12,
   "id": "916ff0d5-9e74-4591-915a-41a61012ccce",
   "metadata": {
    "scrolled": true
   },
   "outputs": [
    {
     "name": "stdin",
     "output_type": "stream",
     "text": [
      "Enter list containing integers  by separate item(s) using comma (,) :  1,2,3,4,5\n"
     ]
    },
    {
     "name": "stdout",
     "output_type": "stream",
     "text": [
      "*\n",
      "**\n",
      "***\n",
      "****\n",
      "*****\n"
     ]
    }
   ],
   "source": [
    "def print_histogram(lst_values):  \n",
    "    \"\"\"Print a histogram of given list the histogram in function is a series of asterisks (*)\"\"\"  \n",
    "    lst_values=lst_values.split(\",\")\n",
    "    for value in lst_values:\n",
    "            print('*' * int(value))  \n",
    "\n",
    "while True:\n",
    "    try:\n",
    "        user_lists=input(\"Enter list containing integers  by separate item(s) using comma (,) : \")\n",
    "        if(',' in user_lists):\n",
    "            print_histogram(user_lists)\n",
    "            break\n",
    "        if(len(user_lists)==1):\n",
    "            user_list3=user_lists+(',')\n",
    "            print_histogram(user_list3)\n",
    "            break\n",
    "    except ValueError:\n",
    "        print(\"separate value with comma and use integers\")\n",
    "        \n",
    "        "
   ]
  },
  {
   "cell_type": "markdown",
   "id": "d4a30e10-e40e-4972-880d-7a3ae514d325",
   "metadata": {},
   "source": [
    "Challenge 13 Write find_max_in_list() to identify the largest number in a list of arbitrary length."
   ]
  },
  {
   "cell_type": "code",
   "execution_count": 18,
   "id": "308a654c-111f-446e-84ba-341943c1c224",
   "metadata": {},
   "outputs": [
    {
     "name": "stdin",
     "output_type": "stream",
     "text": [
      "Enter the list by separating items using comma (,) :  5,7,8,9,4\n"
     ]
    },
    {
     "name": "stdout",
     "output_type": "stream",
     "text": [
      "The largest number is :  9.0\n"
     ]
    }
   ],
   "source": [
    "def find_max_in_list(my_lit):\n",
    "    ls3 = my_lit.split(\",\")  \n",
    "    mz = max(float(num) for num in ls3)   \n",
    "    print(\"The largest number is : \",mz)\n",
    "while True:\n",
    "    try:\n",
    "        get_user_lst=input(\"Enter the list by separating items using comma (,) : \")\n",
    "        if(',' in get_user_lst):\n",
    "            find_max_in_list(get_user_lst)\n",
    "            break\n",
    "        if(len(get_user_lst)==1):\n",
    "            print(\"The largest number is : \",get_user_lst)\n",
    "            break\n",
    "    except ValueError:\n",
    "        print(\"provide number and separate items using comma (,)\")\n"
   ]
  },
  {
   "cell_type": "code",
   "execution_count": 7,
   "id": "8a6b2e76-7045-4eba-966a-bd08a2e2cdf8",
   "metadata": {},
   "outputs": [
    {
     "name": "stdout",
     "output_type": "stream",
     "text": [
      "Hello, Nishimirwe!\n",
      "12\n"
     ]
    }
   ],
   "source": [
    "import myprogram\n",
    "print(myprogram.greet(\"Nishimirwe\"))  \n",
    "print(myprogram.add(5, 7))     "
   ]
  },
  {
   "cell_type": "code",
   "execution_count": 8,
   "id": "224e4d0b-84fd-4977-9b6a-5e366e432f35",
   "metadata": {},
   "outputs": [],
   "source": [
    "from monpackage import mesfonctions"
   ]
  },
  {
   "cell_type": "code",
   "execution_count": 9,
   "id": "412ea03e-896a-4897-91b1-c03be8d9262e",
   "metadata": {},
   "outputs": [
    {
     "data": {
      "text/plain": [
       "True"
      ]
     },
     "execution_count": 9,
     "metadata": {},
     "output_type": "execute_result"
    }
   ],
   "source": [
    "mesfonctions.additionner(23,89) == 112  # Returns True"
   ]
  },
  {
   "cell_type": "code",
   "execution_count": 10,
   "id": "3f4a8bb5-f886-4b18-95fe-af14ff0a5242",
   "metadata": {},
   "outputs": [],
   "source": [
    "from monpackage import mesattributs"
   ]
  },
  {
   "cell_type": "code",
   "execution_count": 11,
   "id": "b673eae9-9b66-459c-9456-2ef5cf94f707",
   "metadata": {},
   "outputs": [
    {
     "data": {
      "text/plain": [
       "True"
      ]
     },
     "execution_count": 11,
     "metadata": {},
     "output_type": "execute_result"
    }
   ],
   "source": [
    "mesattributs.x == 100 # Returns True"
   ]
  },
  {
   "cell_type": "markdown",
   "id": "f0a18878-3864-43fe-9f85-f30c6a5e7ee5",
   "metadata": {},
   "source": [
    "Challenge 13 Write find_max_in_list() to identify the largest number in a list of arbitrary length."
   ]
  },
  {
   "cell_type": "code",
   "execution_count": 19,
   "id": "0cee947f-742b-4e17-9c75-bb3e0625b45b",
   "metadata": {},
   "outputs": [
    {
     "name": "stdout",
     "output_type": "stream",
     "text": [
      "The largest number in the list is: 45\n"
     ]
    }
   ],
   "source": [
    "def find_max_in_list(numbers):\n",
    "    \"\"\"This function identify the largest number in a list of arbitrary length.\"\"\"\n",
    "    # Ensure the list is not empty\n",
    "    if not numbers:\n",
    "        return \"Error: The list is empty.\"\n",
    "    max_value = numbers[0]\n",
    "    for number in numbers:\n",
    "        if number > max_value:\n",
    "            max_value = number\n",
    "    \n",
    "    return max_value\n",
    "sample_list = [3, 19, 8, 23, 45, 6, 12]\n",
    "largest_number = find_max_in_list(sample_list)\n",
    "print(f\"The largest number in the list is: {largest_number}\")\n",
    "\n"
   ]
  },
  {
   "cell_type": "code",
   "execution_count": 20,
   "id": "a9394bcd-fffa-490c-a105-9af394632331",
   "metadata": {},
   "outputs": [
    {
     "name": "stdout",
     "output_type": "stream",
     "text": [
      "This function identify the largest number in a list of arbitrary length.\n"
     ]
    }
   ],
   "source": [
    "print(find_max_in_list.__doc__)"
   ]
  },
  {
   "cell_type": "markdown",
   "id": "8a7f8672-3295-4869-8298-592355c54f94",
   "metadata": {},
   "source": [
    "Challenge 14 Create a program that maps each word in a list to its length."
   ]
  },
  {
   "cell_type": "code",
   "execution_count": 22,
   "id": "3c28eb8c-43c8-48fa-819a-2d2f6bd1f947",
   "metadata": {},
   "outputs": [
    {
     "name": "stdout",
     "output_type": "stream",
     "text": [
      "Word to Length Mapping: {'Benz': 4, 'Toyata': 6, 'BMW': 3, 'Suzuki': 6, 'Infinity': 8}\n"
     ]
    }
   ],
   "source": [
    "def map_words_to_length(word_list):\n",
    "    \"\"\"This function maps each word in a list to its corresponding length using the map function.\"\"\"\n",
    "    lengths = map(len, word_list)\n",
    "    word_length_map = dict(zip(word_list, lengths))\n",
    "    return word_length_map\n",
    "words = [\"Benz\", \"Toyata\", \"BMW\", \"Suzuki\", \"Infinity\"]\n",
    "lengths_map = map_words_to_length(words)\n",
    "print(\"Word to Length Mapping:\", lengths_map)\n",
    "\n"
   ]
  },
  {
   "cell_type": "code",
   "execution_count": 23,
   "id": "6949d1a1-28e4-4e87-9edf-78d5a866f16f",
   "metadata": {},
   "outputs": [
    {
     "name": "stdout",
     "output_type": "stream",
     "text": [
      "This function maps each word in a list to its corresponding length using the map function.\n"
     ]
    }
   ],
   "source": [
    "print(map_words_to_length.__doc__)"
   ]
  },
  {
   "cell_type": "markdown",
   "id": "98290c14-b234-4c27-83c4-4930e63fa2bc",
   "metadata": {},
   "source": [
    "Challenge 14 Implement longest_word() to find the longest word in a list."
   ]
  },
  {
   "cell_type": "code",
   "execution_count": 28,
   "id": "c1a056e1-e30d-4b58-a86e-8d9c84f4eaa7",
   "metadata": {},
   "outputs": [
    {
     "name": "stdout",
     "output_type": "stream",
     "text": [
      "The longest word is: Infinity\n"
     ]
    }
   ],
   "source": [
    "def find_longest_word(word_list):\n",
    "    \"\"\"This function finds the longest word in a list.\"\"\"\n",
    "    if not word_list:\n",
    "        return None  \n",
    "    longest = max(word_list, key=len)\n",
    "    \n",
    "    return longest\n",
    "words = [\"Benz\", \"Toyata\", \"BMW\", \"Suzuki\", \"Infinity\"]\n",
    "longest = find_longest_word(words)\n",
    "print(f\"The longest word is: {longest}\")\n"
   ]
  },
  {
   "cell_type": "code",
   "execution_count": 29,
   "id": "9da54e60-bff3-4f25-82b1-a32cc62dac78",
   "metadata": {},
   "outputs": [
    {
     "name": "stdout",
     "output_type": "stream",
     "text": [
      "This function finds the longest word in a list.\n"
     ]
    }
   ],
   "source": [
    "print(find_longest_word.__doc__)"
   ]
  },
  {
   "cell_type": "markdown",
   "id": "18a580fe-18e5-4110-9f61-6d41ae6e84e5",
   "metadata": {},
   "source": [
    "Challenge 15 Develop filter_words() to return words longer than a specified length from a list."
   ]
  },
  {
   "cell_type": "code",
   "execution_count": 31,
   "id": "2a414a51-ff93-40b4-8c23-b29f11b78490",
   "metadata": {},
   "outputs": [
    {
     "name": "stdout",
     "output_type": "stream",
     "text": [
      "Words longer than 5 characters: ['Toyota', 'Suzuki', 'Infinity']\n"
     ]
    }
   ],
   "source": [
    "def get_longer_word(word_list, length):\n",
    "    \"\"\"This function filters words longer than a specified length from a list.\"\"\"\n",
    "    filtered_words = [word for word in word_list if len(word) > length]\n",
    "    \n",
    "    return filtered_words\n",
    "my_list= [\"Benz\", \"Toyota\", \"BMW\", \"Suzuki\", \"Infinity\"]\n",
    "length = 5\n",
    "longer_words = get_longer_word(my_list, length)\n",
    "print(f\"Words longer than {length} characters: {longer_words}\")\n"
   ]
  },
  {
   "cell_type": "code",
   "execution_count": 32,
   "id": "718a5eae-6b93-4272-88a2-a025413a85cc",
   "metadata": {},
   "outputs": [
    {
     "name": "stdout",
     "output_type": "stream",
     "text": [
      "This function filters words longer than a specified length from a list.\n"
     ]
    }
   ],
   "source": [
    "print(get_longer_word.__doc__)"
   ]
  },
  {
   "cell_type": "markdown",
   "id": "23312c49-5238-4a6d-97ce-4c0fb3d6967e",
   "metadata": {},
   "source": [
    "Challenge 17 Enhance the palindrome recognizer to handle phrases, ignoring spaces, punctuation, and case."
   ]
  },
  {
   "cell_type": "code",
   "execution_count": 35,
   "id": "a617485e-8e52-4a93-97d8-c1b194928375",
   "metadata": {},
   "outputs": [
    {
     "name": "stdout",
     "output_type": "stream",
     "text": [
      "'A man, a plan, a canal, Panama!' is a palindrome: True\n",
      "'Was it a car or a cat I saw?' is a palindrome: True\n",
      "'No lemon, no melon' is a palindrome: True\n",
      "'Hello, World!' is a palindrome: False\n",
      "'m3m3m' is a palindrome: True\n"
     ]
    }
   ],
   "source": [
    "import re\n",
    "\n",
    "def palindrome(phrase):\n",
    "    \"\"\" This function to check if a given phrase is a palindrome, ignoring spaces, punctuation, and case.\"\"\"\n",
    "    correct_phrase = re.sub(r'[^a-zA-Z0-9]', '', phrase.lower())\n",
    "    return correct_phrase == correct_phrase[::-1]\n",
    "test_phrases = [\n",
    "    \"A man, a plan, a canal, Panama!\",\n",
    "    \"Was it a car or a cat I saw?\",\n",
    "    \"No lemon, no melon\",\n",
    "    \"Hello, World!\"\n",
    "]\n",
    "\n",
    "for phrase in test_phrases:\n",
    "    result = palindrome(phrase)\n",
    "    print(f\"'{phrase}' is a palindrome: {result}\")\n"
   ]
  },
  {
   "cell_type": "code",
   "execution_count": 36,
   "id": "bcbc3bf6-c84b-4570-ae2f-953b2a132c65",
   "metadata": {},
   "outputs": [
    {
     "name": "stdout",
     "output_type": "stream",
     "text": [
      " This function to check if a given phrase is a palindrome, ignoring spaces, punctuation, and case.\n"
     ]
    }
   ],
   "source": [
    "print(palindrome.__doc__)"
   ]
  },
  {
   "cell_type": "markdown",
   "id": "00ec886b-9942-4eff-acbe-a1c87e11f61a",
   "metadata": {},
   "source": [
    "Challenge 18 Implement a function that checks if a given sentence is a pangram."
   ]
  },
  {
   "cell_type": "code",
   "execution_count": 40,
   "id": "296148fa-c857-4873-9556-038f2d0fa46f",
   "metadata": {},
   "outputs": [
    {
     "name": "stdout",
     "output_type": "stream",
     "text": [
      "The sentence is a pangram.\n"
     ]
    }
   ],
   "source": [
    "def pangram(sentence):\n",
    "    \"\"\"Check if the given sentence is a pangram it check if given string contain all alphabets.\"\"\"\n",
    "    sentence = sentence.lower()\n",
    "    alphabet_set = set('abcdefghijklmnopqrstuvwxyz')\n",
    "    sentence_set = set(sentence)\n",
    "    return alphabet_set.issubset(sentence_set)\n",
    "test_sentence = \"The quick brown fox jumps over the lazy dog\"\n",
    "if pangram(test_sentence):\n",
    "    print(\"The sentence is a pangram.\")\n",
    "else:\n",
    "    print(\"The sentence is not a pangram.\")\n",
    "\n"
   ]
  },
  {
   "cell_type": "code",
   "execution_count": 41,
   "id": "0c581521-a300-4d00-9110-8034c437f5ba",
   "metadata": {},
   "outputs": [
    {
     "name": "stdout",
     "output_type": "stream",
     "text": [
      "Check if the given sentence is a pangram it check if given string contain all alphabets.\n"
     ]
    }
   ],
   "source": [
    "print(pangram.__doc__)"
   ]
  },
  {
   "cell_type": "markdown",
   "id": "fd749c80-7b9c-472e-9abd-5527d68d99c0",
   "metadata": {},
   "source": [
    "Challenge 19 Write a function that generates verses for the “99 Bottles of Beer” song."
   ]
  },
  {
   "cell_type": "code",
   "execution_count": 45,
   "id": "e9759c10-cef5-46b2-bf33-bea5616e71a1",
   "metadata": {
    "scrolled": true
   },
   "outputs": [
    {
     "name": "stdout",
     "output_type": "stream",
     "text": [
      "99 bottles of beer on the wall, 99 bottles of beer.\n",
      "Take one down, pass it around, 98 bottles of beer on the wall.\n",
      "\n",
      "98 bottles of beer on the wall, 98 bottles of beer.\n",
      "Take one down, pass it around, 97 bottles of beer on the wall.\n",
      "\n",
      "97 bottles of beer on the wall, 97 bottles of beer.\n",
      "Take one down, pass it around, 96 bottles of beer on the wall.\n",
      "\n",
      "96 bottles of beer on the wall, 96 bottles of beer.\n",
      "Take one down, pass it around, 95 bottles of beer on the wall.\n",
      "\n",
      "95 bottles of beer on the wall, 95 bottles of beer.\n",
      "Take one down, pass it around, 94 bottles of beer on the wall.\n",
      "\n",
      "94 bottles of beer on the wall, 94 bottles of beer.\n",
      "Take one down, pass it around, 93 bottles of beer on the wall.\n",
      "\n",
      "93 bottles of beer on the wall, 93 bottles of beer.\n",
      "Take one down, pass it around, 92 bottles of beer on the wall.\n",
      "\n",
      "92 bottles of beer on the wall, 92 bottles of beer.\n",
      "Take one down, pass it around, 91 bottles of beer on the wall.\n",
      "\n",
      "91 bottles of beer on the wall, 91 bottles of beer.\n",
      "Take one down, pass it around, 90 bottles of beer on the wall.\n",
      "\n",
      "90 bottles of beer on the wall, 90 bottles of beer.\n",
      "Take one down, pass it around, 89 bottles of beer on the wall.\n",
      "\n",
      "89 bottles of beer on the wall, 89 bottles of beer.\n",
      "Take one down, pass it around, 88 bottles of beer on the wall.\n",
      "\n",
      "88 bottles of beer on the wall, 88 bottles of beer.\n",
      "Take one down, pass it around, 87 bottles of beer on the wall.\n",
      "\n",
      "87 bottles of beer on the wall, 87 bottles of beer.\n",
      "Take one down, pass it around, 86 bottles of beer on the wall.\n",
      "\n",
      "86 bottles of beer on the wall, 86 bottles of beer.\n",
      "Take one down, pass it around, 85 bottles of beer on the wall.\n",
      "\n",
      "85 bottles of beer on the wall, 85 bottles of beer.\n",
      "Take one down, pass it around, 84 bottles of beer on the wall.\n",
      "\n",
      "84 bottles of beer on the wall, 84 bottles of beer.\n",
      "Take one down, pass it around, 83 bottles of beer on the wall.\n",
      "\n",
      "83 bottles of beer on the wall, 83 bottles of beer.\n",
      "Take one down, pass it around, 82 bottles of beer on the wall.\n",
      "\n",
      "82 bottles of beer on the wall, 82 bottles of beer.\n",
      "Take one down, pass it around, 81 bottles of beer on the wall.\n",
      "\n",
      "81 bottles of beer on the wall, 81 bottles of beer.\n",
      "Take one down, pass it around, 80 bottles of beer on the wall.\n",
      "\n",
      "80 bottles of beer on the wall, 80 bottles of beer.\n",
      "Take one down, pass it around, 79 bottles of beer on the wall.\n",
      "\n",
      "79 bottles of beer on the wall, 79 bottles of beer.\n",
      "Take one down, pass it around, 78 bottles of beer on the wall.\n",
      "\n",
      "78 bottles of beer on the wall, 78 bottles of beer.\n",
      "Take one down, pass it around, 77 bottles of beer on the wall.\n",
      "\n",
      "77 bottles of beer on the wall, 77 bottles of beer.\n",
      "Take one down, pass it around, 76 bottles of beer on the wall.\n",
      "\n",
      "76 bottles of beer on the wall, 76 bottles of beer.\n",
      "Take one down, pass it around, 75 bottles of beer on the wall.\n",
      "\n",
      "75 bottles of beer on the wall, 75 bottles of beer.\n",
      "Take one down, pass it around, 74 bottles of beer on the wall.\n",
      "\n",
      "74 bottles of beer on the wall, 74 bottles of beer.\n",
      "Take one down, pass it around, 73 bottles of beer on the wall.\n",
      "\n",
      "73 bottles of beer on the wall, 73 bottles of beer.\n",
      "Take one down, pass it around, 72 bottles of beer on the wall.\n",
      "\n",
      "72 bottles of beer on the wall, 72 bottles of beer.\n",
      "Take one down, pass it around, 71 bottles of beer on the wall.\n",
      "\n",
      "71 bottles of beer on the wall, 71 bottles of beer.\n",
      "Take one down, pass it around, 70 bottles of beer on the wall.\n",
      "\n",
      "70 bottles of beer on the wall, 70 bottles of beer.\n",
      "Take one down, pass it around, 69 bottles of beer on the wall.\n",
      "\n",
      "69 bottles of beer on the wall, 69 bottles of beer.\n",
      "Take one down, pass it around, 68 bottles of beer on the wall.\n",
      "\n",
      "68 bottles of beer on the wall, 68 bottles of beer.\n",
      "Take one down, pass it around, 67 bottles of beer on the wall.\n",
      "\n",
      "67 bottles of beer on the wall, 67 bottles of beer.\n",
      "Take one down, pass it around, 66 bottles of beer on the wall.\n",
      "\n",
      "66 bottles of beer on the wall, 66 bottles of beer.\n",
      "Take one down, pass it around, 65 bottles of beer on the wall.\n",
      "\n",
      "65 bottles of beer on the wall, 65 bottles of beer.\n",
      "Take one down, pass it around, 64 bottles of beer on the wall.\n",
      "\n",
      "64 bottles of beer on the wall, 64 bottles of beer.\n",
      "Take one down, pass it around, 63 bottles of beer on the wall.\n",
      "\n",
      "63 bottles of beer on the wall, 63 bottles of beer.\n",
      "Take one down, pass it around, 62 bottles of beer on the wall.\n",
      "\n",
      "62 bottles of beer on the wall, 62 bottles of beer.\n",
      "Take one down, pass it around, 61 bottles of beer on the wall.\n",
      "\n",
      "61 bottles of beer on the wall, 61 bottles of beer.\n",
      "Take one down, pass it around, 60 bottles of beer on the wall.\n",
      "\n",
      "60 bottles of beer on the wall, 60 bottles of beer.\n",
      "Take one down, pass it around, 59 bottles of beer on the wall.\n",
      "\n",
      "59 bottles of beer on the wall, 59 bottles of beer.\n",
      "Take one down, pass it around, 58 bottles of beer on the wall.\n",
      "\n",
      "58 bottles of beer on the wall, 58 bottles of beer.\n",
      "Take one down, pass it around, 57 bottles of beer on the wall.\n",
      "\n",
      "57 bottles of beer on the wall, 57 bottles of beer.\n",
      "Take one down, pass it around, 56 bottles of beer on the wall.\n",
      "\n",
      "56 bottles of beer on the wall, 56 bottles of beer.\n",
      "Take one down, pass it around, 55 bottles of beer on the wall.\n",
      "\n",
      "55 bottles of beer on the wall, 55 bottles of beer.\n",
      "Take one down, pass it around, 54 bottles of beer on the wall.\n",
      "\n",
      "54 bottles of beer on the wall, 54 bottles of beer.\n",
      "Take one down, pass it around, 53 bottles of beer on the wall.\n",
      "\n",
      "53 bottles of beer on the wall, 53 bottles of beer.\n",
      "Take one down, pass it around, 52 bottles of beer on the wall.\n",
      "\n",
      "52 bottles of beer on the wall, 52 bottles of beer.\n",
      "Take one down, pass it around, 51 bottles of beer on the wall.\n",
      "\n",
      "51 bottles of beer on the wall, 51 bottles of beer.\n",
      "Take one down, pass it around, 50 bottles of beer on the wall.\n",
      "\n",
      "50 bottles of beer on the wall, 50 bottles of beer.\n",
      "Take one down, pass it around, 49 bottles of beer on the wall.\n",
      "\n",
      "49 bottles of beer on the wall, 49 bottles of beer.\n",
      "Take one down, pass it around, 48 bottles of beer on the wall.\n",
      "\n",
      "48 bottles of beer on the wall, 48 bottles of beer.\n",
      "Take one down, pass it around, 47 bottles of beer on the wall.\n",
      "\n",
      "47 bottles of beer on the wall, 47 bottles of beer.\n",
      "Take one down, pass it around, 46 bottles of beer on the wall.\n",
      "\n",
      "46 bottles of beer on the wall, 46 bottles of beer.\n",
      "Take one down, pass it around, 45 bottles of beer on the wall.\n",
      "\n",
      "45 bottles of beer on the wall, 45 bottles of beer.\n",
      "Take one down, pass it around, 44 bottles of beer on the wall.\n",
      "\n",
      "44 bottles of beer on the wall, 44 bottles of beer.\n",
      "Take one down, pass it around, 43 bottles of beer on the wall.\n",
      "\n",
      "43 bottles of beer on the wall, 43 bottles of beer.\n",
      "Take one down, pass it around, 42 bottles of beer on the wall.\n",
      "\n",
      "42 bottles of beer on the wall, 42 bottles of beer.\n",
      "Take one down, pass it around, 41 bottles of beer on the wall.\n",
      "\n",
      "41 bottles of beer on the wall, 41 bottles of beer.\n",
      "Take one down, pass it around, 40 bottles of beer on the wall.\n",
      "\n",
      "40 bottles of beer on the wall, 40 bottles of beer.\n",
      "Take one down, pass it around, 39 bottles of beer on the wall.\n",
      "\n",
      "39 bottles of beer on the wall, 39 bottles of beer.\n",
      "Take one down, pass it around, 38 bottles of beer on the wall.\n",
      "\n",
      "38 bottles of beer on the wall, 38 bottles of beer.\n",
      "Take one down, pass it around, 37 bottles of beer on the wall.\n",
      "\n",
      "37 bottles of beer on the wall, 37 bottles of beer.\n",
      "Take one down, pass it around, 36 bottles of beer on the wall.\n",
      "\n",
      "36 bottles of beer on the wall, 36 bottles of beer.\n",
      "Take one down, pass it around, 35 bottles of beer on the wall.\n",
      "\n",
      "35 bottles of beer on the wall, 35 bottles of beer.\n",
      "Take one down, pass it around, 34 bottles of beer on the wall.\n",
      "\n",
      "34 bottles of beer on the wall, 34 bottles of beer.\n",
      "Take one down, pass it around, 33 bottles of beer on the wall.\n",
      "\n",
      "33 bottles of beer on the wall, 33 bottles of beer.\n",
      "Take one down, pass it around, 32 bottles of beer on the wall.\n",
      "\n",
      "32 bottles of beer on the wall, 32 bottles of beer.\n",
      "Take one down, pass it around, 31 bottles of beer on the wall.\n",
      "\n",
      "31 bottles of beer on the wall, 31 bottles of beer.\n",
      "Take one down, pass it around, 30 bottles of beer on the wall.\n",
      "\n",
      "30 bottles of beer on the wall, 30 bottles of beer.\n",
      "Take one down, pass it around, 29 bottles of beer on the wall.\n",
      "\n",
      "29 bottles of beer on the wall, 29 bottles of beer.\n",
      "Take one down, pass it around, 28 bottles of beer on the wall.\n",
      "\n",
      "28 bottles of beer on the wall, 28 bottles of beer.\n",
      "Take one down, pass it around, 27 bottles of beer on the wall.\n",
      "\n",
      "27 bottles of beer on the wall, 27 bottles of beer.\n",
      "Take one down, pass it around, 26 bottles of beer on the wall.\n",
      "\n",
      "26 bottles of beer on the wall, 26 bottles of beer.\n",
      "Take one down, pass it around, 25 bottles of beer on the wall.\n",
      "\n",
      "25 bottles of beer on the wall, 25 bottles of beer.\n",
      "Take one down, pass it around, 24 bottles of beer on the wall.\n",
      "\n",
      "24 bottles of beer on the wall, 24 bottles of beer.\n",
      "Take one down, pass it around, 23 bottles of beer on the wall.\n",
      "\n",
      "23 bottles of beer on the wall, 23 bottles of beer.\n",
      "Take one down, pass it around, 22 bottles of beer on the wall.\n",
      "\n",
      "22 bottles of beer on the wall, 22 bottles of beer.\n",
      "Take one down, pass it around, 21 bottles of beer on the wall.\n",
      "\n",
      "21 bottles of beer on the wall, 21 bottles of beer.\n",
      "Take one down, pass it around, 20 bottles of beer on the wall.\n",
      "\n",
      "20 bottles of beer on the wall, 20 bottles of beer.\n",
      "Take one down, pass it around, 19 bottles of beer on the wall.\n",
      "\n",
      "19 bottles of beer on the wall, 19 bottles of beer.\n",
      "Take one down, pass it around, 18 bottles of beer on the wall.\n",
      "\n",
      "18 bottles of beer on the wall, 18 bottles of beer.\n",
      "Take one down, pass it around, 17 bottles of beer on the wall.\n",
      "\n",
      "17 bottles of beer on the wall, 17 bottles of beer.\n",
      "Take one down, pass it around, 16 bottles of beer on the wall.\n",
      "\n",
      "16 bottles of beer on the wall, 16 bottles of beer.\n",
      "Take one down, pass it around, 15 bottles of beer on the wall.\n",
      "\n",
      "15 bottles of beer on the wall, 15 bottles of beer.\n",
      "Take one down, pass it around, 14 bottles of beer on the wall.\n",
      "\n",
      "14 bottles of beer on the wall, 14 bottles of beer.\n",
      "Take one down, pass it around, 13 bottles of beer on the wall.\n",
      "\n",
      "13 bottles of beer on the wall, 13 bottles of beer.\n",
      "Take one down, pass it around, 12 bottles of beer on the wall.\n",
      "\n",
      "12 bottles of beer on the wall, 12 bottles of beer.\n",
      "Take one down, pass it around, 11 bottles of beer on the wall.\n",
      "\n",
      "11 bottles of beer on the wall, 11 bottles of beer.\n",
      "Take one down, pass it around, 10 bottles of beer on the wall.\n",
      "\n",
      "10 bottles of beer on the wall, 10 bottles of beer.\n",
      "Take one down, pass it around, 9 bottles of beer on the wall.\n",
      "\n",
      "9 bottles of beer on the wall, 9 bottles of beer.\n",
      "Take one down, pass it around, 8 bottles of beer on the wall.\n",
      "\n",
      "8 bottles of beer on the wall, 8 bottles of beer.\n",
      "Take one down, pass it around, 7 bottles of beer on the wall.\n",
      "\n",
      "7 bottles of beer on the wall, 7 bottles of beer.\n",
      "Take one down, pass it around, 6 bottles of beer on the wall.\n",
      "\n",
      "6 bottles of beer on the wall, 6 bottles of beer.\n",
      "Take one down, pass it around, 5 bottles of beer on the wall.\n",
      "\n",
      "5 bottles of beer on the wall, 5 bottles of beer.\n",
      "Take one down, pass it around, 4 bottles of beer on the wall.\n",
      "\n",
      "4 bottles of beer on the wall, 4 bottles of beer.\n",
      "Take one down, pass it around, 3 bottles of beer on the wall.\n",
      "\n",
      "3 bottles of beer on the wall, 3 bottles of beer.\n",
      "Take one down, pass it around, 2 bottles of beer on the wall.\n",
      "\n",
      "2 bottles of beer on the wall, 2 bottles of beer.\n",
      "Take one down, pass it around, 1 bottles of beer on the wall.\n",
      "\n",
      "1 bottle of beer on the wall, 1 bottle of beer.\n",
      "Take one down, pass it around, no more bottles of beer on the wall.\n",
      "\n",
      "No more bottles of beer on the wall, no more bottles of beer.\n",
      "Go to the store and buy some more, 99 bottles of beer on the wall.\n"
     ]
    }
   ],
   "source": [
    "def verse_of_99_bottles_beer():\n",
    "    \"\"\"This function generate verses for the '99 Bottles of Beer' song.\"\"\"\n",
    "    for i in range(99, 0, -1):\n",
    "        if i > 1:\n",
    "            print(f\"{i} bottles of beer on the wall, {i} bottles of beer.\")\n",
    "            print(\"Take one down, pass it around, \" + f\"{i-1} bottles of beer on the wall.\\n\")\n",
    "        else:\n",
    "            print(f\"1 bottle of beer on the wall, 1 bottle of beer.\")\n",
    "            print(\"Take one down, pass it around, no more bottles of beer on the wall.\\n\")\n",
    "    \n",
    "    print(\"No more bottles of beer on the wall, no more bottles of beer.\")\n",
    "    print(\"Go to the store and buy some more, 99 bottles of beer on the wall.\")\n",
    "\n",
    "verse_of_99_bottles_beer()\n"
   ]
  },
  {
   "cell_type": "code",
   "execution_count": 46,
   "id": "8d638714-c0fc-4305-b4d1-5bdb7580a9e4",
   "metadata": {},
   "outputs": [
    {
     "name": "stdout",
     "output_type": "stream",
     "text": [
      "This function generate verses for the '99 Bottles of Beer' song.\n"
     ]
    }
   ],
   "source": [
    "print(verse_of_99_bottles_beer.__doc__)"
   ]
  },
  {
   "cell_type": "code",
   "execution_count": 52,
   "id": "4a0148d9-b400-4f04-a218-1581fc5627b6",
   "metadata": {},
   "outputs": [
    {
     "name": "stdin",
     "output_type": "stream",
     "text": [
      "Enter an English word to translate to French:  food\n"
     ]
    },
    {
     "name": "stdout",
     "output_type": "stream",
     "text": [
      "The French translation of 'food' is: nourriture\n"
     ]
    }
   ],
   "source": [
    "def translate_to_french(english_word):\n",
    "    \"\"\"Translate an English word to French using a predefined dictionary provide single word.\"\"\"\n",
    "    translation_dict = {\n",
    "        'hello': 'bonjour',\n",
    "        'goodbye': 'au revoir',\n",
    "        'please': \"s'il vous plaît\",\n",
    "        'thank you': 'merci',\n",
    "        'yes': 'oui',\n",
    "        'no': 'non',\n",
    "        'cat': 'chat',\n",
    "        'dog': 'chien',\n",
    "        'friend': 'ami',\n",
    "        'love': 'amour',\n",
    "        'food': 'nourriture',\n",
    "        'water': 'eau'\n",
    "    }\n",
    "    \n",
    "    return translation_dict.get(english_word.lower(), \"Translation not found.\")\n",
    "\n",
    "word_to_translate = input(\"Enter an English word to translate to French: \")\n",
    "translation = translate_to_french(word_to_translate)\n",
    "print(f\"The French translation of '{word_to_translate}' is: {translation}\")\n"
   ]
  },
  {
   "cell_type": "code",
   "execution_count": 53,
   "id": "44cf3404-e5cd-4e95-a372-e155c1c31f22",
   "metadata": {},
   "outputs": [
    {
     "name": "stdout",
     "output_type": "stream",
     "text": [
      "Translate an English word to French using a predefined dictionary provide single word.\n"
     ]
    }
   ],
   "source": [
    "print(translate_to_french.__doc__)"
   ]
  }
 ],
 "metadata": {
  "kernelspec": {
   "display_name": "Python 3 (ipykernel)",
   "language": "python",
   "name": "python3"
  },
  "language_info": {
   "codemirror_mode": {
    "name": "ipython",
    "version": 3
   },
   "file_extension": ".py",
   "mimetype": "text/x-python",
   "name": "python",
   "nbconvert_exporter": "python",
   "pygments_lexer": "ipython3",
   "version": "3.12.4"
  }
 },
 "nbformat": 4,
 "nbformat_minor": 5
}
