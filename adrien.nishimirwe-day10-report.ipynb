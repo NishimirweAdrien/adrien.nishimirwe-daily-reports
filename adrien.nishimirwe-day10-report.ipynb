{
 "cells": [
  {
   "cell_type": "markdown",
   "metadata": {},
   "source": [
    "Challenge 2\n"
   ]
  },
  {
   "cell_type": "markdown",
   "metadata": {},
   "source": [
    "Question 1\n",
    "Level 1\n",
    "Task:\n",
    "Develop a program to find all numbers between 2000 and 3200 (inclusive) that are divisible by 7 but not multiples of 5. Display these numbers as a single line of output, separated by commas."
   ]
  },
  {
   "cell_type": "code",
   "execution_count": 79,
   "metadata": {},
   "outputs": [
    {
     "name": "stdout",
     "output_type": "stream",
     "text": [
      "2002 , 2009 , 2016 , 2023 , 2037 , 2044 , 2051 , 2058 , 2072 , 2079 , 2086 , 2093 , 2107 , 2114 , 2121 , 2128 , 2142 , 2149 , 2156 , 2163 , 2177 , 2184 , 2191 , 2198 , 2212 , 2219 , 2226 , 2233 , 2247 , 2254 , 2261 , 2268 , 2282 , 2289 , 2296 , 2303 , 2317 , 2324 , 2331 , 2338 , 2352 , 2359 , 2366 , 2373 , 2387 , 2394 , 2401 , 2408 , 2422 , 2429 , 2436 , 2443 , 2457 , 2464 , 2471 , 2478 , 2492 , 2499 , 2506 , 2513 , 2527 , 2534 , 2541 , 2548 , 2562 , 2569 , 2576 , 2583 , 2597 , 2604 , 2611 , 2618 , 2632 , 2639 , 2646 , 2653 , 2667 , 2674 , 2681 , 2688 , 2702 , 2709 , 2716 , 2723 , 2737 , 2744 , 2751 , 2758 , 2772 , 2779 , 2786 , 2793 , 2807 , 2814 , 2821 , 2828 , 2842 , 2849 , 2856 , 2863 , 2877 , 2884 , 2891 , 2898 , 2912 , 2919 , 2926 , 2933 , 2947 , 2954 , 2961 , 2968 , 2982 , 2989 , 2996 , 3003 , 3017 , 3024 , 3031 , 3038 , 3052 , 3059 , 3066 , 3073 , 3087 , 3094 , 3101 , 3108 , 3122 , 3129 , 3136 , 3143 , 3157 , 3164 , 3171 , 3178 , 3192 , 3199 "
     ]
    }
   ],
   "source": [
    "for i in range(2000,3201):\n",
    "    if(i%7==0 and i%5!=0):\n",
    "        if(i==3199):\n",
    "            print(i,end=\" \")\n",
    "        else:\n",
    "            print(i,\",\",end=\" \")"
   ]
  },
  {
   "cell_type": "markdown",
   "metadata": {},
   "source": [
    "Question 2\n",
    "Level 1\n",
    "Task:\n",
    "Create a function that computes the factorial of a specified integer. Display the result in a single line of output. For example, if the input is:\n",
    "8\n",
    "Then, the output should be:\n",
    "40320"
   ]
  },
  {
   "cell_type": "code",
   "execution_count": 71,
   "metadata": {},
   "outputs": [
    {
     "name": "stdout",
     "output_type": "stream",
     "text": [
      "40320\n"
     ]
    }
   ],
   "source": [
    "def factorial(n):\n",
    "    fac=1\n",
    "    for i in range(1,n+1):\n",
    "        fac=fac*i\n",
    "    print(fac)\n",
    "factorial(8)\n",
    "        "
   ]
  },
  {
   "cell_type": "markdown",
   "metadata": {},
   "source": [
    "Question 3\n",
    "Level 1\n",
    "Task:\n",
    "Given an integer n, generate a dictionary with entries (i, i*i) for all integers from 1 to n (inclusive). Print the resulting dictionary. For example, if the input is:\n",
    "8\n",
    "Then, the output should be:\n",
    "{1: 1, 2: 4, 3: 9, 4: 16, 5: 25, 6: 36, 7: 49, 8: 64}"
   ]
  },
  {
   "cell_type": "code",
   "execution_count": 82,
   "metadata": {},
   "outputs": [
    {
     "name": "stdout",
     "output_type": "stream",
     "text": [
      "{1: 1, 2: 4, 3: 9, 4: 16, 5: 25, 6: 36, 7: 49, 8: 64}\n"
     ]
    }
   ],
   "source": [
    "def dect_generate(n):\n",
    "    my_dict={}\n",
    "    for i in range(1,n+1):\n",
    "        my_dict.setdefault(i,i*i)\n",
    "    print(my_dict)\n",
    "dect_generate(8)"
   ]
  },
  {
   "cell_type": "markdown",
   "metadata": {},
   "source": [
    "Question 4\n",
    "Level 1\n",
    "\n",
    "Task:\n",
    "Create a program that reads a series of comma-separated numbers from the console, then generates and prints both a list and a tuple containing those numbers. For example, if the input is:\n",
    "34,67,55,33,12,98\n",
    "The output should be:\n",
    "['34', '67', '55', '33', '12', '98']\n",
    "('34', '67', '55', '33', '12', '98')"
   ]
  },
  {
   "cell_type": "code",
   "execution_count": 99,
   "metadata": {},
   "outputs": [
    {
     "name": "stdin",
     "output_type": "stream",
     "text": [
      "Enter series separated by comma :  34,67,55,33,12,98\n"
     ]
    },
    {
     "name": "stdout",
     "output_type": "stream",
     "text": [
      "['34', '67', '55', '33', '12', '98']\n",
      "('34', '67', '55', '33', '12', '98')\n"
     ]
    }
   ],
   "source": [
    "def list_tuple(series):\n",
    "    my_list=series.split(',')\n",
    "    print(my_list)\n",
    "    print(tuple(my_list))\n",
    "series_get=input(\"Enter series separated by comma : \")\n",
    "if(',' in series_get):\n",
    "    list_tuple(series_get)\n",
    "else:\n",
    "    print(\"Separate numbers by comma\")"
   ]
  },
  {
   "cell_type": "markdown",
   "metadata": {},
   "source": [
    "Question 5\n",
    "Level 1\n",
    "\n",
    "Task:\n",
    "Create a class that has two methods:\n",
    "\n",
    "getString: To accept a string input from the console.\n",
    "\n",
    "printString: To display the string in uppercase.\n",
    "Include a simple test function to demonstrate the class methods."
   ]
  },
  {
   "cell_type": "code",
   "execution_count": 104,
   "metadata": {},
   "outputs": [
    {
     "name": "stdin",
     "output_type": "stream",
     "text": [
      "Enter a string:  hello, python\n"
     ]
    },
    {
     "name": "stdout",
     "output_type": "stream",
     "text": [
      "HELLO, PYTHON\n"
     ]
    }
   ],
   "source": [
    "class StringUpper:  \n",
    "    def __init__(self):  \n",
    "        self.input_string = \"\"  \n",
    "\n",
    "    def getString(self):  \n",
    "        self.input_string = input(\"Enter a string: \")  \n",
    "\n",
    "    def printString(self):  \n",
    "        print(self.input_string.upper())  \n",
    "upper = StringUpper()  \n",
    "upper.getString()  \n",
    "upper.printString() \n",
    "    "
   ]
  },
  {
   "cell_type": "markdown",
   "metadata": {},
   "source": [
    "Question 6\n",
    "Level 2\n",
    "\n",
    "Task:\n",
    "Write a program that calculates and prints values based on the formula:\n",
    "$ Q = \\sqrt{\\frac{2 \\times C \\times D}{H}} $\n",
    "Here, C and H are fixed constants with values 50 and 30, respectively. D is a variable whose values are input to the program as a comma-separated sequence. For example, if the input is:\n",
    "100,150,180\n",
    "Then, the output should be:\n",
    "18,22,24"
   ]
  },
  {
   "cell_type": "code",
   "execution_count": 117,
   "metadata": {},
   "outputs": [
    {
     "name": "stdin",
     "output_type": "stream",
     "text": [
      "Enter values of D separate by comma:  100,150,180\n"
     ]
    },
    {
     "name": "stdout",
     "output_type": "stream",
     "text": [
      "18,22,24\n"
     ]
    }
   ],
   "source": [
    "import math\n",
    "def getD(lst):\n",
    "    output=[]\n",
    "    C=50\n",
    "    H=30\n",
    "    Q=1\n",
    "    lst=lst.split(',')\n",
    "    for D in lst:\n",
    "        Q=math.sqrt(2*C*int(D)/H)\n",
    "        formatQ=f\"{Q:.0f}\"\n",
    "        output.append(str(formatQ))\n",
    "    print(','.join(output))\n",
    "get_d=input(\"Enter values of D separate by comma: \")\n",
    "if(\",\" in get_d):\n",
    "    getD(get_d)  \n",
    "    "
   ]
  },
  {
   "cell_type": "markdown",
   "metadata": {},
   "source": [
    "Question 7\n",
    "Level 2\n",
    "\n",
    "Task:\n",
    "Write a program that accepts two numbers, X and Y, as input and generates a 2-dimensional list. The value at the i-th row and j-th column should be the product of i and j. For example, if the input is:\n",
    "3,5\n",
    "The output should be:\n",
    "[[0, 0, 0, 0, 0], [0, 1, 2, 3, 4], [0, 2, 4, 6, 8]]"
   ]
  },
  {
   "cell_type": "code",
   "execution_count": 133,
   "metadata": {},
   "outputs": [
    {
     "name": "stdin",
     "output_type": "stream",
     "text": [
      "Enter value of n :  3\n",
      "Enter the value of m :  5\n"
     ]
    },
    {
     "name": "stdout",
     "output_type": "stream",
     "text": [
      "[[0, 0, 0, 0, 0], [0, 1, 2, 3, 4], [0, 2, 4, 6, 8]]\n"
     ]
    }
   ],
   "source": [
    "def generate2Dim(n,m):\n",
    "    result=[]\n",
    "    for i in range(n):\n",
    "        i_row=[]\n",
    "        for j in range(m):\n",
    "            i_row.append(i*j)\n",
    "        result.append(i_row)\n",
    "    print(result)\n",
    "n=int(input(\"Enter value of n : \"))\n",
    "m=int(input(\"Enter the value of m : \"))\n",
    "generate2Dim(n,m)"
   ]
  },
  {
   "cell_type": "markdown",
   "metadata": {},
   "source": [
    "Question 8\n",
    "Level 2\n",
    "\n",
    "Task:\n",
    "Write a program that accepts a comma-separated list of words, sorts them alphabetically, and then prints them in a single line, separated by commas. For example, if the input is:\n",
    "without,hello,bag,world\n",
    "The output should be:\n",
    "bag,hello,without,world"
   ]
  },
  {
   "cell_type": "code",
   "execution_count": 139,
   "metadata": {},
   "outputs": [
    {
     "name": "stdin",
     "output_type": "stream",
     "text": [
      "Enter words by comma-separated :  without,hello,bag,world\n"
     ]
    },
    {
     "name": "stdout",
     "output_type": "stream",
     "text": [
      "bag,hello,without,world\n"
     ]
    }
   ],
   "source": [
    "def sortwords(lst):\n",
    "    lst=lst.split(',')\n",
    "    print(','.join(sorted(lst)))\n",
    "get_words=input(\"Enter words by comma-separated : \")\n",
    "if(\",\" in get_words):\n",
    "    sortwords(get_words)\n",
    "else:\n",
    "    print(\"Provide comma between words\")"
   ]
  },
  {
   "cell_type": "markdown",
   "metadata": {},
   "source": [
    "Question 9\n",
    "Level 2\n",
    "\n",
    "Task:\n",
    "Create a program that reads multiple lines of input and outputs each line with all characters converted to uppercase. For example, if the input is:\n",
    "Hello world\n",
    "Practice makes perfect\n",
    "The output should be:\n",
    "HELLO WORLD\n",
    "PRACTICE MAKES PERFECT"
   ]
  },
  {
   "cell_type": "code",
   "execution_count": 3,
   "metadata": {},
   "outputs": [
    {
     "name": "stdout",
     "output_type": "stream",
     "text": [
      "Enter your texts or (type q to exit program in empty inputs box: \n"
     ]
    },
    {
     "name": "stdin",
     "output_type": "stream",
     "text": [
      " Hello world\n",
      " Practice makes perfect\n",
      " q\n"
     ]
    },
    {
     "name": "stdout",
     "output_type": "stream",
     "text": [
      "HELLO WORLD\n",
      "PRACTICE MAKES PERFECT\n"
     ]
    }
   ],
   "source": [
    "def getUpperMultilines():  \n",
    "    print(\"Enter your texts or (type q to exit program in empty inputs box: \")  \n",
    "    lines = []  \n",
    "    while True:  \n",
    "        line = input()  \n",
    "        if line == \"q\": \n",
    "            break  \n",
    "        lines.append(line.upper())\n",
    "    for l in lines:  \n",
    "        print(l)   \n",
    "getUpperMultilines()"
   ]
  },
  {
   "cell_type": "markdown",
   "metadata": {},
   "source": [
    "Question 10\n",
    "Level 2\n",
    "\n",
    "Task:\n",
    "Write a program that reads a sequence of whitespace-separated words, removes all duplicate words, sorts them alphanumerically, and then prints the resulting words. For example, if the input is:\n",
    "hello world and practice makes perfect and hello world again\n",
    "The output should be:\n",
    "again and hello makes perfect practice world"
   ]
  },
  {
   "cell_type": "code",
   "execution_count": 6,
   "metadata": {},
   "outputs": [
    {
     "name": "stdin",
     "output_type": "stream",
     "text": [
      "Enter words separated by whitespace :  hello world and practice makes perfect and hello world again\n"
     ]
    },
    {
     "name": "stdout",
     "output_type": "stream",
     "text": [
      "again and hello makes perfect practice world\n"
     ]
    }
   ],
   "source": [
    "def removeDuplicate(lst):\n",
    "    lst=lst.split(\" \")\n",
    "    remove_duplucate=list(dict.fromkeys(lst))\n",
    "    print(' '.join(sorted(remove_duplucate)))\n",
    "get_input=input(\"Enter words separated by whitespace : \")\n",
    "if(\" \" in get_input):\n",
    "    removeDuplicate(get_input)\n",
    "else:\n",
    "    print(\"Separate words by whitespace\")"
   ]
  },
  {
   "cell_type": "markdown",
   "metadata": {},
   "source": [
    "Question 11\n",
    "Level 2\n",
    "\n",
    "Task:\n",
    "Create a program that takes a sequence of 4-digit binary numbers, checks which ones are divisible by 5, and prints them as a comma-separated sequence. For example, if the input is:\n",
    "0100,0011,1010,1001\n",
    "The output should be:\n",
    "1010\n",
    "Note: Assume the input is provided through the console."
   ]
  },
  {
   "cell_type": "code",
   "execution_count": 76,
   "metadata": {},
   "outputs": [
    {
     "name": "stdin",
     "output_type": "stream",
     "text": [
      "Enter binary digit separate by comma :  0100,0011,1010,1001\n"
     ]
    },
    {
     "name": "stdout",
     "output_type": "stream",
     "text": [
      "1010\n"
     ]
    }
   ],
   "source": [
    "def binaryCheck(tr):\n",
    "    s=0\n",
    "    tr=tr.split(',')\n",
    "    for i in tr:\n",
    "        a=1\n",
    "        for t in i:\n",
    "            s=s+2**a*int(t)\n",
    "            a=a+1\n",
    "        if(s% 5==0):\n",
    "            print(i)\n",
    "        a=1\n",
    "        s=0 \n",
    "get_inputbinary=input(\"Enter binary digit separate by comma : \")\n",
    "binarynumbers = get_inputbinary.replace(',', '').strip()\n",
    "if all(charac in ['0', '1'] for charac in binarynumbers):\n",
    "    binaryCheck(get_inputbinary)\n",
    "else:\n",
    "    print(\"Provide binary numbers\")"
   ]
  },
  {
   "cell_type": "markdown",
   "metadata": {},
   "source": [
    "Question 12\n",
    "Level 2\n",
    "\n",
    "Task:\n",
    "Develop a program that finds all numbers between 1000 and 3000 (inclusive) where each digit is an even number. Print the results as a comma-separated sequence in a single line.\n",
    "\n"
   ]
  },
  {
   "cell_type": "code",
   "execution_count": 78,
   "metadata": {},
   "outputs": [
    {
     "name": "stdout",
     "output_type": "stream",
     "text": [
      "2000,2002,2004,2006,2008,2020,2022,2024,2026,2028,2040,2042,2044,2046,2048,2060,2062,2064,2066,2068,2080,2082,2084,2086,2088,2200,2202,2204,2206,2208,2220,2222,2224,2226,2228,2240,2242,2244,2246,2248,2260,2262,2264,2266,2268,2280,2282,2284,2286,2288,2400,2402,2404,2406,2408,2420,2422,2424,2426,2428,2440,2442,2444,2446,2448,2460,2462,2464,2466,2468,2480,2482,2484,2486,2488,2600,2602,2604,2606,2608,2620,2622,2624,2626,2628,2640,2642,2644,2646,2648,2660,2662,2664,2666,2668,2680,2682,2684,2686,2688,2800,2802,2804,2806,2808,2820,2822,2824,2826,2828,2840,2842,2844,2846,2848,2860,2862,2864,2866,2868,2880,2882,2884,2886,2888\n"
     ]
    }
   ],
   "source": [
    "def find_even_digit_numbers():\n",
    "    even_result = []\n",
    "    for my_num in range(1000, 3001):\n",
    "        str_num = str(my_num)\n",
    "        if all(int(digit) % 2 == 0 for digit in str_num):\n",
    "            even_result.append(str_num)\n",
    "    print(\",\".join(even_result))\n",
    "find_even_digit_numbers()\n"
   ]
  },
  {
   "cell_type": "markdown",
   "metadata": {},
   "source": [
    "Question 13\n",
    "Level 2\n",
    "\n",
    "Task:\n",
    "Write a program that counts the number of letters and digits in a given sentence. For example, if the input is:\n",
    "hello world! 123\n",
    "The output should be:\n",
    "LETTERS 10\n",
    "DIGITS 3"
   ]
  },
  {
   "cell_type": "code",
   "execution_count": 86,
   "metadata": {},
   "outputs": [
    {
     "name": "stdin",
     "output_type": "stream",
     "text": [
      "Enter letters and digits to count them differently :  hello world! 123\n"
     ]
    },
    {
     "name": "stdout",
     "output_type": "stream",
     "text": [
      "LETTERS  10\n",
      "DIGITS  3\n"
     ]
    }
   ],
   "source": [
    "def countLetteranddigit(txt):\n",
    "    digit_counter=0\n",
    "    alpha_counter=0\n",
    "    for my_char in txt:\n",
    "        if(my_char.isdigit()):\n",
    "            digit_counter+=1\n",
    "        elif(my_char.isalpha()):\n",
    "            alpha_counter+=1\n",
    "    print(\"LETTERS \",alpha_counter)\n",
    "    print(\"DIGITS \",digit_counter)\n",
    "countable=input(\"Enter letters and digits to count them differently : \")\n",
    "countLetteranddigit(countable)"
   ]
  },
  {
   "cell_type": "markdown",
   "metadata": {},
   "source": [
    "Question 14\n",
    "Level 2\n",
    "\n",
    "Task:\n",
    "Create a program that counts and prints the number of uppercase and lowercase letters in a given sentence. For example, if the input is:\n",
    "Hello world!\n",
    "The output should be:\n",
    "UPPER CASE 1\n",
    "LOWER CASE 9"
   ]
  },
  {
   "cell_type": "code",
   "execution_count": 88,
   "metadata": {},
   "outputs": [
    {
     "name": "stdin",
     "output_type": "stream",
     "text": [
      "Enter letters to count upper and lower case letters :  Hello world!\n"
     ]
    },
    {
     "name": "stdout",
     "output_type": "stream",
     "text": [
      "UPPER CASE  1\n",
      "LOWER CASE  9\n"
     ]
    }
   ],
   "source": [
    "def countupperlower(txt):\n",
    "    uppercounter=0\n",
    "    lowercounter=0\n",
    "    for my_ch in txt:\n",
    "        if(my_ch.isalpha() and my_ch.isupper()):\n",
    "            uppercounter+=1\n",
    "        elif(my_ch.isalpha() and my_ch.islower()):\n",
    "            lowercounter+=1\n",
    "    print(\"UPPER CASE \",uppercounter)\n",
    "    print(\"LOWER CASE \",lowercounter)\n",
    "get_tex=input(\"Enter letters to count upper and lower case letters : \")\n",
    "countupperlower(get_tex)"
   ]
  },
  {
   "cell_type": "markdown",
   "metadata": {},
   "source": [
    "Question 15\n",
    "Level 2\n",
    "\n",
    "Task:\n",
    "Write a program that calculates the value of a + aa + aaa + aaaa given a digit as the value of a. For example, if the input is:\n",
    "9\n",
    "The output should be:\n",
    "11106"
   ]
  },
  {
   "cell_type": "code",
   "execution_count": 97,
   "metadata": {},
   "outputs": [
    {
     "name": "stdout",
     "output_type": "stream",
     "text": [
      "11106\n"
     ]
    }
   ],
   "source": [
    "def getAvalues(n):\n",
    "    sum_value=0\n",
    "    for i in range(1,5):\n",
    "        value=n*i\n",
    "        sum_value=sum_value+int(value)\n",
    "    print(sum_value)    \n",
    "getAvalues(\"9\")"
   ]
  },
  {
   "cell_type": "markdown",
   "metadata": {},
   "source": [
    "Question 16\n",
    "Level 2\n",
    "\n",
    "Task:\n",
    "Use a list comprehension to generate a list of squares for each odd number in a given sequence of comma-separated values. For example, if the input is:\n",
    "1,2,3,4,5,6,7,8,9\n",
    "The output should be:\n",
    "1,3,5,7,9"
   ]
  },
  {
   "cell_type": "code",
   "execution_count": 101,
   "metadata": {},
   "outputs": [
    {
     "name": "stdin",
     "output_type": "stream",
     "text": [
      "Provide comma-sparated list :  1,2,3,4,5,6,7,8,9\n"
     ]
    },
    {
     "name": "stdout",
     "output_type": "stream",
     "text": [
      "Odd Comma separated list is :  1,3,5,7,9\n"
     ]
    }
   ],
   "source": [
    "def getOddsequence(seq):\n",
    "    seq=seq.split(',')\n",
    "    old_list=[]\n",
    "    for s_seq in seq:\n",
    "        if(int(s_seq)%2!=0):\n",
    "          old_list.append(s_seq)\n",
    "    print(\"Odd Comma separated list is : \",','.join(old_list))\n",
    "get_comma_separate=input(\"Provide comma-sparated list : \")\n",
    "getOddsequence(get_comma_separate)"
   ]
  }
 ],
 "metadata": {
  "colab": {
   "include_colab_link": true,
   "provenance": []
  },
  "kernelspec": {
   "display_name": "Python 3 (ipykernel)",
   "language": "python",
   "name": "python3"
  },
  "language_info": {
   "codemirror_mode": {
    "name": "ipython",
    "version": 3
   },
   "file_extension": ".py",
   "mimetype": "text/x-python",
   "name": "python",
   "nbconvert_exporter": "python",
   "pygments_lexer": "ipython3",
   "version": "3.12.4"
  }
 },
 "nbformat": 4,
 "nbformat_minor": 4
}
