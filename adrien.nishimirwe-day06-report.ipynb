{
 "cells": [
  {
   "cell_type": "code",
   "execution_count": 32,
   "id": "a10b4505-f5e0-403f-aa0e-7bbf9bd362b3",
   "metadata": {},
   "outputs": [
    {
     "name": "stdin",
     "output_type": "stream",
     "text": [
      "Provide natural number n :  5\n",
      "Select 1 for odd increment or 2 for even increment :  2\n"
     ]
    },
    {
     "name": "stdout",
     "output_type": "stream",
     "text": [
      "The product is :  105\n"
     ]
    }
   ],
   "source": [
    "#Question 1 Compute the following expressions for a natural number n chosen by the user:\n",
    "user_input=int(input(\"Provide natural number n : \"))\n",
    "s=0\n",
    "p=1\n",
    "if(user_input>=1):\n",
    "    userchoice=int(input(\"Select 1 for odd increment or 2 for even increment : \"))\n",
    "    if(userchoice==1):\n",
    "        for i in range(user_input):\n",
    "            if(i % 2 !=0):\n",
    "                s=s+(i+3)\n",
    "        print(\"The sum is : \",s)\n",
    "    else:\n",
    "        for i in range(user_input):\n",
    "                if(i % 2 ==0):\n",
    "                   p=p*(i+3)\n",
    "        print(\"The product is : \",p)\n",
    "else:\n",
    "    print(\"Provide the natural number like 2,3,4,....\")\n",
    "           \n",
    "        \n",
    "      \n"
   ]
  },
  {
   "cell_type": "code",
   "execution_count": 146,
   "id": "2694d4ed-410c-4158-8994-a012c67e3fba",
   "metadata": {},
   "outputs": [
    {
     "name": "stdin",
     "output_type": "stream",
     "text": [
      "Provide the day in number (form 0 to 6) to see corresponding day :  5\n"
     ]
    },
    {
     "name": "stdout",
     "output_type": "stream",
     "text": [
      "It is a working day, Friday\n"
     ]
    }
   ],
   "source": [
    "#Question 2 Write a program that reads the number of the day of the week (from 0 to 6). If it is a\n",
    "#working day, then the program will write the name of the corresponding day. Otherwise,\n",
    "#it will write the word \"Weekend\".\n",
    "user_input=int(input(\"Provide the day in number (form 0 to 6) to see corresponding day : \"))\n",
    "if(user_input>=0 and user_input<=6):\n",
    "    \n",
    "    if(user_input==0):\n",
    "        print(\"Weekend\")\n",
    "    elif(user_input==6):\n",
    "        print(\"Weekend\")\n",
    "    elif(user_input==1):\n",
    "        print(\"It is a working day, Monday\")\n",
    "    elif(user_input==2):\n",
    "        print(\"It is a working day, Tuesday\")\n",
    "    elif(user_input==3):\n",
    "        print(\"It is a working day, Wednesday\")\n",
    "    elif(user_input==4):\n",
    "        print(\"It is a working day, Thursday\")\n",
    "    elif(user_input==5):\n",
    "        print(\"It is a working day, Friday\")\n",
    "else:\n",
    "    print(\"Provide number between 0 and 6\")\n"
   ]
  },
  {
   "cell_type": "code",
   "execution_count": 39,
   "id": "71e652bb-9755-4dc3-8e7e-ce09a431d0f8",
   "metadata": {},
   "outputs": [
    {
     "name": "stdin",
     "output_type": "stream",
     "text": [
      "Provide month in number between (form 0 to 11 ) to see the days have :  5\n"
     ]
    },
    {
     "name": "stdout",
     "output_type": "stream",
     "text": [
      "June has 30 days\n"
     ]
    }
   ],
   "source": [
    "# Question 3 Make a program that, given a month number (from 0 to 11), indicates how many days it has (28, 30 or 31), ignoring the leap years.\n",
    "user_input=int(input(\"Provide month in number between (form 0 to 11 ) to see the days have : \"))\n",
    "if(user_input>=0 and user_input<=11):\n",
    "    if(user_input==11):\n",
    "        print(\"December has 31 days\")\n",
    "    elif (user_input==0):\n",
    "        print(\"January has 31 days\")\n",
    "    elif (user_input==1):\n",
    "        print(\"February has 28 days\")\n",
    "    elif (user_input==2):\n",
    "        print(\"March has 31 days\")\n",
    "    elif (user_input==3):\n",
    "        print(\"April has 30 days\")\n",
    "    elif (user_input==4):\n",
    "        print(\"May has 31 days\")\n",
    "    elif (user_input==5):\n",
    "        print(\"June has 30 days\")\n",
    "    elif (user_input==6):\n",
    "        print(\"July has 31 days\")\n",
    "    elif (user_input==7):\n",
    "        print(\"August has 31 days\")\n",
    "    elif (user_input==8):\n",
    "        print(\"September has 30 days\")\n",
    "    elif (user_input==9):\n",
    "        print(\"October has 31 days\")\n",
    "    elif (user_input==10):\n",
    "        print(\"November has 30 days\")\n",
    "else:\n",
    "    print(\"Provide number between 0 and 11\")\n",
    "    "
   ]
  },
  {
   "cell_type": "code",
   "execution_count": 42,
   "id": "2f1106aa-1ba0-4cd3-8591-1ca67edcb2ec",
   "metadata": {},
   "outputs": [
    {
     "name": "stdout",
     "output_type": "stream",
     "text": [
      "For loop version display my name three times \n",
      "\n",
      "NISHIMIRWE Adrien\n",
      "NISHIMIRWE Adrien\n",
      "NISHIMIRWE Adrien\n",
      "\n",
      "While loop version display my name three times \n",
      "\n",
      "NISHIMIRWE Adrien\n",
      "NISHIMIRWE Adrien\n",
      "NISHIMIRWE Adrien\n"
     ]
    }
   ],
   "source": [
    "# Question 3 Write two versions of python code that displays your name 3 times. One version with a\n",
    "# \"for loop\" and another version with a \"while loop\".\n",
    "print(\"For loop version display my name three times \\n\")\n",
    "for i in range(3):\n",
    "    print(\"NISHIMIRWE Adrien\")\n",
    "print(\"\\nWhile loop version display my name three times \\n\")\n",
    "i=0\n",
    "while(i<3):\n",
    "    print(\"NISHIMIRWE Adrien\")\n",
    "    i=i+1"
   ]
  },
  {
   "cell_type": "code",
   "execution_count": 56,
   "id": "a0db877c-b052-4744-bfe0-f0b1fcf12602",
   "metadata": {},
   "outputs": [
    {
     "name": "stdout",
     "output_type": "stream",
     "text": [
      "Fibonacci series! \n",
      "\n",
      "Provide initial values : \n",
      "\n"
     ]
    },
    {
     "name": "stdin",
     "output_type": "stream",
     "text": [
      "X0 :  0\n",
      "X1 :  1\n"
     ]
    },
    {
     "name": "stdout",
     "output_type": "stream",
     "text": [
      "first 15 terms of a Fibonacci series \n",
      "\n",
      "0 1 1 2 3 5 8 13 21 34 55 89 144 233 377 "
     ]
    }
   ],
   "source": [
    "# Question 4 Given two numbers a0 and a1, the Fibonacci sequence they generate is constructed from\n",
    "# the recursion formula an+1 = an + an−1. Calculate the first 15 terms of a Fibonacci\n",
    "# sequence, asking the user the initial values.\n",
    "\n",
    "print(\"Fibonacci series! \\n\")\n",
    "print(\"Provide initial values : \\n\")\n",
    "x0=int(input(\"X0 : \"))\n",
    "x1=int(input(\"X1 : \"))\n",
    "temp=0\n",
    "print(\"first 15 terms of a Fibonacci series \\n\")\n",
    "print(x0,x1, end=' ')\n",
    "for i in range(13):\n",
    "    temp=x0+x1\n",
    "    x0=x1\n",
    "    x1=temp\n",
    "    print(temp, end=' ')\n",
    "  \n"
   ]
  },
  {
   "cell_type": "code",
   "execution_count": 149,
   "id": "e2ebe9f5-063c-402b-bdde-32e64814eaa8",
   "metadata": {},
   "outputs": [
    {
     "name": "stdout",
     "output_type": "stream",
     "text": [
      "sequence\n",
      "\n",
      "Provide initial values : \n",
      "\n"
     ]
    },
    {
     "name": "stdin",
     "output_type": "stream",
     "text": [
      "X0 :  0\n",
      "X1 :  1\n"
     ]
    },
    {
     "name": "stdout",
     "output_type": "stream",
     "text": [
      "first 30 terms of a Sequence \n",
      "\n",
      "0 , 1,0.5,3.25,3.125,11.3125,15.03125,41.453125,65.8203125,157.26953125,276.095703125,609.8564453125,1133.21533203125,2396.177001953125,4597.7344970703125,9487.398254394531,18536.902618408203,37730.646072387695,74476.03089141846,150429.9536628723,298643.0695056915,600611.3957414627,1196234.906387806,2399951.640418291,4788680.539372563,9594195.190941155,19163139.213588268,38364155.1796176,76671495.2305736,153428213.15413958,306728592.2687906,"
     ]
    }
   ],
   "source": [
    "# Compute the first 30 terms of the sequence defined by 2xn+2 − xn+1 − 6xn = 0 sequence,\n",
    "# given any two initial values x0 and x1\n",
    "print(\"sequence\\n\")\n",
    "print(\"Provide initial values : \\n\")\n",
    "x0=int(input(\"X0 : \"))\n",
    "x1=int(input(\"X1 : \"))\n",
    "temp=0\n",
    "print(\"first 30 terms of a Sequence \\n\")\n",
    "print(x0,\",\",x1, end=',')\n",
    "for i in range(29):\n",
    "    temp=(1/2*x1+3*x0)\n",
    "    x0=x1\n",
    "    x1=temp\n",
    "    print(temp, end=',')"
   ]
  },
  {
   "cell_type": "code",
   "execution_count": 150,
   "id": "037678a1-d184-49c3-b1dd-c388f2048f85",
   "metadata": {},
   "outputs": [
    {
     "name": "stdin",
     "output_type": "stream",
     "text": [
      "Enter year to check if is leap or not :  2040\n"
     ]
    },
    {
     "name": "stdout",
     "output_type": "stream",
     "text": [
      "2040  is leap year \n"
     ]
    }
   ],
   "source": [
    "# 7. a) Write python code to determine whether or not a year is a leap year. Be sure you\n",
    "# know what a leap year is.\n",
    "user_year=int(input(\"Enter year to check if is leap or not : \"))\n",
    "if(user_year>0):\n",
    "    if((user_year%4 == 0 and user_year % 100 !=0) or (user_year % 400 ==0)):\n",
    "        print(user_year, \" is leap year \")\n",
    "    else:\n",
    "        print(user_year , \"is not leap year\")\n",
    "else:\n",
    "   print(\"Enter non-negative number\")\n"
   ]
  },
  {
   "cell_type": "code",
   "execution_count": 73,
   "id": "aff60f90-9475-4efe-bfcd-602de0d28ff2",
   "metadata": {},
   "outputs": [
    {
     "name": "stdin",
     "output_type": "stream",
     "text": [
      "Enter year to check if is leap or not :  2040\n"
     ]
    },
    {
     "name": "stdout",
     "output_type": "stream",
     "text": [
      "True\n"
     ]
    }
   ],
   "source": [
    "# b) Write the code using only logical operators, i.e. no conditional branching.\n",
    "user_year=int(input(\"Enter year to check if is leap or not : \"))\n",
    "print((user_year%4 == 0 and user_year % 100 !=0) or (user_year % 400 ==0))"
   ]
  },
  {
   "cell_type": "code",
   "execution_count": 85,
   "id": "88941fd0-fd4d-4a02-a075-de9812206061",
   "metadata": {},
   "outputs": [
    {
     "name": "stdout",
     "output_type": "stream",
     "text": [
      "The sum of square number \n",
      "\n"
     ]
    },
    {
     "name": "stdin",
     "output_type": "stream",
     "text": [
      "Provide natural number n :  3\n"
     ]
    },
    {
     "name": "stdout",
     "output_type": "stream",
     "text": [
      "\n",
      " for loop version \n",
      " \n",
      "The sum is :  14\n",
      "\n",
      " while loop version \n",
      " \n",
      "The sum is :  14\n"
     ]
    }
   ],
   "source": [
    "# 8. a) Write python code that computes the sum of the square of the first n natural numbers.\n",
    "# One version with a \"for loop\" and another version with a \"while loop\".\n",
    "print(\"The sum of square number \\n\")\n",
    "user_input=int(input(\"Provide natural number n : \"))\n",
    "s=0\n",
    "k=1\n",
    "sum=0\n",
    "\n",
    "if(user_input>=1):\n",
    "    print(\"\\n for loop version \\n \")\n",
    "    for i in range(user_input+1):\n",
    "        s=s+i**2\n",
    "    print(\"The sum is : \", s)\n",
    "    print(\"\\n while loop version \\n \")\n",
    "    while(k<=user_input):\n",
    "        sum=sum+k**2\n",
    "        k=k+1\n",
    "    print(\"The sum is : \", sum)\n",
    "else:\n",
    "    print(\"Provide the natural number like 2,3,4,....\")\n",
    "\n",
    "    "
   ]
  },
  {
   "cell_type": "code",
   "execution_count": 97,
   "id": "194c4473-2173-4f0e-a503-47472a37a6e2",
   "metadata": {},
   "outputs": [
    {
     "name": "stdout",
     "output_type": "stream",
     "text": [
      "Print n such that 1^2+2^2+....+n^2>=M\n"
     ]
    },
    {
     "name": "stdin",
     "output_type": "stream",
     "text": [
      "\n",
      " Enter natural number M :  7\n"
     ]
    },
    {
     "name": "stdout",
     "output_type": "stream",
     "text": [
      "\n",
      " for loop version \n",
      "\n",
      "n is :  3\n",
      "\n",
      " while loop version \n",
      "\n",
      "n is :  3\n"
     ]
    }
   ],
   "source": [
    "#Question 8 b) Write python code that prints, for a natural number M, the smallest natural number\n",
    "# n such that 1\n",
    "\n",
    "# 2 + 22 +· · ·+n\n",
    "\n",
    "# 2 ≥ M. One version with a \"for loop\" and another version with a \"while loop\".\n",
    "print(\"Print n such that 1^2+2^2+....+n^2>=M\")\n",
    "M=int(input(\"\\n Enter natural number M : \"))\n",
    "if(M>=1):\n",
    "    print(\"\\n for loop version \\n\")\n",
    "    sum_check=0\n",
    "    for i in range(1,M+1):\n",
    "        sum_check=sum_check+i**2\n",
    "        if(sum_check>=M):\n",
    "            break\n",
    "    print(\"n is : \",i)\n",
    "    print(\"\\n while loop version \\n\")\n",
    "    t=0\n",
    "    sum_while=0\n",
    "    while(t<=M):\n",
    "        sum_while=sum_while+t**2\n",
    "        if(sum_while>=M):\n",
    "            break\n",
    "        t=t+1\n",
    "    print(\"n is : \",t)\n",
    "else:\n",
    "    print(\"Provide natural number like 1,2,3,4, etc.\")"
   ]
  },
  {
   "cell_type": "code",
   "execution_count": 151,
   "id": "4f75b7ca-25ec-4459-8095-685dc8aa64c1",
   "metadata": {},
   "outputs": [
    {
     "name": "stdin",
     "output_type": "stream",
     "text": [
      "Enter natural number :  10\n"
     ]
    },
    {
     "name": "stdout",
     "output_type": "stream",
     "text": [
      "\n",
      " All divisors of  10  are : \n",
      "\n",
      "1,2,5,"
     ]
    }
   ],
   "source": [
    "# Question 9 a) Write python code that prints all the divisors of a given natural number.\n",
    "user_input=int(input(\"Enter natural number : \"))\n",
    "if(user_input>0):\n",
    "    print(\"\\n All divisors of \",user_input,\" are : \\n\")\n",
    "    for i in range(1,user_input):\n",
    "        if(user_input%i==0):\n",
    "            print(i,end=',')\n",
    "else:\n",
    "    print(\"Provide natural number like 1,2,3,4,5,6, etc\") "
   ]
  },
  {
   "cell_type": "code",
   "execution_count": 109,
   "id": "87c44e8c-bf6f-4be1-9a61-24a3ee9b6331",
   "metadata": {},
   "outputs": [
    {
     "name": "stdin",
     "output_type": "stream",
     "text": [
      "Enter integer number :  20\n"
     ]
    },
    {
     "name": "stdout",
     "output_type": "stream",
     "text": [
      "[2, 2, 5]\n"
     ]
    }
   ],
   "source": [
    "# Questiion 9 b) Read an integer number input by the user and calculate its prime factors. This will\n",
    "# just be some of its divisors.\n",
    "user_input=int(input(\"Enter integer number : \"))\n",
    "all_primes= []  \n",
    "while user_input % 2 == 0:  \n",
    "    all_primes.append(2)  \n",
    "    user_input //= 2  \n",
    "for i in range(3, int(user_input**0.5) + 1, 2):  \n",
    "    while user_input % i == 0:  \n",
    "        all_primes.append(i)  \n",
    "        user_input //= i  \n",
    "# This condition is to check if n is a prime number greater than 2  \n",
    "if user_input > 2:  \n",
    "    all_primes.append(user_input)  \n",
    "print(all_primes)\n",
    "\n"
   ]
  },
  {
   "cell_type": "code",
   "execution_count": 121,
   "id": "5119c817-7a1e-42a2-8e3d-f64322910f35",
   "metadata": {},
   "outputs": [
    {
     "name": "stdout",
     "output_type": "stream",
     "text": [
      "Multiplication table\n",
      "\n"
     ]
    },
    {
     "name": "stdin",
     "output_type": "stream",
     "text": [
      "Enter the value between 0 and 9 :  3\n",
      "Enter the the limit you want to stop :  3\n"
     ]
    },
    {
     "name": "stdout",
     "output_type": "stream",
     "text": [
      "3 * 1 = 3\n",
      "3 * 2 = 6\n",
      "3 * 3 = 9\n"
     ]
    }
   ],
   "source": [
    "# Question 10 Read an integer number between n 0 and 9 and print its multiplication table up to N\n",
    "# where N is another another natural number read by the program.\n",
    "print(\"Multiplication table\\n\")\n",
    "user_input=int(input(\"Enter the value between 0 and 9 : \"))\n",
    "mult_limit=int(input(\"Enter the the limit you want to stop : \"))\n",
    "if (user_input>=0 and user_input<=9):\n",
    "    if(mult_limit>0):\n",
    "      for i in range(1,mult_limit+1):\n",
    "           print(user_input,\"*\",i,\"=\",user_input*i)\n",
    "    else:\n",
    "        print(\"Provide the natural number like 1,2,3,5, etc\")\n",
    "else:\n",
    "    print(\"Provide number between 0 and 9\")\n",
    "               \n",
    "       \n"
   ]
  },
  {
   "cell_type": "code",
   "execution_count": 152,
   "id": "26e7df2d-967c-43d9-919f-8e4a9995c8c3",
   "metadata": {},
   "outputs": [
    {
     "name": "stdout",
     "output_type": "stream",
     "text": [
      "numbers between 0 and 40 that are multiples of 3,7 or 11\n",
      "\n",
      "0,3,6,7,9,11,12,14,15,18,21,22,24,27,28,30,33,35,36,39,"
     ]
    }
   ],
   "source": [
    "# Question 11 Write a program that prints all the numbers between 0 and 40 that are multiples of 3, 7 or 11.\n",
    "print(\"numbers between 0 and 40 that are multiples of 3,7 or 11\\n\")\n",
    "for i in range(41):\n",
    "    if(i % 3 == 0 or i % 7 == 0 or i % 11 == 0):\n",
    "        print(i,end=',')"
   ]
  },
  {
   "cell_type": "code",
   "execution_count": null,
   "id": "6025412c-e194-4f1d-b873-fa01b4d7ff44",
   "metadata": {},
   "outputs": [],
   "source": []
  },
  {
   "cell_type": "code",
   "execution_count": 128,
   "id": "60d8654a-f201-4407-926c-f9ba3138a641",
   "metadata": {},
   "outputs": [
    {
     "name": "stdout",
     "output_type": "stream",
     "text": [
      "The floor function of x \n",
      "\n"
     ]
    },
    {
     "name": "stdin",
     "output_type": "stream",
     "text": [
      "Provide the value of x:  3.566\n"
     ]
    },
    {
     "name": "stdout",
     "output_type": "stream",
     "text": [
      "The floor value of is  3\n"
     ]
    }
   ],
   "source": [
    "# Question 12 Write python code that prints the floor of a float x. Recall that the floor of a float x is the\n",
    "# largest integer value less than or equal to x, i.e. if E[x] is the floor of x, then it satisfies,\n",
    "#E[x] = 1 + E[x − 1]\n",
    "import math  \n",
    "print(\"The floor function of x \\n\")  \n",
    "user_input = float(input(\"Provide the value of x: \"))  \n",
    "floor_value = math.floor(user_input)  \n",
    "print(\"The floor value of is \",floor_value)"
   ]
  },
  {
   "cell_type": "code",
   "execution_count": 132,
   "id": "c270bdce-6618-47fe-8ca5-707c910fcb3a",
   "metadata": {},
   "outputs": [
    {
     "name": "stdout",
     "output_type": "stream",
     "text": [
      "Determine the quadrant of a point (x, y). Type 'quit' to exit program.\n"
     ]
    },
    {
     "name": "stdin",
     "output_type": "stream",
     "text": [
      "Enter the coordinates (x, y):  1,3\n"
     ]
    },
    {
     "name": "stdout",
     "output_type": "stream",
     "text": [
      "The point is in the 1st quadrant.\n"
     ]
    },
    {
     "name": "stdin",
     "output_type": "stream",
     "text": [
      "Enter the coordinates (x, y):  -1,3\n"
     ]
    },
    {
     "name": "stdout",
     "output_type": "stream",
     "text": [
      "The point is in the 2nd quadrant.\n"
     ]
    },
    {
     "name": "stdin",
     "output_type": "stream",
     "text": [
      "Enter the coordinates (x, y):  -1,-3\n"
     ]
    },
    {
     "name": "stdout",
     "output_type": "stream",
     "text": [
      "The point is in the 3rd quadrant.\n"
     ]
    },
    {
     "name": "stdin",
     "output_type": "stream",
     "text": [
      "Enter the coordinates (x, y):  3,-4\n"
     ]
    },
    {
     "name": "stdout",
     "output_type": "stream",
     "text": [
      "The point is in the 4th quadrant.\n"
     ]
    },
    {
     "name": "stdin",
     "output_type": "stream",
     "text": [
      "Enter the coordinates (x, y):  0,3\n"
     ]
    },
    {
     "name": "stdout",
     "output_type": "stream",
     "text": [
      "The point lies on the y-axis.\n"
     ]
    },
    {
     "name": "stdin",
     "output_type": "stream",
     "text": [
      "Enter the coordinates (x, y):  3,0\n"
     ]
    },
    {
     "name": "stdout",
     "output_type": "stream",
     "text": [
      "The point lies on the x-axis.\n"
     ]
    },
    {
     "name": "stdin",
     "output_type": "stream",
     "text": [
      "Enter the coordinates (x, y):  0,0\n"
     ]
    },
    {
     "name": "stdout",
     "output_type": "stream",
     "text": [
      "The point is at the origin.\n"
     ]
    },
    {
     "name": "stdin",
     "output_type": "stream",
     "text": [
      "Enter the coordinates (x, y):  quit\n"
     ]
    },
    {
     "name": "stdout",
     "output_type": "stream",
     "text": [
      "Thank you goodbye!\n"
     ]
    }
   ],
   "source": [
    "# Question 13 Given a point in the plane by its Cartesian coordinates, determine in which quadrant it is\n",
    "# (1st, 2nd, 3rd, 4th), if it lies on an axis, or if it is the origin. Do this for several points in\n",
    "# the same execution of the program until the user quits.\n",
    "\n",
    "print(\"Determine the quadrant of a point (x, y). Type 'quit' to exit program.\")  \n",
    "\n",
    "while True:  \n",
    "    user_input = input(\"Enter the coordinates (x, y): \")  \n",
    "    \n",
    "    if user_input.lower() == 'quit':  \n",
    "        print(\"Thank you goodbye!\")  \n",
    "        break  \n",
    "        \n",
    "    try:  \n",
    "        x, y = map(float, user_input.split(','))  \n",
    "        if x == 0 and y == 0:  \n",
    "            print(\"The point is at the origin.\")  \n",
    "        elif x == 0:  \n",
    "            print(\"The point lies on the y-axis.\")  \n",
    "        elif y == 0:  \n",
    "            print(\"The point lies on the x-axis.\")  \n",
    "        elif x > 0 and y > 0:  \n",
    "            print(\"The point is in the 1st quadrant.\")  \n",
    "        elif x < 0 and y > 0:  \n",
    "            print(\"The point is in the 2nd quadrant.\")  \n",
    "        elif x < 0 and y < 0:  \n",
    "            print(\"The point is in the 3rd quadrant.\")  \n",
    "        else:  # x > 0 and y < 0  \n",
    "            print(\"The point is in the 4th quadrant.\")  \n",
    "            \n",
    "    except ValueError:  \n",
    "        print(\"Invalid input! Please enter coordinates in the format 'x, y'.\")"
   ]
  },
  {
   "cell_type": "code",
   "execution_count": 145,
   "id": "86fde276-1398-4d93-bfe8-2849629e91c1",
   "metadata": {},
   "outputs": [
    {
     "name": "stdin",
     "output_type": "stream",
     "text": [
      "Enter a value between 0 and 9:  -4\n"
     ]
    },
    {
     "name": "stdout",
     "output_type": "stream",
     "text": [
      "Invalid input. Please enter a number between 0 and 9.\n"
     ]
    },
    {
     "name": "stdin",
     "output_type": "stream",
     "text": [
      "Enter a value between 0 and 9:  4\n",
      "Enter the max value between 0 and 255:  -40\n"
     ]
    },
    {
     "name": "stdout",
     "output_type": "stream",
     "text": [
      "Invalid input. Please enter a number between 0 and 255.\n"
     ]
    },
    {
     "name": "stdin",
     "output_type": "stream",
     "text": [
      "Enter the max value between 0 and 255:  40\n"
     ]
    },
    {
     "name": "stdout",
     "output_type": "stream",
     "text": [
      "\n",
      "The multiples of 4 between 0 and 40 are:\n",
      "0 4 8 12 16 20 24 28 32 36 40 "
     ]
    },
    {
     "name": "stdin",
     "output_type": "stream",
     "text": [
      "Type 'yes' to continue or any other key to terminate the program:  yes\n",
      "Enter a value between 0 and 9:  6\n",
      "Enter the max value between 0 and 255:  120\n"
     ]
    },
    {
     "name": "stdout",
     "output_type": "stream",
     "text": [
      "\n",
      "The multiples of 6 between 0 and 120 are:\n",
      "0 6 12 18 24 30 36 42 48 54 60 66 72 78 84 90 96 102 108 114 120 "
     ]
    },
    {
     "name": "stdin",
     "output_type": "stream",
     "text": [
      "Type 'yes' to continue or any other key to terminate the program:  t\n"
     ]
    },
    {
     "name": "stdout",
     "output_type": "stream",
     "text": [
      "Program terminated.\n"
     ]
    }
   ],
   "source": [
    "# question 14 Ask for an integer number between 0 and 9, denoted x. Once the user has entered a correct\n",
    "# number (that is one in the range [0..10)) the program asks for a second integer number\n",
    "# between 0 and 255, denoted max. The program continues asking for the number until it\n",
    "# is correct (that it is in the range [0..256)). When this is done, show all multiples of x that\n",
    "# are between 0 and max. Then, ask the user whether he/she wants to continue; if in the\n",
    "# affirmative, ask for another couple of numbers, otherwise finish.\n",
    "while True:    \n",
    "    x_input = int(input(\"Enter a value between 0 and 9: \"))  \n",
    "    while x_input < 0 or x_input > 9:  \n",
    "        print(\"Invalid input. Please enter a number between 0 and 9.\")  \n",
    "        x_input = int(input(\"Enter a value between 0 and 9: \"))  \n",
    "\n",
    "    # Ask for max_input within the range [0..255]  \n",
    "    max_input = int(input(\"Enter the max value between 0 and 255: \"))  \n",
    "    while max_input < 0 or max_input > 255:  \n",
    "        print(\"Invalid input. Please enter a number between 0 and 255.\")  \n",
    "        max_input = int(input(\"Enter the max value between 0 and 255: \"))\n",
    "    print(f\"\\nThe multiples of {x_input} between 0 and {max_input} are:\")  \n",
    "    for i in range(0, max_input + 1, x_input):  \n",
    "        print(i, end=' ')   \n",
    "    user_decision = input(\"Type 'yes' to continue or any other key to terminate the program: \")  \n",
    "    if user_decision.lower() != \"yes\":  \n",
    "        break  \n",
    "\n",
    "print(\"Program terminated.\")"
   ]
  },
  {
   "cell_type": "code",
   "execution_count": null,
   "id": "720f345d-00dc-43d1-9aad-77c31e97d48d",
   "metadata": {},
   "outputs": [],
   "source": []
  }
 ],
 "metadata": {
  "kernelspec": {
   "display_name": "Python 3 (ipykernel)",
   "language": "python",
   "name": "python3"
  },
  "language_info": {
   "codemirror_mode": {
    "name": "ipython",
    "version": 3
   },
   "file_extension": ".py",
   "mimetype": "text/x-python",
   "name": "python",
   "nbconvert_exporter": "python",
   "pygments_lexer": "ipython3",
   "version": "3.12.4"
  }
 },
 "nbformat": 4,
 "nbformat_minor": 5
}
